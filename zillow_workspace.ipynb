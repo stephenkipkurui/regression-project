{
 "cells": [
  {
   "cell_type": "markdown",
   "id": "ade221f2",
   "metadata": {},
   "source": [
    "# Regression Module Project: Estimating Zillow Home Value"
   ]
  },
  {
   "cell_type": "markdown",
   "id": "7190afe9",
   "metadata": {},
   "source": [
    "### Project Scenario:\n",
    "You are a junior data scientist on the __Zillow data science team__ and recieve the following email in your inbox:\n",
    "\n",
    "__We want to be able to predict the property tax assessed values ('taxvaluedollarcnt') of Single Family Properties that had a transaction during 2017.__\n",
    "\n",
    "We have a model already, but we are hoping your insights can help us improve it. __I need recommendations on a way to make a better model.__ Maybe you will create a new feature out of existing ones that works better, try a non-linear regression algorithm, or try to create a different model for each county. Whatever you find that works (or doesn't work) will be useful. Given you have just joined our team, we are excited to see your outside perspective.\n",
    "\n",
    "(One last thing, Zach lost the email that told us where these properties were located. Ugh, Zach :-/. Because property taxes are assessed at the county level, we would like to know what states and counties these are located in).\n",
    "\n",
    "-- The Zillow Data Science Team\n",
    "\n"
   ]
  },
  {
   "cell_type": "markdown",
   "id": "d12a6c41",
   "metadata": {},
   "source": [
    "## Import Required Libraries"
   ]
  },
  {
   "cell_type": "code",
   "execution_count": 1,
   "id": "fdb1269e",
   "metadata": {},
   "outputs": [],
   "source": [
    "import pandas as pd\n",
    "import numpy as np\n",
    "import matplotlib.pyplot as plt\n",
    "import seaborn as sns\n",
    "import datetime\n",
    "\n",
    "from acquire import get_zillow\n",
    "from prepare import prepare_zillow\n",
    "\n",
    "from scipy import stats\n",
    "import sklearn.preprocessing\n",
    "from sklearn.linear_model import LinearRegression\n",
    "from sklearn.feature_selection import SelectKBest, f_regression, RFE, SequentialFeatureSelector\n",
    "\n",
    "from evaluate import select_kbest_feature_engineering, rfe_feature_engineering, scaled_data, assessed_value_regression_plot\n"
   ]
  },
  {
   "cell_type": "markdown",
   "id": "39cb9a30",
   "metadata": {},
   "source": [
    "## Acquire prepped and split data\n",
    "\n",
    "#### - Moving forward, train data will be used to prevent data leakage"
   ]
  },
  {
   "cell_type": "code",
   "execution_count": 2,
   "id": "e7798759",
   "metadata": {},
   "outputs": [
    {
     "name": "stdout",
     "output_type": "stream",
     "text": [
      "Status: Acquiring data from cached csv file..\n"
     ]
    }
   ],
   "source": [
    "train, validate, test = prepare_zillow()"
   ]
  },
  {
   "cell_type": "code",
   "execution_count": 3,
   "id": "b752d48b",
   "metadata": {},
   "outputs": [
    {
     "name": "stdout",
     "output_type": "stream",
     "text": [
      "\n",
      "\tTrain Shape: (29297, 8)\n",
      "\n",
      "\tValidate Shape: (12557, 8)\n",
      "\n",
      "\tTest Shape: (10464, 8)\n"
     ]
    }
   ],
   "source": [
    "# Examine split integrity\n",
    "print(f'\\n\\tTrain Shape: {train.shape}\\n\\n\\tValidate Shape: {validate.shape}\\n\\n\\tTest Shape: {test.shape}' )"
   ]
  },
  {
   "cell_type": "markdown",
   "id": "d057918c",
   "metadata": {},
   "source": [
    "## Initial Data Explolatory Analysis"
   ]
  },
  {
   "cell_type": "code",
   "execution_count": 4,
   "id": "fd4c2cf1",
   "metadata": {},
   "outputs": [
    {
     "data": {
      "text/html": [
       "<div>\n",
       "<style scoped>\n",
       "    .dataframe tbody tr th:only-of-type {\n",
       "        vertical-align: middle;\n",
       "    }\n",
       "\n",
       "    .dataframe tbody tr th {\n",
       "        vertical-align: top;\n",
       "    }\n",
       "\n",
       "    .dataframe thead th {\n",
       "        text-align: right;\n",
       "    }\n",
       "</style>\n",
       "<table border=\"1\" class=\"dataframe\">\n",
       "  <thead>\n",
       "    <tr style=\"text-align: right;\">\n",
       "      <th></th>\n",
       "      <th>bed_count</th>\n",
       "      <th>bath_count</th>\n",
       "      <th>square_feet</th>\n",
       "      <th>assessed_value</th>\n",
       "      <th>year_built</th>\n",
       "      <th>fips</th>\n",
       "      <th>trans_date</th>\n",
       "      <th>trans_month</th>\n",
       "    </tr>\n",
       "  </thead>\n",
       "  <tbody>\n",
       "    <tr>\n",
       "      <th>16035</th>\n",
       "      <td>3.0</td>\n",
       "      <td>2.0</td>\n",
       "      <td>1522.0</td>\n",
       "      <td>64360.0</td>\n",
       "      <td>1925.0</td>\n",
       "      <td>6037.0</td>\n",
       "      <td>2017-04-14</td>\n",
       "      <td>4</td>\n",
       "    </tr>\n",
       "    <tr>\n",
       "      <th>44800</th>\n",
       "      <td>2.0</td>\n",
       "      <td>1.0</td>\n",
       "      <td>900.0</td>\n",
       "      <td>338073.0</td>\n",
       "      <td>1951.0</td>\n",
       "      <td>6037.0</td>\n",
       "      <td>2017-08-10</td>\n",
       "      <td>8</td>\n",
       "    </tr>\n",
       "    <tr>\n",
       "      <th>20047</th>\n",
       "      <td>2.0</td>\n",
       "      <td>1.0</td>\n",
       "      <td>807.0</td>\n",
       "      <td>51727.0</td>\n",
       "      <td>1951.0</td>\n",
       "      <td>6037.0</td>\n",
       "      <td>2017-04-21</td>\n",
       "      <td>4</td>\n",
       "    </tr>\n",
       "    <tr>\n",
       "      <th>5077</th>\n",
       "      <td>3.0</td>\n",
       "      <td>3.0</td>\n",
       "      <td>2458.0</td>\n",
       "      <td>653996.0</td>\n",
       "      <td>1985.0</td>\n",
       "      <td>6059.0</td>\n",
       "      <td>2017-02-16</td>\n",
       "      <td>2</td>\n",
       "    </tr>\n",
       "    <tr>\n",
       "      <th>36597</th>\n",
       "      <td>3.0</td>\n",
       "      <td>2.0</td>\n",
       "      <td>1386.0</td>\n",
       "      <td>242779.0</td>\n",
       "      <td>1962.0</td>\n",
       "      <td>6037.0</td>\n",
       "      <td>2017-06-30</td>\n",
       "      <td>6</td>\n",
       "    </tr>\n",
       "  </tbody>\n",
       "</table>\n",
       "</div>"
      ],
      "text/plain": [
       "       bed_count  bath_count  square_feet  assessed_value  year_built    fips  \\\n",
       "16035        3.0         2.0       1522.0         64360.0      1925.0  6037.0   \n",
       "44800        2.0         1.0        900.0        338073.0      1951.0  6037.0   \n",
       "20047        2.0         1.0        807.0         51727.0      1951.0  6037.0   \n",
       "5077         3.0         3.0       2458.0        653996.0      1985.0  6059.0   \n",
       "36597        3.0         2.0       1386.0        242779.0      1962.0  6037.0   \n",
       "\n",
       "      trans_date  trans_month  \n",
       "16035 2017-04-14            4  \n",
       "44800 2017-08-10            8  \n",
       "20047 2017-04-21            4  \n",
       "5077  2017-02-16            2  \n",
       "36597 2017-06-30            6  "
      ]
     },
     "execution_count": 4,
     "metadata": {},
     "output_type": "execute_result"
    }
   ],
   "source": [
    "train.head()"
   ]
  },
  {
   "cell_type": "code",
   "execution_count": 5,
   "id": "17d41a54",
   "metadata": {},
   "outputs": [],
   "source": [
    "# Split trans date into month and date and remove trailing .0 from year_built\n",
    "\n",
    "train['trans_month'] = pd.DatetimeIndex(train['trans_date']).month\n",
    "train['trans_day'] = pd.DatetimeIndex(train['trans_date']).day\n",
    "train['built_year'] = train['year_built'].astype('int64')\n",
    "train['zip_code'] = train['fips'].astype('int64')\n",
    "\n",
    "train = train.drop(columns = ['trans_date', 'year_built','fips'])\n",
    "\n",
    "validate['trans_month'] = pd.DatetimeIndex(validate['trans_date']).month\n",
    "validate['trans_day'] = pd.DatetimeIndex(validate['trans_date']).day\n",
    "validate['built_year'] = validate['year_built'].astype('int64')\n",
    "validate['zip_code'] = validate['fips'].astype('int64')\n",
    "\n",
    "validate = validate.drop(columns = ['trans_date', 'year_built','fips'])\n",
    "\n",
    "test['trans_month'] = pd.DatetimeIndex(test['trans_date']).month\n",
    "test['trans_day'] = pd.DatetimeIndex(test['trans_date']).day\n",
    "test['built_year'] = test['year_built'].astype('int64')\n",
    "test['zip_code'] = test['fips'].astype('int64')\n",
    "\n",
    "test = test.drop(columns = ['trans_date', 'year_built', 'fips'])\n",
    "\n"
   ]
  },
  {
   "cell_type": "code",
   "execution_count": 6,
   "id": "1dbb41b2",
   "metadata": {},
   "outputs": [
    {
     "data": {
      "text/html": [
       "<div>\n",
       "<style scoped>\n",
       "    .dataframe tbody tr th:only-of-type {\n",
       "        vertical-align: middle;\n",
       "    }\n",
       "\n",
       "    .dataframe tbody tr th {\n",
       "        vertical-align: top;\n",
       "    }\n",
       "\n",
       "    .dataframe thead th {\n",
       "        text-align: right;\n",
       "    }\n",
       "</style>\n",
       "<table border=\"1\" class=\"dataframe\">\n",
       "  <thead>\n",
       "    <tr style=\"text-align: right;\">\n",
       "      <th></th>\n",
       "      <th>bed_count</th>\n",
       "      <th>bath_count</th>\n",
       "      <th>square_feet</th>\n",
       "      <th>assessed_value</th>\n",
       "      <th>trans_month</th>\n",
       "      <th>trans_day</th>\n",
       "      <th>built_year</th>\n",
       "      <th>zip_code</th>\n",
       "    </tr>\n",
       "  </thead>\n",
       "  <tbody>\n",
       "    <tr>\n",
       "      <th>16035</th>\n",
       "      <td>3.0</td>\n",
       "      <td>2.0</td>\n",
       "      <td>1522.0</td>\n",
       "      <td>64360.0</td>\n",
       "      <td>4</td>\n",
       "      <td>14</td>\n",
       "      <td>1925</td>\n",
       "      <td>6037</td>\n",
       "    </tr>\n",
       "    <tr>\n",
       "      <th>44800</th>\n",
       "      <td>2.0</td>\n",
       "      <td>1.0</td>\n",
       "      <td>900.0</td>\n",
       "      <td>338073.0</td>\n",
       "      <td>8</td>\n",
       "      <td>10</td>\n",
       "      <td>1951</td>\n",
       "      <td>6037</td>\n",
       "    </tr>\n",
       "    <tr>\n",
       "      <th>20047</th>\n",
       "      <td>2.0</td>\n",
       "      <td>1.0</td>\n",
       "      <td>807.0</td>\n",
       "      <td>51727.0</td>\n",
       "      <td>4</td>\n",
       "      <td>21</td>\n",
       "      <td>1951</td>\n",
       "      <td>6037</td>\n",
       "    </tr>\n",
       "    <tr>\n",
       "      <th>5077</th>\n",
       "      <td>3.0</td>\n",
       "      <td>3.0</td>\n",
       "      <td>2458.0</td>\n",
       "      <td>653996.0</td>\n",
       "      <td>2</td>\n",
       "      <td>16</td>\n",
       "      <td>1985</td>\n",
       "      <td>6059</td>\n",
       "    </tr>\n",
       "    <tr>\n",
       "      <th>36597</th>\n",
       "      <td>3.0</td>\n",
       "      <td>2.0</td>\n",
       "      <td>1386.0</td>\n",
       "      <td>242779.0</td>\n",
       "      <td>6</td>\n",
       "      <td>30</td>\n",
       "      <td>1962</td>\n",
       "      <td>6037</td>\n",
       "    </tr>\n",
       "  </tbody>\n",
       "</table>\n",
       "</div>"
      ],
      "text/plain": [
       "       bed_count  bath_count  square_feet  assessed_value  trans_month  \\\n",
       "16035        3.0         2.0       1522.0         64360.0            4   \n",
       "44800        2.0         1.0        900.0        338073.0            8   \n",
       "20047        2.0         1.0        807.0         51727.0            4   \n",
       "5077         3.0         3.0       2458.0        653996.0            2   \n",
       "36597        3.0         2.0       1386.0        242779.0            6   \n",
       "\n",
       "       trans_day  built_year  zip_code  \n",
       "16035         14        1925      6037  \n",
       "44800         10        1951      6037  \n",
       "20047         21        1951      6037  \n",
       "5077          16        1985      6059  \n",
       "36597         30        1962      6037  "
      ]
     },
     "execution_count": 6,
     "metadata": {},
     "output_type": "execute_result"
    }
   ],
   "source": [
    "train.head()"
   ]
  },
  {
   "cell_type": "markdown",
   "id": "63d65924",
   "metadata": {},
   "source": [
    "## Map locations with National Data"
   ]
  },
  {
   "cell_type": "code",
   "execution_count": 7,
   "id": "5a279692",
   "metadata": {},
   "outputs": [
    {
     "data": {
      "text/plain": [
       "array([6037, 6059, 6111])"
      ]
     },
     "execution_count": 7,
     "metadata": {},
     "output_type": "execute_result"
    }
   ],
   "source": [
    "# Map fits with national data  \n",
    "# (Source: https://www.nrcs.usda.gov/wps/portal/nrcs/detail/national/home/?cid=nrcs143_013697)\n",
    "\n",
    "# Get unique locations\n",
    "location = train.zip_code.unique()\n",
    "location"
   ]
  },
  {
   "cell_type": "markdown",
   "id": "ca695de8",
   "metadata": {},
   "source": [
    "### Create new columns with names of city"
   ]
  },
  {
   "cell_type": "code",
   "execution_count": 8,
   "id": "57a2ed65",
   "metadata": {},
   "outputs": [
    {
     "data": {
      "text/html": [
       "<div>\n",
       "<style scoped>\n",
       "    .dataframe tbody tr th:only-of-type {\n",
       "        vertical-align: middle;\n",
       "    }\n",
       "\n",
       "    .dataframe tbody tr th {\n",
       "        vertical-align: top;\n",
       "    }\n",
       "\n",
       "    .dataframe thead th {\n",
       "        text-align: right;\n",
       "    }\n",
       "</style>\n",
       "<table border=\"1\" class=\"dataframe\">\n",
       "  <thead>\n",
       "    <tr style=\"text-align: right;\">\n",
       "      <th></th>\n",
       "      <th>bed_count</th>\n",
       "      <th>bath_count</th>\n",
       "      <th>square_feet</th>\n",
       "      <th>assessed_value</th>\n",
       "      <th>trans_month</th>\n",
       "      <th>trans_day</th>\n",
       "      <th>built_year</th>\n",
       "      <th>zip_code</th>\n",
       "      <th>city</th>\n",
       "    </tr>\n",
       "  </thead>\n",
       "  <tbody>\n",
       "    <tr>\n",
       "      <th>16035</th>\n",
       "      <td>3.0</td>\n",
       "      <td>2.0</td>\n",
       "      <td>1522.0</td>\n",
       "      <td>64360.0</td>\n",
       "      <td>4</td>\n",
       "      <td>14</td>\n",
       "      <td>1925</td>\n",
       "      <td>6037</td>\n",
       "      <td>Los Angeles</td>\n",
       "    </tr>\n",
       "    <tr>\n",
       "      <th>44800</th>\n",
       "      <td>2.0</td>\n",
       "      <td>1.0</td>\n",
       "      <td>900.0</td>\n",
       "      <td>338073.0</td>\n",
       "      <td>8</td>\n",
       "      <td>10</td>\n",
       "      <td>1951</td>\n",
       "      <td>6037</td>\n",
       "      <td>Los Angeles</td>\n",
       "    </tr>\n",
       "    <tr>\n",
       "      <th>20047</th>\n",
       "      <td>2.0</td>\n",
       "      <td>1.0</td>\n",
       "      <td>807.0</td>\n",
       "      <td>51727.0</td>\n",
       "      <td>4</td>\n",
       "      <td>21</td>\n",
       "      <td>1951</td>\n",
       "      <td>6037</td>\n",
       "      <td>Los Angeles</td>\n",
       "    </tr>\n",
       "    <tr>\n",
       "      <th>5077</th>\n",
       "      <td>3.0</td>\n",
       "      <td>3.0</td>\n",
       "      <td>2458.0</td>\n",
       "      <td>653996.0</td>\n",
       "      <td>2</td>\n",
       "      <td>16</td>\n",
       "      <td>1985</td>\n",
       "      <td>6059</td>\n",
       "      <td>Orange</td>\n",
       "    </tr>\n",
       "    <tr>\n",
       "      <th>36597</th>\n",
       "      <td>3.0</td>\n",
       "      <td>2.0</td>\n",
       "      <td>1386.0</td>\n",
       "      <td>242779.0</td>\n",
       "      <td>6</td>\n",
       "      <td>30</td>\n",
       "      <td>1962</td>\n",
       "      <td>6037</td>\n",
       "      <td>Los Angeles</td>\n",
       "    </tr>\n",
       "  </tbody>\n",
       "</table>\n",
       "</div>"
      ],
      "text/plain": [
       "       bed_count  bath_count  square_feet  assessed_value  trans_month  \\\n",
       "16035        3.0         2.0       1522.0         64360.0            4   \n",
       "44800        2.0         1.0        900.0        338073.0            8   \n",
       "20047        2.0         1.0        807.0         51727.0            4   \n",
       "5077         3.0         3.0       2458.0        653996.0            2   \n",
       "36597        3.0         2.0       1386.0        242779.0            6   \n",
       "\n",
       "       trans_day  built_year  zip_code         city  \n",
       "16035         14        1925      6037  Los Angeles  \n",
       "44800         10        1951      6037  Los Angeles  \n",
       "20047         21        1951      6037  Los Angeles  \n",
       "5077          16        1985      6059       Orange  \n",
       "36597         30        1962      6037  Los Angeles  "
      ]
     },
     "execution_count": 8,
     "metadata": {},
     "output_type": "execute_result"
    }
   ],
   "source": [
    "train['city'] = train.zip_code.replace({6037: 'Los Angeles', 6059:'Orange', 6111:'Ventura'})\n",
    "validate['city'] = validate.zip_code.replace({6037: 'Los Angeles', 6059:'Orange', 6111:'Ventura'})\n",
    "test['city'] = test.zip_code.replace({6037: 'Los Angeles', 6059:'Orange', 6111:'Ventura'})\n",
    "\n",
    "train.head()"
   ]
  },
  {
   "cell_type": "code",
   "execution_count": 9,
   "id": "0b5c1370",
   "metadata": {},
   "outputs": [],
   "source": [
    "# from uszipcode import SearchEngine, SimpleZipcode, Zipcode\n",
    "\n",
    "# search = SearchEngine()\n",
    "\n",
    "# def zco(x):\n",
    "#     city = search.by_zipcode(x).major_city\n",
    "#     return city if city else 'None'\n",
    "\n",
    "# train['metro'] = train['zipcode'].apply(zco)"
   ]
  },
  {
   "cell_type": "code",
   "execution_count": 10,
   "id": "907730c9",
   "metadata": {},
   "outputs": [
    {
     "data": {
      "text/html": [
       "<div>\n",
       "<style scoped>\n",
       "    .dataframe tbody tr th:only-of-type {\n",
       "        vertical-align: middle;\n",
       "    }\n",
       "\n",
       "    .dataframe tbody tr th {\n",
       "        vertical-align: top;\n",
       "    }\n",
       "\n",
       "    .dataframe thead th {\n",
       "        text-align: right;\n",
       "    }\n",
       "</style>\n",
       "<table border=\"1\" class=\"dataframe\">\n",
       "  <thead>\n",
       "    <tr style=\"text-align: right;\">\n",
       "      <th></th>\n",
       "      <th>bed_count</th>\n",
       "      <th>bath_count</th>\n",
       "      <th>square_feet</th>\n",
       "      <th>assessed_value</th>\n",
       "      <th>trans_month</th>\n",
       "      <th>trans_day</th>\n",
       "      <th>built_year</th>\n",
       "      <th>zip_code</th>\n",
       "    </tr>\n",
       "  </thead>\n",
       "  <tbody>\n",
       "    <tr>\n",
       "      <th>count</th>\n",
       "      <td>29297.000000</td>\n",
       "      <td>29297.000000</td>\n",
       "      <td>29297.000000</td>\n",
       "      <td>2.929700e+04</td>\n",
       "      <td>29297.000000</td>\n",
       "      <td>29297.000000</td>\n",
       "      <td>29297.000000</td>\n",
       "      <td>29297.000000</td>\n",
       "    </tr>\n",
       "    <tr>\n",
       "      <th>mean</th>\n",
       "      <td>3.311773</td>\n",
       "      <td>2.303137</td>\n",
       "      <td>1922.911561</td>\n",
       "      <td>5.258636e+05</td>\n",
       "      <td>5.051712</td>\n",
       "      <td>16.478479</td>\n",
       "      <td>1963.286821</td>\n",
       "      <td>6049.144861</td>\n",
       "    </tr>\n",
       "    <tr>\n",
       "      <th>std</th>\n",
       "      <td>0.933666</td>\n",
       "      <td>1.012818</td>\n",
       "      <td>987.408513</td>\n",
       "      <td>7.157899e+05</td>\n",
       "      <td>2.347439</td>\n",
       "      <td>8.964306</td>\n",
       "      <td>23.128629</td>\n",
       "      <td>21.030609</td>\n",
       "    </tr>\n",
       "    <tr>\n",
       "      <th>min</th>\n",
       "      <td>0.000000</td>\n",
       "      <td>0.000000</td>\n",
       "      <td>152.000000</td>\n",
       "      <td>9.242000e+03</td>\n",
       "      <td>1.000000</td>\n",
       "      <td>1.000000</td>\n",
       "      <td>1878.000000</td>\n",
       "      <td>6037.000000</td>\n",
       "    </tr>\n",
       "    <tr>\n",
       "      <th>25%</th>\n",
       "      <td>3.000000</td>\n",
       "      <td>2.000000</td>\n",
       "      <td>1270.000000</td>\n",
       "      <td>1.933730e+05</td>\n",
       "      <td>3.000000</td>\n",
       "      <td>9.000000</td>\n",
       "      <td>1950.000000</td>\n",
       "      <td>6037.000000</td>\n",
       "    </tr>\n",
       "    <tr>\n",
       "      <th>50%</th>\n",
       "      <td>3.000000</td>\n",
       "      <td>2.000000</td>\n",
       "      <td>1664.000000</td>\n",
       "      <td>3.724420e+05</td>\n",
       "      <td>5.000000</td>\n",
       "      <td>16.000000</td>\n",
       "      <td>1961.000000</td>\n",
       "      <td>6037.000000</td>\n",
       "    </tr>\n",
       "    <tr>\n",
       "      <th>75%</th>\n",
       "      <td>4.000000</td>\n",
       "      <td>3.000000</td>\n",
       "      <td>2312.000000</td>\n",
       "      <td>6.190000e+05</td>\n",
       "      <td>7.000000</td>\n",
       "      <td>24.000000</td>\n",
       "      <td>1979.000000</td>\n",
       "      <td>6059.000000</td>\n",
       "    </tr>\n",
       "    <tr>\n",
       "      <th>max</th>\n",
       "      <td>12.000000</td>\n",
       "      <td>11.000000</td>\n",
       "      <td>21929.000000</td>\n",
       "      <td>2.434570e+07</td>\n",
       "      <td>9.000000</td>\n",
       "      <td>31.000000</td>\n",
       "      <td>2016.000000</td>\n",
       "      <td>6111.000000</td>\n",
       "    </tr>\n",
       "  </tbody>\n",
       "</table>\n",
       "</div>"
      ],
      "text/plain": [
       "          bed_count    bath_count   square_feet  assessed_value   trans_month  \\\n",
       "count  29297.000000  29297.000000  29297.000000    2.929700e+04  29297.000000   \n",
       "mean       3.311773      2.303137   1922.911561    5.258636e+05      5.051712   \n",
       "std        0.933666      1.012818    987.408513    7.157899e+05      2.347439   \n",
       "min        0.000000      0.000000    152.000000    9.242000e+03      1.000000   \n",
       "25%        3.000000      2.000000   1270.000000    1.933730e+05      3.000000   \n",
       "50%        3.000000      2.000000   1664.000000    3.724420e+05      5.000000   \n",
       "75%        4.000000      3.000000   2312.000000    6.190000e+05      7.000000   \n",
       "max       12.000000     11.000000  21929.000000    2.434570e+07      9.000000   \n",
       "\n",
       "          trans_day    built_year      zip_code  \n",
       "count  29297.000000  29297.000000  29297.000000  \n",
       "mean      16.478479   1963.286821   6049.144861  \n",
       "std        8.964306     23.128629     21.030609  \n",
       "min        1.000000   1878.000000   6037.000000  \n",
       "25%        9.000000   1950.000000   6037.000000  \n",
       "50%       16.000000   1961.000000   6037.000000  \n",
       "75%       24.000000   1979.000000   6059.000000  \n",
       "max       31.000000   2016.000000   6111.000000  "
      ]
     },
     "execution_count": 10,
     "metadata": {},
     "output_type": "execute_result"
    }
   ],
   "source": [
    "# Describe the data\n",
    "\n",
    "train.describe()"
   ]
  },
  {
   "cell_type": "code",
   "execution_count": 11,
   "id": "d31b067f",
   "metadata": {},
   "outputs": [
    {
     "name": "stdout",
     "output_type": "stream",
     "text": [
      "<class 'pandas.core.frame.DataFrame'>\n",
      "Int64Index: 29297 entries, 16035 to 39200\n",
      "Data columns (total 9 columns):\n",
      " #   Column          Non-Null Count  Dtype  \n",
      "---  ------          --------------  -----  \n",
      " 0   bed_count       29297 non-null  float64\n",
      " 1   bath_count      29297 non-null  float64\n",
      " 2   square_feet     29297 non-null  float64\n",
      " 3   assessed_value  29297 non-null  float64\n",
      " 4   trans_month     29297 non-null  int64  \n",
      " 5   trans_day       29297 non-null  int64  \n",
      " 6   built_year      29297 non-null  int64  \n",
      " 7   zip_code        29297 non-null  int64  \n",
      " 8   city            29297 non-null  object \n",
      "dtypes: float64(4), int64(4), object(1)\n",
      "memory usage: 2.2+ MB\n"
     ]
    }
   ],
   "source": [
    "# Get data summary information\n",
    "train.info()"
   ]
  },
  {
   "cell_type": "code",
   "execution_count": 12,
   "id": "3aa802b9",
   "metadata": {},
   "outputs": [
    {
     "data": {
      "text/plain": [
       "bed_count         0\n",
       "bath_count        0\n",
       "square_feet       0\n",
       "assessed_value    0\n",
       "trans_month       0\n",
       "trans_day         0\n",
       "built_year        0\n",
       "zip_code          0\n",
       "city              0\n",
       "dtype: int64"
      ]
     },
     "execution_count": 12,
     "metadata": {},
     "output_type": "execute_result"
    }
   ],
   "source": [
    "# Check for null values\n",
    "train.isnull().sum()"
   ]
  },
  {
   "cell_type": "code",
   "execution_count": 13,
   "id": "18baefe2",
   "metadata": {},
   "outputs": [
    {
     "data": {
      "text/plain": [
       "False"
      ]
     },
     "execution_count": 13,
     "metadata": {},
     "output_type": "execute_result"
    }
   ],
   "source": [
    "# Any null columns?\n",
    "train.columns.isnull().any()"
   ]
  },
  {
   "cell_type": "code",
   "execution_count": 14,
   "id": "0b2c0ddd",
   "metadata": {},
   "outputs": [
    {
     "data": {
      "text/plain": [
       "bed_count  bath_count  square_feet  assessed_value  trans_month  trans_day  built_year  zip_code  city       \n",
       "3.0        2.0         1050.0       259334.0        5            25         1960        6037      Los Angeles    2\n",
       "0.0        0.0         400.0        49627.0         5            1          1950        6037      Los Angeles    1\n",
       "4.0        2.0         1576.0       82375.0         5            1          1952        6037      Los Angeles    1\n",
       "                       1578.0       397610.0        5            2          1978        6111      Ventura        1\n",
       "                                    96458.0         6            16         1959        6037      Los Angeles    1\n",
       "                                                                                                                ..\n",
       "3.0        2.0         1337.0       109332.0        6            1          1953        6037      Los Angeles    1\n",
       "                       1336.0       965007.0        1            26         1946        6037      Los Angeles    1\n",
       "                                    569000.0        6            2          1953        6037      Los Angeles    1\n",
       "                                    464000.0        6            22         1956        6059      Orange         1\n",
       "12.0       6.0         8469.0       2485282.0       6            9          1909        6037      Los Angeles    1\n",
       "Length: 29296, dtype: int64"
      ]
     },
     "execution_count": 14,
     "metadata": {},
     "output_type": "execute_result"
    }
   ],
   "source": [
    "# Value counts\n",
    "train.value_counts()"
   ]
  },
  {
   "cell_type": "markdown",
   "id": "96caa57c",
   "metadata": {},
   "source": [
    "## Data Scalling\n",
    "\n",
    "### Standart scaler Choosen: (Result will have a mean of 0 and a standard deviation of 1)\n"
   ]
  },
  {
   "cell_type": "code",
   "execution_count": 15,
   "id": "5e80f8c4",
   "metadata": {},
   "outputs": [],
   "source": [
    "# # # Create a scaler object\n",
    "# # scaler = sklearn.preprocessing.StandardScaler()\n",
    "\n",
    "# # # Fit on train subset\n",
    "# # scaler.fit(train)\n",
    "\n",
    "#  # Transform scaler to train, validate and test subsets\n",
    "# train_scaled = scaler.transform(train)\n",
    "# validate_scaled = scaler.transform(validate)\n",
    "# test_scaled = scaler.transform(test)\n",
    "\n",
    "# plt.figure(figsize=(13, 6))\n",
    "# plt.subplot(121)\n",
    "# plt.hist(train, bins=25, ec='black')\n",
    "# plt.title('Original')\n",
    "# plt.subplot(122)\n",
    "# plt.hist(train_scaled, bins=25, ec='black')\n",
    "# plt.title('Scaled')"
   ]
  },
  {
   "cell_type": "code",
   "execution_count": null,
   "id": "a3b15674",
   "metadata": {},
   "outputs": [],
   "source": []
  },
  {
   "cell_type": "code",
   "execution_count": 16,
   "id": "aff12f39",
   "metadata": {
    "scrolled": false
   },
   "outputs": [
    {
     "data": {
      "image/png": "[encoded data removed]",
      "text/plain": [
       "<Figure size 1152x576 with 1 Axes>"
      ]
     },
     "metadata": {
      "needs_background": "light"
     },
     "output_type": "display_data"
    },
    {
     "data": {
      "image/png": "[encoded data removed]",
      "text/plain": [
       "<Figure size 1152x576 with 1 Axes>"
      ]
     },
     "metadata": {
      "needs_background": "light"
     },
     "output_type": "display_data"
    },
    {
     "data": {
      "image/png": "[encoded data removed]",
      "text/plain": [
       "<Figure size 1152x576 with 1 Axes>"
      ]
     },
     "metadata": {
      "needs_background": "light"
     },
     "output_type": "display_data"
    },
    {
     "data": {
      "image/png": "[encoded data removed]",
      "text/plain": [
       "<Figure size 1152x576 with 1 Axes>"
      ]
     },
     "metadata": {
      "needs_background": "light"
     },
     "output_type": "display_data"
    },
    {
     "data": {
      "image/png": "[encoded data removed]",
      "text/plain": [
       "<Figure size 1152x576 with 1 Axes>"
      ]
     },
     "metadata": {
      "needs_background": "light"
     },
     "output_type": "display_data"
    },
    {
     "data": {
      "image/png": "[encoded data removed]",
      "text/plain": [
       "<Figure size 1152x576 with 1 Axes>"
      ]
     },
     "metadata": {
      "needs_background": "light"
     },
     "output_type": "display_data"
    }
   ],
   "source": [
    "# Initial Visualizations\n",
    "plt.figure(figsize = (16, 8))\n",
    "plt.title('Bedroom Count Distribution ')\n",
    "plt.ylabel('Count #')\n",
    "plt.xlabel('Number of bedrooms')\n",
    "train.bed_count.hist()\n",
    "plt.show()\n",
    "plt.figure(figsize = (16, 8))\n",
    "plt.title('Bathroom Count Distribution ')\n",
    "plt.ylabel('Count #')\n",
    "plt.xlabel('Number of bathrooms')\n",
    "train.bath_count.hist()\n",
    "plt.show()\n",
    "plt.figure(figsize = (16, 8))\n",
    "plt.title('Square Feet Count Distribution ')\n",
    "plt.ylabel('Count #')\n",
    "plt.xlabel('Square feet')\n",
    "train.square_feet.hist()\n",
    "plt.show()\n",
    "plt.figure(figsize = (16, 8))\n",
    "plt.title('Assessed Value Count Distribution')\n",
    "plt.ylabel('Count #')\n",
    "plt.xlabel('Assessed Value')\n",
    "train.assessed_value.hist()\n",
    "plt.show()\n",
    "\n",
    "plt.figure(figsize = (16, 8))\n",
    "plt.title('Transaction Monthly Distribution')\n",
    "plt.ylabel('Count #')\n",
    "plt.xlabel('Month')\n",
    "train.trans_month.hist()\n",
    "plt.show()\n",
    "plt.figure(figsize = (16, 8))\n",
    "plt.title('Transaction By Day of month Distribution')\n",
    "plt.ylabel('Count #')\n",
    "plt.xlabel('Day of month')\n",
    "train.trans_day.hist()\n",
    "plt.show()"
   ]
  },
  {
   "cell_type": "code",
   "execution_count": null,
   "id": "16970170",
   "metadata": {},
   "outputs": [],
   "source": []
  },
  {
   "cell_type": "code",
   "execution_count": null,
   "id": "ccb82a6a",
   "metadata": {},
   "outputs": [],
   "source": []
  },
  {
   "cell_type": "code",
   "execution_count": null,
   "id": "cce989ee",
   "metadata": {},
   "outputs": [],
   "source": []
  },
  {
   "cell_type": "code",
   "execution_count": null,
   "id": "f72faf51",
   "metadata": {},
   "outputs": [],
   "source": []
  },
  {
   "cell_type": "code",
   "execution_count": 17,
   "id": "e4defbd6",
   "metadata": {},
   "outputs": [
    {
     "data": {
      "text/html": [
       "<div>\n",
       "<style scoped>\n",
       "    .dataframe tbody tr th:only-of-type {\n",
       "        vertical-align: middle;\n",
       "    }\n",
       "\n",
       "    .dataframe tbody tr th {\n",
       "        vertical-align: top;\n",
       "    }\n",
       "\n",
       "    .dataframe thead th {\n",
       "        text-align: right;\n",
       "    }\n",
       "</style>\n",
       "<table border=\"1\" class=\"dataframe\">\n",
       "  <thead>\n",
       "    <tr style=\"text-align: right;\">\n",
       "      <th></th>\n",
       "      <th>bed_count</th>\n",
       "      <th>bath_count</th>\n",
       "      <th>square_feet</th>\n",
       "      <th>assessed_value</th>\n",
       "      <th>trans_month</th>\n",
       "      <th>trans_day</th>\n",
       "      <th>built_year</th>\n",
       "      <th>zip_code</th>\n",
       "      <th>city</th>\n",
       "    </tr>\n",
       "  </thead>\n",
       "  <tbody>\n",
       "    <tr>\n",
       "      <th>16035</th>\n",
       "      <td>3.0</td>\n",
       "      <td>2.0</td>\n",
       "      <td>1522.0</td>\n",
       "      <td>64360.0</td>\n",
       "      <td>4</td>\n",
       "      <td>14</td>\n",
       "      <td>1925</td>\n",
       "      <td>6037</td>\n",
       "      <td>Los Angeles</td>\n",
       "    </tr>\n",
       "    <tr>\n",
       "      <th>44800</th>\n",
       "      <td>2.0</td>\n",
       "      <td>1.0</td>\n",
       "      <td>900.0</td>\n",
       "      <td>338073.0</td>\n",
       "      <td>8</td>\n",
       "      <td>10</td>\n",
       "      <td>1951</td>\n",
       "      <td>6037</td>\n",
       "      <td>Los Angeles</td>\n",
       "    </tr>\n",
       "    <tr>\n",
       "      <th>20047</th>\n",
       "      <td>2.0</td>\n",
       "      <td>1.0</td>\n",
       "      <td>807.0</td>\n",
       "      <td>51727.0</td>\n",
       "      <td>4</td>\n",
       "      <td>21</td>\n",
       "      <td>1951</td>\n",
       "      <td>6037</td>\n",
       "      <td>Los Angeles</td>\n",
       "    </tr>\n",
       "    <tr>\n",
       "      <th>5077</th>\n",
       "      <td>3.0</td>\n",
       "      <td>3.0</td>\n",
       "      <td>2458.0</td>\n",
       "      <td>653996.0</td>\n",
       "      <td>2</td>\n",
       "      <td>16</td>\n",
       "      <td>1985</td>\n",
       "      <td>6059</td>\n",
       "      <td>Orange</td>\n",
       "    </tr>\n",
       "    <tr>\n",
       "      <th>36597</th>\n",
       "      <td>3.0</td>\n",
       "      <td>2.0</td>\n",
       "      <td>1386.0</td>\n",
       "      <td>242779.0</td>\n",
       "      <td>6</td>\n",
       "      <td>30</td>\n",
       "      <td>1962</td>\n",
       "      <td>6037</td>\n",
       "      <td>Los Angeles</td>\n",
       "    </tr>\n",
       "  </tbody>\n",
       "</table>\n",
       "</div>"
      ],
      "text/plain": [
       "       bed_count  bath_count  square_feet  assessed_value  trans_month  \\\n",
       "16035        3.0         2.0       1522.0         64360.0            4   \n",
       "44800        2.0         1.0        900.0        338073.0            8   \n",
       "20047        2.0         1.0        807.0         51727.0            4   \n",
       "5077         3.0         3.0       2458.0        653996.0            2   \n",
       "36597        3.0         2.0       1386.0        242779.0            6   \n",
       "\n",
       "       trans_day  built_year  zip_code         city  \n",
       "16035         14        1925      6037  Los Angeles  \n",
       "44800         10        1951      6037  Los Angeles  \n",
       "20047         21        1951      6037  Los Angeles  \n",
       "5077          16        1985      6059       Orange  \n",
       "36597         30        1962      6037  Los Angeles  "
      ]
     },
     "execution_count": 17,
     "metadata": {},
     "output_type": "execute_result"
    }
   ],
   "source": [
    "train.head()"
   ]
  },
  {
   "cell_type": "markdown",
   "id": "2e759dd4",
   "metadata": {},
   "source": [
    "## Key Findings:\n",
    "### __NOTE:_ All homes in dataset are zillow homes of 2017\n",
    "- 3 bedroom and 2 baths are the most common household classifications in 2017\n",
    "- Less than 2400 square feet single familly household were the most preferable homes in 2017\n",
    "- Homes built in late 1940s to early 1960s were the most transactioned homes in 2017. About 9500 homes. Followed by homes built in early 1960s to mid 1970s accounting approximately 5800, then third were homes in late 1970s to 1990s.\n",
    "- Least desired/ (not transactioned) homes were those build in 1900s followed by those built between mid 1900s to about 1918s.\n",
    "- Surprisingly, homes built about 1918s to late 1940s outperformed those built after about 2005\n",
    "- Most transactions were average throughout the year but peaked towards the last few days of teh year. \n"
   ]
  },
  {
   "cell_type": "markdown",
   "id": "5f564f0c",
   "metadata": {},
   "source": [
    "## Initial possible drivers for home value:\n",
    "\n",
    "- Homes with __square feet greater than 2000__ are more likely to be bougth and sold than those below that value\n",
    "- Homes with bedroom count between __3 and 4__ are more likely to generate more assessed value than other homes.\n",
    "- The more the __batrooms (over 3) a home has__, the likely the rise in assessed value. \n",
    "- Homes __built after the year 2000__ are more likely to have higher assessed home value than those built before that year.\n",
    "- Homes in __Los Angels__ are likely to be highly assessed due to size of city than those in Orange and Ventura\n"
   ]
  },
  {
   "cell_type": "markdown",
   "id": "062b7872",
   "metadata": {},
   "source": [
    "# Exploration Phase:\n",
    "\n",
    "## Hypothesis Formulation & Testing"
   ]
  },
  {
   "cell_type": "markdown",
   "id": "2595e32f",
   "metadata": {},
   "source": [
    "### Hypothesis I:  Test Square feet VS assessed values (One sample T-Test)"
   ]
  },
  {
   "cell_type": "code",
   "execution_count": 18,
   "id": "d96b824b",
   "metadata": {},
   "outputs": [
    {
     "name": "stdout",
     "output_type": "stream",
     "text": [
      "\n",
      "\tT-Value: 33.68731896609945 \n",
      "\tP-Value: 2.6123960407430466e-236 \n",
      "\tAlpha : 0.05\n"
     ]
    }
   ],
   "source": [
    "# Get subset of home with square feet over 2000 feet\n",
    "homes_value_over_2000_sqr_feet = train[train.square_feet > 2000].assessed_value\n",
    "overall_home_value = train.assessed_value.mean()\n",
    "\n",
    "H0 = 'Assessed value for homes with over 2000 square feet = the assessed value for all homes'\n",
    "H1 = 'Assessed value for homes with over 2000 square feet > than the assessed value for all homes'\n",
    "\n",
    "# Set confidence level to 0.05\n",
    "alpha = 0.05\n",
    "\n",
    "t, p = stats.ttest_1samp(homes_value_over_2000_sqr_feet, overall_home_value )\n",
    "\n",
    "print(f'\\n\\tT-Value: {t} \\n\\tP-Value: {p/2} \\n\\tAlpha : {alpha}')\n"
   ]
  },
  {
   "cell_type": "markdown",
   "id": "fa0c439e",
   "metadata": {},
   "source": [
    ">#### Evaluate the results (One sample t-test)\n"
   ]
  },
  {
   "cell_type": "code",
   "execution_count": 19,
   "id": "acacc3ff",
   "metadata": {},
   "outputs": [
    {
     "name": "stdout",
     "output_type": "stream",
     "text": [
      "\n",
      "\tREJECT:- Assessed value for homes with over 2000 square feet = the assessed value for all homes\n",
      "\n",
      "\n",
      "\tCONCLUSION:- Assessed value for homes with over 2000 square feet > than the assessed value for all homes\n",
      "\n"
     ]
    }
   ],
   "source": [
    "\n",
    "if p/2 > alpha:\n",
    "    \n",
    "    print(f'We fail to reject:- {H0}')\n",
    "    \n",
    "elif t < 0:\n",
    "    \n",
    "    print(f'Failed to reject:- {H0}')\n",
    "    \n",
    "else:\n",
    "    \n",
    "    print(f'\\n\\tREJECT:- {H0}\\n')\n",
    "    \n",
    "    print(f'\\n\\tCONCLUSION:- {H1}\\n')\n",
    "\n"
   ]
  },
  {
   "cell_type": "markdown",
   "id": "b4b4970f",
   "metadata": {},
   "source": [
    "## Hypothesis II: Bed Count 3 & 4  VS  Others Assessed Value (Independent/ Two Sample T-Test)"
   ]
  },
  {
   "cell_type": "code",
   "execution_count": 20,
   "id": "c08727af",
   "metadata": {},
   "outputs": [
    {
     "data": {
      "text/plain": [
       "[3.0, 2.0, 4.0, 5.0, 7.0, 1.0, 6.0, 12.0, 9.0, 0.0, 8.0, 10.0]"
      ]
     },
     "execution_count": 20,
     "metadata": {},
     "output_type": "execute_result"
    }
   ],
   "source": [
    "# Check bed count selections\n",
    "\n",
    "list(train.bed_count.unique())"
   ]
  },
  {
   "cell_type": "code",
   "execution_count": 21,
   "id": "c1f72e04",
   "metadata": {},
   "outputs": [
    {
     "name": "stdout",
     "output_type": "stream",
     "text": [
      "3 & 4 BR var: 274472069401.30576|| Not 3 & 4 BR var:654359487459.4808\n",
      "Not equal var\n",
      "\n",
      "\tT-Value: -9.283539547269042 \n",
      "\tP-Value: 8.857345245783746e-21 \n",
      "\tAlpha : 0.05\n"
     ]
    }
   ],
   "source": [
    "H0 = 'Mean assessed value for homes with bedroom count between  3 and 4 = mean assessed value for homes with bedroom count between not 3 and 4'\n",
    "H1 = 'Mean assessed value for homes with bedroom count between  3 and 4 > mean assessed value for homes with bedroom count between not 3 and 4'\n",
    "\n",
    "# Set aplha level\n",
    "alpha = 0.05\n",
    "\n",
    "# Create subset\n",
    "bed_count_3_4_assessed_val = train[(train.bed_count >= 2 ) & (train.bed_count <= 4)].assessed_value\n",
    "bed_count_not_3_4_assessed_val = train[(train.bed_count != 2 ) & (train.bed_count != 4)].assessed_value\n",
    "\n",
    "# Variance not equal\n",
    "print(f'3 & 4 BR var: {bed_count_3_4_assessed_val.var()}|| Not 3 & 4 BR var:{bed_count_not_3_4_assessed_val.var()}')\n",
    "\n",
    "print('Not equal var')\n",
    "\n",
    "t, p = stats.ttest_ind(bed_count_3_4_assessed_val, bed_count_not_3_4_assessed_val, equal_var=False)\n",
    "t, p / 2\n",
    "\n",
    "\n",
    "print(f'\\n\\tT-Value: {t} \\n\\tP-Value: {p/2} \\n\\tAlpha : {alpha}')"
   ]
  },
  {
   "cell_type": "markdown",
   "id": "3764b4cd",
   "metadata": {},
   "source": [
    ">#### Evaluate the two sample t-test\n"
   ]
  },
  {
   "cell_type": "code",
   "execution_count": 22,
   "id": "93a5c811",
   "metadata": {},
   "outputs": [
    {
     "name": "stdout",
     "output_type": "stream",
     "text": [
      "\n",
      "\tFAILED TO REJECT:- Mean assessed value for homes with bedroom count between  3 and 4 = mean assessed value for homes with bedroom count between not 3 and 4\n",
      "\n",
      "\n",
      "\tCONCLUSION:- Mean assessed value for homes with bedroom count between  3 and 4 = mean assessed value for homes with bedroom count between not 3 and 4\n",
      "\n"
     ]
    }
   ],
   "source": [
    "\n",
    "if p/2 > alpha:\n",
    "    \n",
    "    print(f'\\n\\tFAILED TO REJECT:- {H0}\\n')\n",
    "    print(f'\\n\\tCONCLUSION:- {H0}\\n') \n",
    "elif t < 0:\n",
    "    \n",
    "    print(f'\\n\\tFAILED TO REJECT:- {H0}\\n') \n",
    "    print(f'\\n\\tCONCLUSION:- {H0}\\n')\n",
    "else:\n",
    "    \n",
    "    print(f'\\n\\tREJECT:- {H0}\\n')\n",
    "    print(f'\\n\\tCONCLUSION:- {H1}\\n')"
   ]
  },
  {
   "cell_type": "markdown",
   "id": "03d256be",
   "metadata": {},
   "source": [
    "## Hypothesis III: [Bathroom Count <  3] VS [Bathroom Count >3 & < 5] VS [Bathroom Count > 5] Assessed Value (ANOVA Test)"
   ]
  },
  {
   "cell_type": "code",
   "execution_count": 23,
   "id": "3fe69167",
   "metadata": {},
   "outputs": [
    {
     "data": {
      "text/plain": [
       "array([ 2. ,  1. ,  3. ,  5. ,  1.5,  4. ,  4.5,  6. ,  2.5,  3.5,  5.5,\n",
       "        8. ,  6.5,  7. ,  9. ,  0. , 11. ,  7.5,  8.5, 10. ])"
      ]
     },
     "execution_count": 23,
     "metadata": {},
     "output_type": "execute_result"
    }
   ],
   "source": [
    "# Get selections of bathroom counts\n",
    "\n",
    "train.bath_count.unique()"
   ]
  },
  {
   "cell_type": "code",
   "execution_count": 24,
   "id": "a1c071ea",
   "metadata": {},
   "outputs": [
    {
     "name": "stdout",
     "output_type": "stream",
     "text": [
      "Variance less than 3 Baths: 112067649550.51057\n",
      "Variance 3 but less than 5 Baths: 448330476238.4225\n",
      "Variance over 5 Baths: 8030334816325.969\n"
     ]
    },
    {
     "data": {
      "text/plain": [
       "(4946.390094328267, 0.0)"
      ]
     },
     "execution_count": 24,
     "metadata": {},
     "output_type": "execute_result"
    }
   ],
   "source": [
    "# Formulated hypothesis\n",
    "H0 = 'The assessed value for homes with less than 3 bathrooms compares equally with those with > 3 but < 5  and those > 5'\n",
    "H1 = 'The assessed value for homes with less than 3 bathrooms do not eaqual those with > 3 but < 5  and those > 5'\n",
    "\n",
    "# Set alpha value\n",
    "alpha = 0.05\n",
    "\n",
    "# Create subsets means\n",
    "mean_assessed_val_baths_3_and_less = train[train.bath_count < 3].assessed_value\n",
    "mean_assessed_val_baths_above3_and_less_than5 = train[(train.bath_count >= 3) & (train.bath_count < 5)].assessed_value\n",
    "mean_assessed_val_baths_above5 = train[(train.bath_count > 5)].assessed_value\n",
    "\n",
    "# Unequal vars\n",
    "print('Variance less than 3 Baths:',mean_assessed_val_baths_3_and_less.var())\n",
    "print('Variance 3 but less than 5 Baths:',mean_assessed_val_baths_above3_and_less_than5.var())\n",
    "print('Variance over 5 Baths:',mean_assessed_val_baths_above5.var())\n",
    "\n",
    "# Calculate the ANOVA\n",
    "f, p = stats.f_oneway(mean_assessed_val_baths_3_and_less, \n",
    "                      mean_assessed_val_baths_above3_and_less_than5, \n",
    "                      mean_assessed_val_baths_above5)\n",
    "f, p"
   ]
  },
  {
   "cell_type": "markdown",
   "id": "e426fc76",
   "metadata": {},
   "source": [
    ">#### Evaluate the ANOVA Test"
   ]
  },
  {
   "cell_type": "code",
   "execution_count": 25,
   "id": "3c19ba52",
   "metadata": {},
   "outputs": [
    {
     "name": "stdout",
     "output_type": "stream",
     "text": [
      "REJECT HYPOTHESIS: The assessed value for homes with less than 3 bathrooms compares equally with those with > 3 but < 5  and those > 5\n"
     ]
    }
   ],
   "source": [
    "if p < alpha:\n",
    "    \n",
    "    print(f'REJECT HYPOTHESIS: {H0}')\n",
    "    \n",
    "else:\n",
    "    print('FAILED TO REJECT HYPOTHESIS: {H0}')"
   ]
  },
  {
   "cell_type": "markdown",
   "id": "0d0655a0",
   "metadata": {},
   "source": [
    "## Hypothesis IV:  Build year >= 2000 assessed value VS build year < 2000 assessed value (Independent/ two sample t-test)"
   ]
  },
  {
   "cell_type": "code",
   "execution_count": 26,
   "id": "9c072d51",
   "metadata": {},
   "outputs": [
    {
     "data": {
      "text/plain": [
       "array([1925, 1951, 1985, 1962, 1950, 1952, 1955, 1963, 1975, 1976, 1926,\n",
       "       1974, 1937, 1948, 1982, 2000, 1957, 1959, 1961, 1964, 1947, 1972,\n",
       "       1953, 1913, 1998, 1965, 1973, 1954, 1943, 1956, 1949, 1996, 1999,\n",
       "       1977, 1938, 1924, 1941, 1933, 1945, 1968, 1981, 1960, 1923, 1979,\n",
       "       1942, 1929, 1936, 1922, 2007, 1940, 1989, 1934, 2002, 2004, 1997,\n",
       "       1946, 1990, 1970, 1971, 1969, 1980, 1992, 1967, 1978, 2001, 1988,\n",
       "       1928, 1984, 1991, 1930, 1987, 1958, 2003, 1935, 2011, 2006, 2014,\n",
       "       1927, 1986, 1904, 2012, 2005, 1994, 2010, 1920, 1944, 1939, 1983,\n",
       "       1914, 1905, 1966, 1995, 2013, 2008, 1921, 1880, 1916, 1932, 1912,\n",
       "       1918, 1931, 1993, 2009, 1906, 1885, 1910, 1919, 2015, 1911, 1915,\n",
       "       1882, 2016, 1917, 1909, 1895, 1908, 1901, 1902, 1907, 1896, 1903,\n",
       "       1890, 1887, 1900, 1898, 1892, 1878, 1888, 1893])"
      ]
     },
     "execution_count": 26,
     "metadata": {},
     "output_type": "execute_result"
    }
   ],
   "source": [
    "# Get unique built years\n",
    "train.built_year.unique()"
   ]
  },
  {
   "cell_type": "code",
   "execution_count": 27,
   "id": "9b9ad9d4",
   "metadata": {},
   "outputs": [
    {
     "name": "stdout",
     "output_type": "stream",
     "text": [
      "Assessed value variance for homes built after year 2000: 1317085761948.1047\n",
      "Assessed value variance for homes built before year 2000: 416521385374.57495\n"
     ]
    },
    {
     "data": {
      "text/plain": [
       "(21.584885726175482, 1.5046419764218285e-95)"
      ]
     },
     "execution_count": 27,
     "metadata": {},
     "output_type": "execute_result"
    }
   ],
   "source": [
    "H0 = 'Assessed value for homes built after the year 2000 are = to assessed value for homes built before year 2000'\n",
    "H1 = 'Assessed value for homes built after the year 2000 are != to assessed value for homes built before year 2000'\n",
    "\n",
    "# Set alpha level\n",
    "\n",
    "alpha = 0.05\n",
    "\n",
    "# Create the subsets\n",
    "assessed_val_built_year_over_2000 = train[train.built_year >= 2000].assessed_value\n",
    "assessed_val_built_year_less_than_2000 = train[train.built_year < 2000].assessed_value\n",
    "\n",
    "# Check Variance\n",
    "print(f'Assessed value variance for homes built after year 2000: {assessed_val_built_year_over_2000.var()}')\n",
    "print(f'Assessed value variance for homes built before year 2000: {assessed_val_built_year_less_than_2000.var()}')\n",
    "\n",
    "\n",
    "# Compute t & p values\n",
    "t, p = stats.ttest_ind(assessed_val_built_year_over_2000, assessed_val_built_year_less_than_2000, equal_var=False)\n",
    "t, p / 2\n"
   ]
  },
  {
   "cell_type": "markdown",
   "id": "e7c12e85",
   "metadata": {},
   "source": [
    ">#### Evaluate results "
   ]
  },
  {
   "cell_type": "code",
   "execution_count": 28,
   "id": "cc63fba7",
   "metadata": {},
   "outputs": [
    {
     "name": "stdout",
     "output_type": "stream",
     "text": [
      "REJECT HYPOTHESIS:- Assessed value for homes built after the year 2000 are = to assessed value for homes built before year 2000\n"
     ]
    }
   ],
   "source": [
    "if p / 2 > alpha:\n",
    "    \n",
    "    print(f'FAILED TO REJECT HYPOTHESIS:- {H0}')\n",
    "elif t < 0:\n",
    "    print(f'FAILED TO REJECT HYPOTHESIS:- {H0}')\n",
    "else:\n",
    "    print(f'REJECT HYPOTHESIS:- {H0}')\n"
   ]
  },
  {
   "cell_type": "markdown",
   "id": "dec3cfec",
   "metadata": {},
   "source": [
    "## Hypothesis V: ANOVA test home vales by locations"
   ]
  },
  {
   "cell_type": "code",
   "execution_count": 29,
   "id": "d267074f",
   "metadata": {},
   "outputs": [],
   "source": [
    "# - Homes in Los Angels are likely to be highly assessed due to size of city than those in Orange and Ventura\n",
    "\n",
    "# H0 = 'The assessed home value based of the three locations are all equal'"
   ]
  },
  {
   "cell_type": "markdown",
   "id": "2dc39ff3",
   "metadata": {},
   "source": []
  },
  {
   "cell_type": "markdown",
   "id": "828af030",
   "metadata": {},
   "source": [
    "# Feature Engineering (SelectKBest, RFE)\n",
    "\n",
    ">#### Finding features that better represent the underlying problem to the predictive models, resulting in improved model accuracy on unseen data."
   ]
  },
  {
   "cell_type": "code",
   "execution_count": 30,
   "id": "599ec7a3",
   "metadata": {},
   "outputs": [
    {
     "data": {
      "text/plain": [
       "Index(['bed_count', 'bath_count', 'square_feet', 'assessed_value',\n",
       "       'trans_month', 'trans_day', 'built_year', 'zip_code', 'city'],\n",
       "      dtype='object')"
      ]
     },
     "execution_count": 30,
     "metadata": {},
     "output_type": "execute_result"
    }
   ],
   "source": [
    "train.columns"
   ]
  },
  {
   "cell_type": "code",
   "execution_count": 31,
   "id": "2e2bee50",
   "metadata": {},
   "outputs": [],
   "source": [
    "# Select features to explore \n",
    "\n",
    "X_train = train[['bed_count', 'bath_count', 'square_feet',\n",
    "                 'trans_month', 'trans_day', 'built_year', 'zip_code']]\n",
    "y_train = train.assessed_value\n",
    "\n",
    "X_validate = validate[['bed_count', 'bath_count', 'square_feet', \n",
    "                       'trans_month', 'trans_day', 'built_year', 'zip_code']]\n",
    "y_validate = validate.assessed_value\n",
    "\n",
    "X_test = test[['bed_count', 'bath_count', 'square_feet', \n",
    "               'trans_month', 'trans_day', 'built_year', 'zip_code']]\n",
    "y_test = test.assessed_value"
   ]
  },
  {
   "cell_type": "markdown",
   "id": "7680e23c",
   "metadata": {},
   "source": [
    "## SelectKBest"
   ]
  },
  {
   "cell_type": "code",
   "execution_count": 32,
   "id": "9d7ace54",
   "metadata": {},
   "outputs": [
    {
     "name": "stdout",
     "output_type": "stream",
     "text": [
      "Enter count of SelectKBest features to return: 3\n"
     ]
    },
    {
     "data": {
      "text/plain": [
       "Index(['bed_count', 'bath_count', 'square_feet'], dtype='object')"
      ]
     },
     "execution_count": 32,
     "metadata": {},
     "output_type": "execute_result"
    }
   ],
   "source": [
    "select_k_best = select_kbest_feature_engineering(X_train, y_train, 3)\n",
    "select_k_best"
   ]
  },
  {
   "cell_type": "markdown",
   "id": "b9a561cf",
   "metadata": {},
   "source": [
    ">### Rank SelectKBest Features"
   ]
  },
  {
   "cell_type": "code",
   "execution_count": 33,
   "id": "7cc43030",
   "metadata": {},
   "outputs": [
    {
     "data": {
      "text/plain": [
       "SelectKBest(k=2, score_func=<function f_regression at 0x7fc2c9160e50>)"
      ]
     },
     "execution_count": 33,
     "metadata": {},
     "output_type": "execute_result"
    }
   ],
   "source": [
    "kbest = SelectKBest(f_regression, k = 2)\n",
    "\n",
    "kbest.fit(X_train, y_train)"
   ]
  },
  {
   "cell_type": "code",
   "execution_count": 34,
   "id": "666198ba",
   "metadata": {},
   "outputs": [
    {
     "data": {
      "text/html": [
       "<div>\n",
       "<style scoped>\n",
       "    .dataframe tbody tr th:only-of-type {\n",
       "        vertical-align: middle;\n",
       "    }\n",
       "\n",
       "    .dataframe tbody tr th {\n",
       "        vertical-align: top;\n",
       "    }\n",
       "\n",
       "    .dataframe thead th {\n",
       "        text-align: right;\n",
       "    }\n",
       "</style>\n",
       "<table border=\"1\" class=\"dataframe\">\n",
       "  <thead>\n",
       "    <tr style=\"text-align: right;\">\n",
       "      <th></th>\n",
       "      <th>p</th>\n",
       "      <th>f</th>\n",
       "    </tr>\n",
       "  </thead>\n",
       "  <tbody>\n",
       "    <tr>\n",
       "      <th>bed_count</th>\n",
       "      <td>0.000000e+00</td>\n",
       "      <td>2375.005194</td>\n",
       "    </tr>\n",
       "    <tr>\n",
       "      <th>bath_count</th>\n",
       "      <td>0.000000e+00</td>\n",
       "      <td>10153.362041</td>\n",
       "    </tr>\n",
       "    <tr>\n",
       "      <th>square_feet</th>\n",
       "      <td>0.000000e+00</td>\n",
       "      <td>16422.875486</td>\n",
       "    </tr>\n",
       "    <tr>\n",
       "      <th>trans_month</th>\n",
       "      <td>9.875797e-02</td>\n",
       "      <td>2.725661</td>\n",
       "    </tr>\n",
       "    <tr>\n",
       "      <th>trans_day</th>\n",
       "      <td>6.599920e-04</td>\n",
       "      <td>11.601159</td>\n",
       "    </tr>\n",
       "    <tr>\n",
       "      <th>built_year</th>\n",
       "      <td>2.183660e-208</td>\n",
       "      <td>964.559699</td>\n",
       "    </tr>\n",
       "    <tr>\n",
       "      <th>zip_code</th>\n",
       "      <td>3.179239e-05</td>\n",
       "      <td>17.312943</td>\n",
       "    </tr>\n",
       "  </tbody>\n",
       "</table>\n",
       "</div>"
      ],
      "text/plain": [
       "                         p             f\n",
       "bed_count     0.000000e+00   2375.005194\n",
       "bath_count    0.000000e+00  10153.362041\n",
       "square_feet   0.000000e+00  16422.875486\n",
       "trans_month   9.875797e-02      2.725661\n",
       "trans_day     6.599920e-04     11.601159\n",
       "built_year   2.183660e-208    964.559699\n",
       "zip_code      3.179239e-05     17.312943"
      ]
     },
     "execution_count": 34,
     "metadata": {},
     "output_type": "execute_result"
    }
   ],
   "source": [
    "kbest_results = pd.DataFrame(dict(p = kbest.pvalues_, \n",
    "                                  f = kbest.scores_), \n",
    "                             index = X_train.columns)\n",
    "kbest_results"
   ]
  },
  {
   "cell_type": "code",
   "execution_count": 35,
   "id": "81aa8e99",
   "metadata": {},
   "outputs": [
    {
     "data": {
      "text/html": [
       "<div>\n",
       "<style scoped>\n",
       "    .dataframe tbody tr th:only-of-type {\n",
       "        vertical-align: middle;\n",
       "    }\n",
       "\n",
       "    .dataframe tbody tr th {\n",
       "        vertical-align: top;\n",
       "    }\n",
       "\n",
       "    .dataframe thead th {\n",
       "        text-align: right;\n",
       "    }\n",
       "</style>\n",
       "<table border=\"1\" class=\"dataframe\">\n",
       "  <thead>\n",
       "    <tr style=\"text-align: right;\">\n",
       "      <th></th>\n",
       "      <th>bath_count</th>\n",
       "      <th>square_feet</th>\n",
       "    </tr>\n",
       "  </thead>\n",
       "  <tbody>\n",
       "    <tr>\n",
       "      <th>16035</th>\n",
       "      <td>2.0</td>\n",
       "      <td>1522.0</td>\n",
       "    </tr>\n",
       "    <tr>\n",
       "      <th>44800</th>\n",
       "      <td>1.0</td>\n",
       "      <td>900.0</td>\n",
       "    </tr>\n",
       "    <tr>\n",
       "      <th>20047</th>\n",
       "      <td>1.0</td>\n",
       "      <td>807.0</td>\n",
       "    </tr>\n",
       "    <tr>\n",
       "      <th>5077</th>\n",
       "      <td>3.0</td>\n",
       "      <td>2458.0</td>\n",
       "    </tr>\n",
       "    <tr>\n",
       "      <th>36597</th>\n",
       "      <td>2.0</td>\n",
       "      <td>1386.0</td>\n",
       "    </tr>\n",
       "  </tbody>\n",
       "</table>\n",
       "</div>"
      ],
      "text/plain": [
       "       bath_count  square_feet\n",
       "16035         2.0       1522.0\n",
       "44800         1.0        900.0\n",
       "20047         1.0        807.0\n",
       "5077          3.0       2458.0\n",
       "36597         2.0       1386.0"
      ]
     },
     "execution_count": 35,
     "metadata": {},
     "output_type": "execute_result"
    }
   ],
   "source": [
    "\n",
    "X_train_transformed = pd.DataFrame(kbest.transform(X_train),index = X_train.index,\n",
    "                                   columns = X_train.columns[kbest.get_support()])\n",
    "\n",
    "X_train_transformed.head()\n"
   ]
  },
  {
   "cell_type": "markdown",
   "id": "425a1f4c",
   "metadata": {},
   "source": [
    "## Recursive Feature Elimination (RFE)"
   ]
  },
  {
   "cell_type": "code",
   "execution_count": 36,
   "id": "fc44eb8b",
   "metadata": {},
   "outputs": [
    {
     "name": "stdout",
     "output_type": "stream",
     "text": [
      "Enter count of RFE features to return: 3\n"
     ]
    },
    {
     "data": {
      "text/plain": [
       "Index(['bed_count', 'bath_count', 'built_year'], dtype='object')"
      ]
     },
     "execution_count": 36,
     "metadata": {},
     "output_type": "execute_result"
    }
   ],
   "source": [
    "rfe_feature_engineering(X_train, y_train, 3)"
   ]
  },
  {
   "cell_type": "markdown",
   "id": "e1347a94",
   "metadata": {},
   "source": [
    ">### Rank RFE Features"
   ]
  },
  {
   "cell_type": "code",
   "execution_count": 37,
   "id": "8f2f0506",
   "metadata": {},
   "outputs": [
    {
     "data": {
      "text/html": [
       "<div>\n",
       "<style scoped>\n",
       "    .dataframe tbody tr th:only-of-type {\n",
       "        vertical-align: middle;\n",
       "    }\n",
       "\n",
       "    .dataframe tbody tr th {\n",
       "        vertical-align: top;\n",
       "    }\n",
       "\n",
       "    .dataframe thead th {\n",
       "        text-align: right;\n",
       "    }\n",
       "</style>\n",
       "<table border=\"1\" class=\"dataframe\">\n",
       "  <thead>\n",
       "    <tr style=\"text-align: right;\">\n",
       "      <th></th>\n",
       "      <th>rfe_ranks</th>\n",
       "    </tr>\n",
       "  </thead>\n",
       "  <tbody>\n",
       "    <tr>\n",
       "      <th>bed_count</th>\n",
       "      <td>1</td>\n",
       "    </tr>\n",
       "    <tr>\n",
       "      <th>bath_count</th>\n",
       "      <td>1</td>\n",
       "    </tr>\n",
       "    <tr>\n",
       "      <th>square_feet</th>\n",
       "      <td>5</td>\n",
       "    </tr>\n",
       "    <tr>\n",
       "      <th>trans_month</th>\n",
       "      <td>4</td>\n",
       "    </tr>\n",
       "    <tr>\n",
       "      <th>trans_day</th>\n",
       "      <td>3</td>\n",
       "    </tr>\n",
       "    <tr>\n",
       "      <th>built_year</th>\n",
       "      <td>2</td>\n",
       "    </tr>\n",
       "    <tr>\n",
       "      <th>zip_code</th>\n",
       "      <td>6</td>\n",
       "    </tr>\n",
       "  </tbody>\n",
       "</table>\n",
       "</div>"
      ],
      "text/plain": [
       "             rfe_ranks\n",
       "bed_count            1\n",
       "bath_count           1\n",
       "square_feet          5\n",
       "trans_month          4\n",
       "trans_day            3\n",
       "built_year           2\n",
       "zip_code             6"
      ]
     },
     "execution_count": 37,
     "metadata": {},
     "output_type": "execute_result"
    }
   ],
   "source": [
    "# Call linear reg'\n",
    "model = LinearRegression()\n",
    "\n",
    "# Fit the model and select best two features (n_features_to_select = 2)\n",
    "rfe = RFE(model, n_features_to_select = 2)\n",
    "rfe.fit(X_train, y_train)\n",
    "\n",
    "# Rank the RFE features\n",
    "pd.DataFrame({'rfe_ranks': rfe.ranking_}, index = X_train.columns)"
   ]
  },
  {
   "cell_type": "code",
   "execution_count": 38,
   "id": "45254640",
   "metadata": {},
   "outputs": [
    {
     "data": {
      "text/html": [
       "<div>\n",
       "<style scoped>\n",
       "    .dataframe tbody tr th:only-of-type {\n",
       "        vertical-align: middle;\n",
       "    }\n",
       "\n",
       "    .dataframe tbody tr th {\n",
       "        vertical-align: top;\n",
       "    }\n",
       "\n",
       "    .dataframe thead th {\n",
       "        text-align: right;\n",
       "    }\n",
       "</style>\n",
       "<table border=\"1\" class=\"dataframe\">\n",
       "  <thead>\n",
       "    <tr style=\"text-align: right;\">\n",
       "      <th></th>\n",
       "      <th>bed_count</th>\n",
       "      <th>bath_count</th>\n",
       "    </tr>\n",
       "  </thead>\n",
       "  <tbody>\n",
       "    <tr>\n",
       "      <th>16035</th>\n",
       "      <td>3.0</td>\n",
       "      <td>2.0</td>\n",
       "    </tr>\n",
       "    <tr>\n",
       "      <th>44800</th>\n",
       "      <td>2.0</td>\n",
       "      <td>1.0</td>\n",
       "    </tr>\n",
       "    <tr>\n",
       "      <th>20047</th>\n",
       "      <td>2.0</td>\n",
       "      <td>1.0</td>\n",
       "    </tr>\n",
       "    <tr>\n",
       "      <th>5077</th>\n",
       "      <td>3.0</td>\n",
       "      <td>3.0</td>\n",
       "    </tr>\n",
       "    <tr>\n",
       "      <th>36597</th>\n",
       "      <td>3.0</td>\n",
       "      <td>2.0</td>\n",
       "    </tr>\n",
       "  </tbody>\n",
       "</table>\n",
       "</div>"
      ],
      "text/plain": [
       "       bed_count  bath_count\n",
       "16035        3.0         2.0\n",
       "44800        2.0         1.0\n",
       "20047        2.0         1.0\n",
       "5077         3.0         3.0\n",
       "36597        3.0         2.0"
      ]
     },
     "execution_count": 38,
     "metadata": {},
     "output_type": "execute_result"
    }
   ],
   "source": [
    "# RFE Ranking\n",
    "X_train_transformed = pd.DataFrame(rfe.transform(X_train),index = X_train.index,\n",
    "                                   columns = X_train.columns[rfe.support_])\n",
    "\n",
    "X_train_transformed.head()"
   ]
  },
  {
   "cell_type": "markdown",
   "id": "2e3487ec",
   "metadata": {},
   "source": [
    "# <u>Best 3 Feature for Predicting Assessed Value</u>\n",
    "\n",
    "## (A). SelectKBest Feature Results:\n",
    "\n",
    "### ['bed_count', 'bath_count', 'square_feet']\n",
    "\n",
    "#### Overall Ranking\n",
    "#### ['bed_count', 'bath_count', 'square_feet', 'trans_month', 'trans_day','built_year', 'zip_code'],\n",
    "\n",
    "## (B). RFE Feature Results:\n",
    "### ['bed_count', 'bath_count', 'built_year']\n",
    "\n",
    "#### Overall Ranking\n",
    "### ['bed_count', 'bath_count', 'square_feet', 'trans_month', 'trans_day', 'built_year', 'zip_code']\n",
    "\n",
    "\n",
    "## Moving forward... \n",
    "### Features of interest: \n",
    ">- #### Bed Count\n",
    ">- #### Bath Count\n",
    ">- #### Square Feet\n",
    ">- #### Transaction Month\n",
    "\n",
    "__NOTE:__ Bed and bathroom count equally had same ranking on assessed value"
   ]
  },
  {
   "cell_type": "markdown",
   "id": "cc1f8f20",
   "metadata": {},
   "source": [
    "## Create a copy of train, validate and test dataframe for scalling***"
   ]
  },
  {
   "cell_type": "code",
   "execution_count": 59,
   "id": "41182fed",
   "metadata": {},
   "outputs": [],
   "source": [
    "train_to_scale = train.copy()\n",
    "validate_to_scale = validate.copy()\n",
    "test_to_scale = test.copy()\n",
    "\n",
    "train_to_scale = train_to_scale.drop(columns = 'city')\n",
    "validate_to_scale = validate_to_scale.drop(columns = 'city')\n",
    "test_to_scale = test_to_scale.drop(columns = 'city')"
   ]
  },
  {
   "cell_type": "markdown",
   "id": "56d7d881",
   "metadata": {},
   "source": [
    "#  Exploration Visualizations"
   ]
  },
  {
   "cell_type": "markdown",
   "id": "56476b62",
   "metadata": {},
   "source": [
    "> ### Bed Count VS Assessed Value"
   ]
  },
  {
   "cell_type": "code",
   "execution_count": 82,
   "id": "6bcc489d",
   "metadata": {},
   "outputs": [
    {
     "data": {
      "text/html": [
       "<div>\n",
       "<style scoped>\n",
       "    .dataframe tbody tr th:only-of-type {\n",
       "        vertical-align: middle;\n",
       "    }\n",
       "\n",
       "    .dataframe tbody tr th {\n",
       "        vertical-align: top;\n",
       "    }\n",
       "\n",
       "    .dataframe thead th {\n",
       "        text-align: right;\n",
       "    }\n",
       "</style>\n",
       "<table border=\"1\" class=\"dataframe\">\n",
       "  <thead>\n",
       "    <tr style=\"text-align: right;\">\n",
       "      <th></th>\n",
       "      <th>bed_count</th>\n",
       "      <th>assessed_value</th>\n",
       "    </tr>\n",
       "  </thead>\n",
       "  <tbody>\n",
       "    <tr>\n",
       "      <th>0</th>\n",
       "      <td>3.0</td>\n",
       "      <td>64360.0</td>\n",
       "    </tr>\n",
       "    <tr>\n",
       "      <th>1</th>\n",
       "      <td>2.0</td>\n",
       "      <td>338073.0</td>\n",
       "    </tr>\n",
       "    <tr>\n",
       "      <th>2</th>\n",
       "      <td>2.0</td>\n",
       "      <td>51727.0</td>\n",
       "    </tr>\n",
       "  </tbody>\n",
       "</table>\n",
       "</div>"
      ],
      "text/plain": [
       "   bed_count  assessed_value\n",
       "0        3.0         64360.0\n",
       "1        2.0        338073.0\n",
       "2        2.0         51727.0"
      ]
     },
     "execution_count": 82,
     "metadata": {},
     "output_type": "execute_result"
    }
   ],
   "source": [
    "# Reshape array & rename cols \n",
    "bed_features = pd.DataFrame(np.array(train[['bed_count', 'assessed_value']].to_numpy()), columns = ['bed_count', 'assessed_value'])\n",
    "bed_features.head(3)"
   ]
  },
  {
   "cell_type": "code",
   "execution_count": 83,
   "id": "f09207a8",
   "metadata": {},
   "outputs": [
    {
     "data": {
      "image/png": "[encoded data removed]",
      "text/plain": [
       "<Figure size 1152x720 with 1 Axes>"
      ]
     },
     "metadata": {
      "needs_background": "light"
     },
     "output_type": "display_data"
    }
   ],
   "source": [
    "# Map X, and y to features of interest and check lenght\n",
    "\n",
    "\n",
    "X = bed_features['bed_count']\n",
    "y = bed_features['assessed_value']\n",
    "\n",
    "plt.figure(figsize = (16, 10))\n",
    "plt.scatter(X, y, color = 'green')\n",
    "plt.title('Bed Count VS Assessed Value(USD) Single Family Home', color = 'black', weight = 'normal', size = 20)\n",
    "plt.xlabel('Bed Count', size = 15, color = 'black')\n",
    "plt.ylabel('Assessed Value(USD)', size = 15, color = 'black')\n",
    "plt.show()"
   ]
  },
  {
   "cell_type": "markdown",
   "id": "ba35c90b",
   "metadata": {},
   "source": [
    "> ### Bed Count VS Assessed Value (Scaled Data)*****"
   ]
  },
  {
   "cell_type": "code",
   "execution_count": 71,
   "id": "6f3e9d7c",
   "metadata": {},
   "outputs": [],
   "source": [
    "# # Create Scaled dataframes\n",
    "# train_scaled, validate_scaled, test_scaled = scaled_data(train_to_scale, validate_to_scale, test_to_scale)\n",
    "# # Reshape array & rename cols \n",
    "# bed_features_scaled = pd.DataFrame(np.array(train_scaled[['bed_count', 'assessed_value']].to_numpy()), columns = ['bed_count', 'assessed_value'])\n",
    "# bed_features_scaled.head(3)"
   ]
  },
  {
   "cell_type": "code",
   "execution_count": 70,
   "id": "33e1311d",
   "metadata": {},
   "outputs": [],
   "source": [
    "# # Map X, and y to features of interest and check lenght\n",
    "\n",
    "# X = bed_features_scaled['bed_count']\n",
    "# y = bed_features_scaled['assessed_value']\n",
    "\n",
    "# plt.figure(figsize = (16, 10))\n",
    "# plt.scatter(X, y)\n",
    "# plt.title('Bed Count VS Assessed Value(USD) Single Family Home', color = 'black', weight = 'normal', size = 20)\n",
    "# plt.xlabel('Bed Count', size = 15, color = 'black')\n",
    "# plt.ylabel('Assessed Value(USD)', size = 15, color = 'black')\n",
    "# plt.show()"
   ]
  },
  {
   "cell_type": "markdown",
   "id": "041e7e41",
   "metadata": {},
   "source": [
    "> ### Bath Count VS Assessed Value"
   ]
  },
  {
   "cell_type": "code",
   "execution_count": 72,
   "id": "fdedc39a",
   "metadata": {},
   "outputs": [
    {
     "data": {
      "text/html": [
       "<div>\n",
       "<style scoped>\n",
       "    .dataframe tbody tr th:only-of-type {\n",
       "        vertical-align: middle;\n",
       "    }\n",
       "\n",
       "    .dataframe tbody tr th {\n",
       "        vertical-align: top;\n",
       "    }\n",
       "\n",
       "    .dataframe thead th {\n",
       "        text-align: right;\n",
       "    }\n",
       "</style>\n",
       "<table border=\"1\" class=\"dataframe\">\n",
       "  <thead>\n",
       "    <tr style=\"text-align: right;\">\n",
       "      <th></th>\n",
       "      <th>bath_count</th>\n",
       "      <th>assessed_value</th>\n",
       "    </tr>\n",
       "  </thead>\n",
       "  <tbody>\n",
       "    <tr>\n",
       "      <th>0</th>\n",
       "      <td>2.0</td>\n",
       "      <td>64360.0</td>\n",
       "    </tr>\n",
       "    <tr>\n",
       "      <th>1</th>\n",
       "      <td>1.0</td>\n",
       "      <td>338073.0</td>\n",
       "    </tr>\n",
       "    <tr>\n",
       "      <th>2</th>\n",
       "      <td>1.0</td>\n",
       "      <td>51727.0</td>\n",
       "    </tr>\n",
       "  </tbody>\n",
       "</table>\n",
       "</div>"
      ],
      "text/plain": [
       "   bath_count  assessed_value\n",
       "0         2.0         64360.0\n",
       "1         1.0        338073.0\n",
       "2         1.0         51727.0"
      ]
     },
     "execution_count": 72,
     "metadata": {},
     "output_type": "execute_result"
    }
   ],
   "source": [
    "# Reshape array & rename cols \n",
    "bath_features = pd.DataFrame(np.array(train[['bath_count', 'assessed_value']].to_numpy()), columns = ['bath_count', 'assessed_value'])\n",
    "bath_features.head(3)"
   ]
  },
  {
   "cell_type": "code",
   "execution_count": 85,
   "id": "da3b2fdb",
   "metadata": {},
   "outputs": [
    {
     "data": {
      "image/png": "[encoded data removed]",
      "text/plain": [
       "<Figure size 1152x720 with 1 Axes>"
      ]
     },
     "metadata": {
      "needs_background": "light"
     },
     "output_type": "display_data"
    }
   ],
   "source": [
    "# Map X, and y to features of interest and check lenght\n",
    "\n",
    "X = bath_features['bath_count']\n",
    "y = bath_features['assessed_value']\n",
    "\n",
    "plt.figure(figsize = (16, 10))\n",
    "plt.scatter(X, y, color = 'orange')\n",
    "plt.title('Bath Count VS Assessed Value(USD) Single Family Home', color = 'black', weight = 'normal', size = 20)\n",
    "plt.xlabel('Bath Count', size = 15, color = 'black')\n",
    "plt.ylabel('Assessed Value(USD)', size = 15, color = 'black')\n",
    "plt.show()"
   ]
  },
  {
   "cell_type": "markdown",
   "id": "af3c2e42",
   "metadata": {},
   "source": [
    "> ### Square Feet VS Assessed Value"
   ]
  },
  {
   "cell_type": "code",
   "execution_count": 74,
   "id": "dad5cd05",
   "metadata": {},
   "outputs": [
    {
     "data": {
      "text/html": [
       "<div>\n",
       "<style scoped>\n",
       "    .dataframe tbody tr th:only-of-type {\n",
       "        vertical-align: middle;\n",
       "    }\n",
       "\n",
       "    .dataframe tbody tr th {\n",
       "        vertical-align: top;\n",
       "    }\n",
       "\n",
       "    .dataframe thead th {\n",
       "        text-align: right;\n",
       "    }\n",
       "</style>\n",
       "<table border=\"1\" class=\"dataframe\">\n",
       "  <thead>\n",
       "    <tr style=\"text-align: right;\">\n",
       "      <th></th>\n",
       "      <th>square_feet</th>\n",
       "      <th>assessed_value</th>\n",
       "    </tr>\n",
       "  </thead>\n",
       "  <tbody>\n",
       "    <tr>\n",
       "      <th>0</th>\n",
       "      <td>1522.0</td>\n",
       "      <td>64360.0</td>\n",
       "    </tr>\n",
       "    <tr>\n",
       "      <th>1</th>\n",
       "      <td>900.0</td>\n",
       "      <td>338073.0</td>\n",
       "    </tr>\n",
       "    <tr>\n",
       "      <th>2</th>\n",
       "      <td>807.0</td>\n",
       "      <td>51727.0</td>\n",
       "    </tr>\n",
       "  </tbody>\n",
       "</table>\n",
       "</div>"
      ],
      "text/plain": [
       "   square_feet  assessed_value\n",
       "0       1522.0         64360.0\n",
       "1        900.0        338073.0\n",
       "2        807.0         51727.0"
      ]
     },
     "execution_count": 74,
     "metadata": {},
     "output_type": "execute_result"
    }
   ],
   "source": [
    "# Reshape array & rename cols \n",
    "square_feet_features = pd.DataFrame(np.array(train[['square_feet', 'assessed_value']].to_numpy()), columns = ['square_feet', 'assessed_value'])\n",
    "square_feet_features.head(3)"
   ]
  },
  {
   "cell_type": "code",
   "execution_count": 86,
   "id": "9e662c3c",
   "metadata": {},
   "outputs": [
    {
     "data": {
      "image/png": "[encoded data removed]",
      "text/plain": [
       "<Figure size 1152x720 with 1 Axes>"
      ]
     },
     "metadata": {
      "needs_background": "light"
     },
     "output_type": "display_data"
    }
   ],
   "source": [
    "# Map X, and y to features of interest and check lenght\n",
    "\n",
    "X = square_feet_features['square_feet']\n",
    "y = square_feet_features['assessed_value']\n",
    "\n",
    "plt.figure(figsize = (16, 10))\n",
    "plt.scatter(X, y, color = 'brown')\n",
    "plt.title('Square Feet VS Assessed Value(USD) Single Family Home', color = 'black', weight = 'normal', size = 20)\n",
    "plt.xlabel('Square Feet', size = 15, color = 'black')\n",
    "plt.ylabel('Assessed Value (USD)', size = 15, color = 'black')\n",
    "plt.show()"
   ]
  },
  {
   "cell_type": "markdown",
   "id": "e146c650",
   "metadata": {},
   "source": [
    "> ### Transaction Month VS Assessed Value"
   ]
  },
  {
   "cell_type": "code",
   "execution_count": 77,
   "id": "1b84204b",
   "metadata": {},
   "outputs": [
    {
     "data": {
      "text/html": [
       "<div>\n",
       "<style scoped>\n",
       "    .dataframe tbody tr th:only-of-type {\n",
       "        vertical-align: middle;\n",
       "    }\n",
       "\n",
       "    .dataframe tbody tr th {\n",
       "        vertical-align: top;\n",
       "    }\n",
       "\n",
       "    .dataframe thead th {\n",
       "        text-align: right;\n",
       "    }\n",
       "</style>\n",
       "<table border=\"1\" class=\"dataframe\">\n",
       "  <thead>\n",
       "    <tr style=\"text-align: right;\">\n",
       "      <th></th>\n",
       "      <th>trans_month</th>\n",
       "      <th>assessed_value</th>\n",
       "    </tr>\n",
       "  </thead>\n",
       "  <tbody>\n",
       "    <tr>\n",
       "      <th>0</th>\n",
       "      <td>4.0</td>\n",
       "      <td>64360.0</td>\n",
       "    </tr>\n",
       "    <tr>\n",
       "      <th>1</th>\n",
       "      <td>8.0</td>\n",
       "      <td>338073.0</td>\n",
       "    </tr>\n",
       "    <tr>\n",
       "      <th>2</th>\n",
       "      <td>4.0</td>\n",
       "      <td>51727.0</td>\n",
       "    </tr>\n",
       "  </tbody>\n",
       "</table>\n",
       "</div>"
      ],
      "text/plain": [
       "   trans_month  assessed_value\n",
       "0          4.0         64360.0\n",
       "1          8.0        338073.0\n",
       "2          4.0         51727.0"
      ]
     },
     "execution_count": 77,
     "metadata": {},
     "output_type": "execute_result"
    }
   ],
   "source": [
    "# Reshape array & rename cols \n",
    "month_trans_features = pd.DataFrame(np.array(train[['trans_month', 'assessed_value']].to_numpy()), columns = ['trans_month', 'assessed_value'])\n",
    "month_trans_features.head(3)"
   ]
  },
  {
   "cell_type": "code",
   "execution_count": 87,
   "id": "5825f517",
   "metadata": {},
   "outputs": [
    {
     "data": {
      "image/png": "[encoded data removed]",
      "text/plain": [
       "<Figure size 1152x720 with 1 Axes>"
      ]
     },
     "metadata": {
      "needs_background": "light"
     },
     "output_type": "display_data"
    }
   ],
   "source": [
    "# Map X, and y to features of interest and check lenght\n",
    "\n",
    "X = month_trans_features['trans_month']\n",
    "y = month_trans_features['assessed_value']\n",
    "\n",
    "plt.figure(figsize = (16, 10))\n",
    "plt.scatter(X, y, color = 'purple')\n",
    "plt.title('Transaction Month VS Assessed Value(USD) Single Family Home', color = 'black', weight = 'normal', size = 20)\n",
    "plt.xlabel('Month of year 2017', size = 15, color = 'black')\n",
    "plt.ylabel('Assessed Value (USD)', size = 15, color = 'black')\n",
    "plt.show()"
   ]
  },
  {
   "cell_type": "markdown",
   "id": "c469c0c0",
   "metadata": {},
   "source": [
    "> ### Build Year VS Assessed Value"
   ]
  },
  {
   "cell_type": "code",
   "execution_count": 79,
   "id": "59b35676",
   "metadata": {},
   "outputs": [
    {
     "data": {
      "text/html": [
       "<div>\n",
       "<style scoped>\n",
       "    .dataframe tbody tr th:only-of-type {\n",
       "        vertical-align: middle;\n",
       "    }\n",
       "\n",
       "    .dataframe tbody tr th {\n",
       "        vertical-align: top;\n",
       "    }\n",
       "\n",
       "    .dataframe thead th {\n",
       "        text-align: right;\n",
       "    }\n",
       "</style>\n",
       "<table border=\"1\" class=\"dataframe\">\n",
       "  <thead>\n",
       "    <tr style=\"text-align: right;\">\n",
       "      <th></th>\n",
       "      <th>built_year</th>\n",
       "      <th>assessed_value</th>\n",
       "    </tr>\n",
       "  </thead>\n",
       "  <tbody>\n",
       "    <tr>\n",
       "      <th>0</th>\n",
       "      <td>1925.0</td>\n",
       "      <td>64360.0</td>\n",
       "    </tr>\n",
       "    <tr>\n",
       "      <th>1</th>\n",
       "      <td>1951.0</td>\n",
       "      <td>338073.0</td>\n",
       "    </tr>\n",
       "    <tr>\n",
       "      <th>2</th>\n",
       "      <td>1951.0</td>\n",
       "      <td>51727.0</td>\n",
       "    </tr>\n",
       "  </tbody>\n",
       "</table>\n",
       "</div>"
      ],
      "text/plain": [
       "   built_year  assessed_value\n",
       "0      1925.0         64360.0\n",
       "1      1951.0        338073.0\n",
       "2      1951.0         51727.0"
      ]
     },
     "execution_count": 79,
     "metadata": {},
     "output_type": "execute_result"
    }
   ],
   "source": [
    "# Reshape array & rename cols \n",
    "build_year_features = pd.DataFrame(np.array(train[['built_year', 'assessed_value']].to_numpy()), columns = ['built_year', 'assessed_value'])\n",
    "build_year_features.head(3)"
   ]
  },
  {
   "cell_type": "code",
   "execution_count": 93,
   "id": "138610dc",
   "metadata": {},
   "outputs": [
    {
     "data": {
      "image/png": "[encoded data removed]",
      "text/plain": [
       "<Figure size 1152x720 with 1 Axes>"
      ]
     },
     "metadata": {
      "needs_background": "light"
     },
     "output_type": "display_data"
    }
   ],
   "source": [
    "# Map X, and y to features of interest and check lenght\n",
    "\n",
    "X = build_year_features['built_year']\n",
    "y = build_year_features['assessed_value']\n",
    "\n",
    "plt.figure(figsize = (16, 10))\n",
    "plt.scatter(X, y, color = 'teal')\n",
    "plt.title('Built Year VS Assessed Value(USD) Single Family Home', color = 'black', weight = 'normal', size = 20)\n",
    "plt.xlabel('Built Year', size = 15, color = 'black')\n",
    "plt.ylabel('Assessed Value (USD)', size = 15, color = 'black')\n",
    "plt.show()"
   ]
  },
  {
   "cell_type": "markdown",
   "id": "5f7e9f0e",
   "metadata": {},
   "source": [
    "## Exploration Testing"
   ]
  },
  {
   "cell_type": "code",
   "execution_count": null,
   "id": "684e7f09",
   "metadata": {},
   "outputs": [],
   "source": []
  },
  {
   "cell_type": "code",
   "execution_count": null,
   "id": "949b4d3a",
   "metadata": {},
   "outputs": [],
   "source": []
  },
  {
   "cell_type": "code",
   "execution_count": null,
   "id": "b4de82c8",
   "metadata": {},
   "outputs": [],
   "source": []
  },
  {
   "cell_type": "markdown",
   "id": "140ef8f6",
   "metadata": {},
   "source": [
    "# Modeling Phase: \n",
    "\n",
    "## Feature Engineering"
   ]
  },
  {
   "cell_type": "code",
   "execution_count": null,
   "id": "008c0198",
   "metadata": {},
   "outputs": [],
   "source": []
  },
  {
   "cell_type": "markdown",
   "id": "2b10209a",
   "metadata": {},
   "source": [
    "## Establish Baseline"
   ]
  },
  {
   "cell_type": "code",
   "execution_count": null,
   "id": "1c731237",
   "metadata": {},
   "outputs": [],
   "source": []
  },
  {
   "cell_type": "markdown",
   "id": "59c35705",
   "metadata": {},
   "source": [
    "## Build Models"
   ]
  },
  {
   "cell_type": "code",
   "execution_count": null,
   "id": "f30c9642",
   "metadata": {},
   "outputs": [],
   "source": []
  },
  {
   "cell_type": "code",
   "execution_count": null,
   "id": "5e991d6f",
   "metadata": {},
   "outputs": [],
   "source": []
  },
  {
   "cell_type": "markdown",
   "id": "7ecebfdb",
   "metadata": {},
   "source": [
    "## Model Evaluations"
   ]
  },
  {
   "cell_type": "code",
   "execution_count": null,
   "id": "5a89427f",
   "metadata": {},
   "outputs": [],
   "source": []
  },
  {
   "cell_type": "markdown",
   "id": "39188c53",
   "metadata": {},
   "source": [
    "## Model Selection & Testing"
   ]
  },
  {
   "cell_type": "code",
   "execution_count": null,
   "id": "b28e3343",
   "metadata": {},
   "outputs": [],
   "source": []
  },
  {
   "cell_type": "code",
   "execution_count": null,
   "id": "e393d251",
   "metadata": {},
   "outputs": [],
   "source": []
  },
  {
   "cell_type": "markdown",
   "id": "2ad6fe0c",
   "metadata": {},
   "source": [
    "# Conclusions and Delivery: "
   ]
  },
  {
   "cell_type": "code",
   "execution_count": null,
   "id": "d86d70de",
   "metadata": {},
   "outputs": [],
   "source": []
  }
 ],
 "metadata": {
  "kernelspec": {
   "display_name": "Python 3 (ipykernel)",
   "language": "python",
   "name": "python3"
  },
  "language_info": {
   "codemirror_mode": {
    "name": "ipython",
    "version": 3
   },
   "file_extension": ".py",
   "mimetype": "text/x-python",
   "name": "python",
   "nbconvert_exporter": "python",
   "pygments_lexer": "ipython3",
   "version": "3.9.7"
  }
 },
 "nbformat": 4,
 "nbformat_minor": 5
}
