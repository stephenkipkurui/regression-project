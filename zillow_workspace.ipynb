{
 "cells": [
  {
   "cell_type": "markdown",
   "id": "ade221f2",
   "metadata": {},
   "source": [
    "# <u>Regression Module Project: Estimating Zillow Home Value</u>"
   ]
  },
  {
   "cell_type": "markdown",
   "id": "7190afe9",
   "metadata": {},
   "source": [
    "### Project Scenario:\n",
    "You are a junior data scientist on the __Zillow data science team__ and recieve the following email in your inbox:\n",
    "\n",
    "__We want to be able to predict the property tax assessed values ('taxvaluedollarcnt') of Single Family Properties that had a transaction during 2017.__\n",
    "\n",
    "We have a model already, but we are hoping your insights can help us improve it. __I need recommendations on a way to make a better model.__ Maybe you will create a new feature out of existing ones that works better, try a non-linear regression algorithm, or try to create a different model for each county. Whatever you find that works (or doesn't work) will be useful. Given you have just joined our team, we are excited to see your outside perspective.\n",
    "\n",
    "(One last thing, Zach lost the email that told us where these properties were located. Ugh, Zach :-/. Because property taxes are assessed at the county level, we would like to know what states and counties these are located in).\n",
    "\n",
    "-- The Zillow Data Science Team\n",
    "\n"
   ]
  },
  {
   "cell_type": "markdown",
   "id": "d12a6c41",
   "metadata": {},
   "source": [
    "## Import Required Libraries"
   ]
  },
  {
   "cell_type": "code",
   "execution_count": 1,
   "id": "fdb1269e",
   "metadata": {},
   "outputs": [],
   "source": [
    "import pandas as pd\n",
    "import numpy as np\n",
    "import matplotlib.pyplot as plt\n",
    "import seaborn as sns\n",
    "import datetime\n",
    "\n",
    "from acquire import get_zillow\n",
    "from prepare import prepare_zillow\n",
    "\n",
    "from scipy import stats\n",
    "from scipy.stats import pearsonr, spearmanr\n",
    "import sklearn.preprocessing\n",
    "from sklearn.linear_model import LinearRegression\n",
    "from sklearn.feature_selection import SelectKBest, f_regression, RFE, SequentialFeatureSelector\n",
    "\n",
    "from evaluate import select_kbest_feature_engineering, rfe_feature_engineering, scaled_data, assessed_value_regression_plot\n"
   ]
  },
  {
   "cell_type": "markdown",
   "id": "39cb9a30",
   "metadata": {},
   "source": [
    "## Acquire prepped and split data\n",
    "\n",
    "#### - Moving forward, train data will be used to prevent data leakage"
   ]
  },
  {
   "cell_type": "code",
   "execution_count": 2,
   "id": "e7798759",
   "metadata": {},
   "outputs": [
    {
     "name": "stdout",
     "output_type": "stream",
     "text": [
      "Status: Acquiring data from cached csv file..\n"
     ]
    }
   ],
   "source": [
    "train, validate, test = prepare_zillow()"
   ]
  },
  {
   "cell_type": "code",
   "execution_count": 3,
   "id": "b752d48b",
   "metadata": {},
   "outputs": [
    {
     "name": "stdout",
     "output_type": "stream",
     "text": [
      "\n",
      "\tTrain Shape: (29297, 8)\n",
      "\n",
      "\tValidate Shape: (12557, 8)\n",
      "\n",
      "\tTest Shape: (10464, 8)\n"
     ]
    }
   ],
   "source": [
    "# Examine split integrity\n",
    "print(f'\\n\\tTrain Shape: {train.shape}\\n\\n\\tValidate Shape: {validate.shape}\\n\\n\\tTest Shape: {test.shape}' )"
   ]
  },
  {
   "cell_type": "markdown",
   "id": "d057918c",
   "metadata": {},
   "source": [
    "## <u>Initial Data Explolatory Analysis</u>"
   ]
  },
  {
   "cell_type": "code",
   "execution_count": 4,
   "id": "fd4c2cf1",
   "metadata": {},
   "outputs": [
    {
     "data": {
      "text/html": [
       "<div>\n",
       "<style scoped>\n",
       "    .dataframe tbody tr th:only-of-type {\n",
       "        vertical-align: middle;\n",
       "    }\n",
       "\n",
       "    .dataframe tbody tr th {\n",
       "        vertical-align: top;\n",
       "    }\n",
       "\n",
       "    .dataframe thead th {\n",
       "        text-align: right;\n",
       "    }\n",
       "</style>\n",
       "<table border=\"1\" class=\"dataframe\">\n",
       "  <thead>\n",
       "    <tr style=\"text-align: right;\">\n",
       "      <th></th>\n",
       "      <th>bed_count</th>\n",
       "      <th>bath_count</th>\n",
       "      <th>square_feet</th>\n",
       "      <th>assessed_value</th>\n",
       "      <th>year_built</th>\n",
       "      <th>fips</th>\n",
       "      <th>trans_date</th>\n",
       "      <th>trans_month</th>\n",
       "    </tr>\n",
       "  </thead>\n",
       "  <tbody>\n",
       "    <tr>\n",
       "      <th>16035</th>\n",
       "      <td>3.0</td>\n",
       "      <td>2.0</td>\n",
       "      <td>1522.0</td>\n",
       "      <td>64360.0</td>\n",
       "      <td>1925.0</td>\n",
       "      <td>6037.0</td>\n",
       "      <td>2017-04-14</td>\n",
       "      <td>4</td>\n",
       "    </tr>\n",
       "    <tr>\n",
       "      <th>44800</th>\n",
       "      <td>2.0</td>\n",
       "      <td>1.0</td>\n",
       "      <td>900.0</td>\n",
       "      <td>338073.0</td>\n",
       "      <td>1951.0</td>\n",
       "      <td>6037.0</td>\n",
       "      <td>2017-08-10</td>\n",
       "      <td>8</td>\n",
       "    </tr>\n",
       "    <tr>\n",
       "      <th>20047</th>\n",
       "      <td>2.0</td>\n",
       "      <td>1.0</td>\n",
       "      <td>807.0</td>\n",
       "      <td>51727.0</td>\n",
       "      <td>1951.0</td>\n",
       "      <td>6037.0</td>\n",
       "      <td>2017-04-21</td>\n",
       "      <td>4</td>\n",
       "    </tr>\n",
       "    <tr>\n",
       "      <th>5077</th>\n",
       "      <td>3.0</td>\n",
       "      <td>3.0</td>\n",
       "      <td>2458.0</td>\n",
       "      <td>653996.0</td>\n",
       "      <td>1985.0</td>\n",
       "      <td>6059.0</td>\n",
       "      <td>2017-02-16</td>\n",
       "      <td>2</td>\n",
       "    </tr>\n",
       "    <tr>\n",
       "      <th>36597</th>\n",
       "      <td>3.0</td>\n",
       "      <td>2.0</td>\n",
       "      <td>1386.0</td>\n",
       "      <td>242779.0</td>\n",
       "      <td>1962.0</td>\n",
       "      <td>6037.0</td>\n",
       "      <td>2017-06-30</td>\n",
       "      <td>6</td>\n",
       "    </tr>\n",
       "  </tbody>\n",
       "</table>\n",
       "</div>"
      ],
      "text/plain": [
       "       bed_count  bath_count  square_feet  assessed_value  year_built    fips  \\\n",
       "16035        3.0         2.0       1522.0         64360.0      1925.0  6037.0   \n",
       "44800        2.0         1.0        900.0        338073.0      1951.0  6037.0   \n",
       "20047        2.0         1.0        807.0         51727.0      1951.0  6037.0   \n",
       "5077         3.0         3.0       2458.0        653996.0      1985.0  6059.0   \n",
       "36597        3.0         2.0       1386.0        242779.0      1962.0  6037.0   \n",
       "\n",
       "      trans_date  trans_month  \n",
       "16035 2017-04-14            4  \n",
       "44800 2017-08-10            8  \n",
       "20047 2017-04-21            4  \n",
       "5077  2017-02-16            2  \n",
       "36597 2017-06-30            6  "
      ]
     },
     "execution_count": 4,
     "metadata": {},
     "output_type": "execute_result"
    }
   ],
   "source": [
    "train.head()"
   ]
  },
  {
   "cell_type": "code",
   "execution_count": 5,
   "id": "80b5521f",
   "metadata": {},
   "outputs": [],
   "source": [
    "# Split trans date into month and date and remove trailing .0 from year_built\n",
    "\n",
    "train['trans_month'] = pd.DatetimeIndex(train['trans_date']).month\n",
    "train['trans_day'] = pd.DatetimeIndex(train['trans_date']).day\n",
    "train['built_year'] = train['year_built'].astype('int64')\n",
    "train['zip_code'] = train['fips'].astype('int64')\n",
    "\n",
    "train = train.drop(columns = ['trans_date', 'year_built','fips'])\n",
    "\n",
    "validate['trans_month'] = pd.DatetimeIndex(validate['trans_date']).month\n",
    "validate['trans_day'] = pd.DatetimeIndex(validate['trans_date']).day\n",
    "validate['built_year'] = validate['year_built'].astype('int64')\n",
    "validate['zip_code'] = validate['fips'].astype('int64')\n",
    "\n",
    "validate = validate.drop(columns = ['trans_date', 'year_built','fips'])\n",
    "\n",
    "test['trans_month'] = pd.DatetimeIndex(test['trans_date']).month\n",
    "test['trans_day'] = pd.DatetimeIndex(test['trans_date']).day\n",
    "test['built_year'] = test['year_built'].astype('int64')\n",
    "test['zip_code'] = test['fips'].astype('int64')\n",
    "\n",
    "test = test.drop(columns = ['trans_date', 'year_built', 'fips'])\n",
    "\n"
   ]
  },
  {
   "cell_type": "code",
   "execution_count": 6,
   "id": "4079aa3e",
   "metadata": {},
   "outputs": [
    {
     "data": {
      "text/html": [
       "<div>\n",
       "<style scoped>\n",
       "    .dataframe tbody tr th:only-of-type {\n",
       "        vertical-align: middle;\n",
       "    }\n",
       "\n",
       "    .dataframe tbody tr th {\n",
       "        vertical-align: top;\n",
       "    }\n",
       "\n",
       "    .dataframe thead th {\n",
       "        text-align: right;\n",
       "    }\n",
       "</style>\n",
       "<table border=\"1\" class=\"dataframe\">\n",
       "  <thead>\n",
       "    <tr style=\"text-align: right;\">\n",
       "      <th></th>\n",
       "      <th>bed_count</th>\n",
       "      <th>bath_count</th>\n",
       "      <th>square_feet</th>\n",
       "      <th>assessed_value</th>\n",
       "      <th>trans_month</th>\n",
       "      <th>trans_day</th>\n",
       "      <th>built_year</th>\n",
       "      <th>zip_code</th>\n",
       "    </tr>\n",
       "  </thead>\n",
       "  <tbody>\n",
       "    <tr>\n",
       "      <th>16035</th>\n",
       "      <td>3.0</td>\n",
       "      <td>2.0</td>\n",
       "      <td>1522.0</td>\n",
       "      <td>64360.0</td>\n",
       "      <td>4</td>\n",
       "      <td>14</td>\n",
       "      <td>1925</td>\n",
       "      <td>6037</td>\n",
       "    </tr>\n",
       "    <tr>\n",
       "      <th>44800</th>\n",
       "      <td>2.0</td>\n",
       "      <td>1.0</td>\n",
       "      <td>900.0</td>\n",
       "      <td>338073.0</td>\n",
       "      <td>8</td>\n",
       "      <td>10</td>\n",
       "      <td>1951</td>\n",
       "      <td>6037</td>\n",
       "    </tr>\n",
       "    <tr>\n",
       "      <th>20047</th>\n",
       "      <td>2.0</td>\n",
       "      <td>1.0</td>\n",
       "      <td>807.0</td>\n",
       "      <td>51727.0</td>\n",
       "      <td>4</td>\n",
       "      <td>21</td>\n",
       "      <td>1951</td>\n",
       "      <td>6037</td>\n",
       "    </tr>\n",
       "    <tr>\n",
       "      <th>5077</th>\n",
       "      <td>3.0</td>\n",
       "      <td>3.0</td>\n",
       "      <td>2458.0</td>\n",
       "      <td>653996.0</td>\n",
       "      <td>2</td>\n",
       "      <td>16</td>\n",
       "      <td>1985</td>\n",
       "      <td>6059</td>\n",
       "    </tr>\n",
       "    <tr>\n",
       "      <th>36597</th>\n",
       "      <td>3.0</td>\n",
       "      <td>2.0</td>\n",
       "      <td>1386.0</td>\n",
       "      <td>242779.0</td>\n",
       "      <td>6</td>\n",
       "      <td>30</td>\n",
       "      <td>1962</td>\n",
       "      <td>6037</td>\n",
       "    </tr>\n",
       "  </tbody>\n",
       "</table>\n",
       "</div>"
      ],
      "text/plain": [
       "       bed_count  bath_count  square_feet  assessed_value  trans_month  \\\n",
       "16035        3.0         2.0       1522.0         64360.0            4   \n",
       "44800        2.0         1.0        900.0        338073.0            8   \n",
       "20047        2.0         1.0        807.0         51727.0            4   \n",
       "5077         3.0         3.0       2458.0        653996.0            2   \n",
       "36597        3.0         2.0       1386.0        242779.0            6   \n",
       "\n",
       "       trans_day  built_year  zip_code  \n",
       "16035         14        1925      6037  \n",
       "44800         10        1951      6037  \n",
       "20047         21        1951      6037  \n",
       "5077          16        1985      6059  \n",
       "36597         30        1962      6037  "
      ]
     },
     "execution_count": 6,
     "metadata": {},
     "output_type": "execute_result"
    }
   ],
   "source": [
    "train.head()"
   ]
  },
  {
   "cell_type": "markdown",
   "id": "c066fd95",
   "metadata": {},
   "source": [
    "## Map locations with National Data"
   ]
  },
  {
   "cell_type": "code",
   "execution_count": 7,
   "id": "9c2fc880",
   "metadata": {},
   "outputs": [
    {
     "data": {
      "text/plain": [
       "array([6037, 6059, 6111])"
      ]
     },
     "execution_count": 7,
     "metadata": {},
     "output_type": "execute_result"
    }
   ],
   "source": [
    "# Map fits with national data  \n",
    "# (Source: https://www.nrcs.usda.gov/wps/portal/nrcs/detail/national/home/?cid=nrcs143_013697)\n",
    "\n",
    "# Get unique locations\n",
    "location = train.zip_code.unique()\n",
    "location"
   ]
  },
  {
   "cell_type": "markdown",
   "id": "af676314",
   "metadata": {},
   "source": [
    "### Create new columns with names of city"
   ]
  },
  {
   "cell_type": "code",
   "execution_count": 8,
   "id": "40a9e06b",
   "metadata": {},
   "outputs": [
    {
     "data": {
      "text/html": [
       "<div>\n",
       "<style scoped>\n",
       "    .dataframe tbody tr th:only-of-type {\n",
       "        vertical-align: middle;\n",
       "    }\n",
       "\n",
       "    .dataframe tbody tr th {\n",
       "        vertical-align: top;\n",
       "    }\n",
       "\n",
       "    .dataframe thead th {\n",
       "        text-align: right;\n",
       "    }\n",
       "</style>\n",
       "<table border=\"1\" class=\"dataframe\">\n",
       "  <thead>\n",
       "    <tr style=\"text-align: right;\">\n",
       "      <th></th>\n",
       "      <th>bed_count</th>\n",
       "      <th>bath_count</th>\n",
       "      <th>square_feet</th>\n",
       "      <th>assessed_value</th>\n",
       "      <th>trans_month</th>\n",
       "      <th>trans_day</th>\n",
       "      <th>built_year</th>\n",
       "      <th>zip_code</th>\n",
       "      <th>city</th>\n",
       "    </tr>\n",
       "  </thead>\n",
       "  <tbody>\n",
       "    <tr>\n",
       "      <th>16035</th>\n",
       "      <td>3.0</td>\n",
       "      <td>2.0</td>\n",
       "      <td>1522.0</td>\n",
       "      <td>64360.0</td>\n",
       "      <td>4</td>\n",
       "      <td>14</td>\n",
       "      <td>1925</td>\n",
       "      <td>6037</td>\n",
       "      <td>Los Angeles</td>\n",
       "    </tr>\n",
       "    <tr>\n",
       "      <th>44800</th>\n",
       "      <td>2.0</td>\n",
       "      <td>1.0</td>\n",
       "      <td>900.0</td>\n",
       "      <td>338073.0</td>\n",
       "      <td>8</td>\n",
       "      <td>10</td>\n",
       "      <td>1951</td>\n",
       "      <td>6037</td>\n",
       "      <td>Los Angeles</td>\n",
       "    </tr>\n",
       "    <tr>\n",
       "      <th>20047</th>\n",
       "      <td>2.0</td>\n",
       "      <td>1.0</td>\n",
       "      <td>807.0</td>\n",
       "      <td>51727.0</td>\n",
       "      <td>4</td>\n",
       "      <td>21</td>\n",
       "      <td>1951</td>\n",
       "      <td>6037</td>\n",
       "      <td>Los Angeles</td>\n",
       "    </tr>\n",
       "    <tr>\n",
       "      <th>5077</th>\n",
       "      <td>3.0</td>\n",
       "      <td>3.0</td>\n",
       "      <td>2458.0</td>\n",
       "      <td>653996.0</td>\n",
       "      <td>2</td>\n",
       "      <td>16</td>\n",
       "      <td>1985</td>\n",
       "      <td>6059</td>\n",
       "      <td>Orange</td>\n",
       "    </tr>\n",
       "    <tr>\n",
       "      <th>36597</th>\n",
       "      <td>3.0</td>\n",
       "      <td>2.0</td>\n",
       "      <td>1386.0</td>\n",
       "      <td>242779.0</td>\n",
       "      <td>6</td>\n",
       "      <td>30</td>\n",
       "      <td>1962</td>\n",
       "      <td>6037</td>\n",
       "      <td>Los Angeles</td>\n",
       "    </tr>\n",
       "  </tbody>\n",
       "</table>\n",
       "</div>"
      ],
      "text/plain": [
       "       bed_count  bath_count  square_feet  assessed_value  trans_month  \\\n",
       "16035        3.0         2.0       1522.0         64360.0            4   \n",
       "44800        2.0         1.0        900.0        338073.0            8   \n",
       "20047        2.0         1.0        807.0         51727.0            4   \n",
       "5077         3.0         3.0       2458.0        653996.0            2   \n",
       "36597        3.0         2.0       1386.0        242779.0            6   \n",
       "\n",
       "       trans_day  built_year  zip_code         city  \n",
       "16035         14        1925      6037  Los Angeles  \n",
       "44800         10        1951      6037  Los Angeles  \n",
       "20047         21        1951      6037  Los Angeles  \n",
       "5077          16        1985      6059       Orange  \n",
       "36597         30        1962      6037  Los Angeles  "
      ]
     },
     "execution_count": 8,
     "metadata": {},
     "output_type": "execute_result"
    }
   ],
   "source": [
    "train['city'] = train.zip_code.replace({6037: 'Los Angeles', 6059:'Orange', 6111:'Ventura'})\n",
    "validate['city'] = validate.zip_code.replace({6037: 'Los Angeles', 6059:'Orange', 6111:'Ventura'})\n",
    "test['city'] = test.zip_code.replace({6037: 'Los Angeles', 6059:'Orange', 6111:'Ventura'})\n",
    "\n",
    "train.head()"
   ]
  },
  {
   "cell_type": "code",
   "execution_count": 9,
   "id": "5fa369bf",
   "metadata": {},
   "outputs": [],
   "source": [
    "# from uszipcode import SearchEngine, SimpleZipcode, Zipcode\n",
    "\n",
    "# search = SearchEngine()\n",
    "\n",
    "# def zco(x):\n",
    "#     city = search.by_zipcode(x).major_city\n",
    "#     return city if city else 'None'\n",
    "\n",
    "# train['metro'] = train['zipcode'].apply(zco)"
   ]
  },
  {
   "cell_type": "code",
   "execution_count": 10,
   "id": "907730c9",
   "metadata": {},
   "outputs": [
    {
     "data": {
      "text/html": [
       "<div>\n",
       "<style scoped>\n",
       "    .dataframe tbody tr th:only-of-type {\n",
       "        vertical-align: middle;\n",
       "    }\n",
       "\n",
       "    .dataframe tbody tr th {\n",
       "        vertical-align: top;\n",
       "    }\n",
       "\n",
       "    .dataframe thead th {\n",
       "        text-align: right;\n",
       "    }\n",
       "</style>\n",
       "<table border=\"1\" class=\"dataframe\">\n",
       "  <thead>\n",
       "    <tr style=\"text-align: right;\">\n",
       "      <th></th>\n",
       "      <th>bed_count</th>\n",
       "      <th>bath_count</th>\n",
       "      <th>square_feet</th>\n",
       "      <th>assessed_value</th>\n",
       "      <th>trans_month</th>\n",
       "      <th>trans_day</th>\n",
       "      <th>built_year</th>\n",
       "      <th>zip_code</th>\n",
       "    </tr>\n",
       "  </thead>\n",
       "  <tbody>\n",
       "    <tr>\n",
       "      <th>count</th>\n",
       "      <td>29297.000000</td>\n",
       "      <td>29297.000000</td>\n",
       "      <td>29297.000000</td>\n",
       "      <td>2.929700e+04</td>\n",
       "      <td>29297.000000</td>\n",
       "      <td>29297.000000</td>\n",
       "      <td>29297.000000</td>\n",
       "      <td>29297.000000</td>\n",
       "    </tr>\n",
       "    <tr>\n",
       "      <th>mean</th>\n",
       "      <td>3.311773</td>\n",
       "      <td>2.303137</td>\n",
       "      <td>1922.911561</td>\n",
       "      <td>5.258636e+05</td>\n",
       "      <td>5.051712</td>\n",
       "      <td>16.478479</td>\n",
       "      <td>1963.286821</td>\n",
       "      <td>6049.144861</td>\n",
       "    </tr>\n",
       "    <tr>\n",
       "      <th>std</th>\n",
       "      <td>0.933666</td>\n",
       "      <td>1.012818</td>\n",
       "      <td>987.408513</td>\n",
       "      <td>7.157899e+05</td>\n",
       "      <td>2.347439</td>\n",
       "      <td>8.964306</td>\n",
       "      <td>23.128629</td>\n",
       "      <td>21.030609</td>\n",
       "    </tr>\n",
       "    <tr>\n",
       "      <th>min</th>\n",
       "      <td>0.000000</td>\n",
       "      <td>0.000000</td>\n",
       "      <td>152.000000</td>\n",
       "      <td>9.242000e+03</td>\n",
       "      <td>1.000000</td>\n",
       "      <td>1.000000</td>\n",
       "      <td>1878.000000</td>\n",
       "      <td>6037.000000</td>\n",
       "    </tr>\n",
       "    <tr>\n",
       "      <th>25%</th>\n",
       "      <td>3.000000</td>\n",
       "      <td>2.000000</td>\n",
       "      <td>1270.000000</td>\n",
       "      <td>1.933730e+05</td>\n",
       "      <td>3.000000</td>\n",
       "      <td>9.000000</td>\n",
       "      <td>1950.000000</td>\n",
       "      <td>6037.000000</td>\n",
       "    </tr>\n",
       "    <tr>\n",
       "      <th>50%</th>\n",
       "      <td>3.000000</td>\n",
       "      <td>2.000000</td>\n",
       "      <td>1664.000000</td>\n",
       "      <td>3.724420e+05</td>\n",
       "      <td>5.000000</td>\n",
       "      <td>16.000000</td>\n",
       "      <td>1961.000000</td>\n",
       "      <td>6037.000000</td>\n",
       "    </tr>\n",
       "    <tr>\n",
       "      <th>75%</th>\n",
       "      <td>4.000000</td>\n",
       "      <td>3.000000</td>\n",
       "      <td>2312.000000</td>\n",
       "      <td>6.190000e+05</td>\n",
       "      <td>7.000000</td>\n",
       "      <td>24.000000</td>\n",
       "      <td>1979.000000</td>\n",
       "      <td>6059.000000</td>\n",
       "    </tr>\n",
       "    <tr>\n",
       "      <th>max</th>\n",
       "      <td>12.000000</td>\n",
       "      <td>11.000000</td>\n",
       "      <td>21929.000000</td>\n",
       "      <td>2.434570e+07</td>\n",
       "      <td>9.000000</td>\n",
       "      <td>31.000000</td>\n",
       "      <td>2016.000000</td>\n",
       "      <td>6111.000000</td>\n",
       "    </tr>\n",
       "  </tbody>\n",
       "</table>\n",
       "</div>"
      ],
      "text/plain": [
       "          bed_count    bath_count   square_feet  assessed_value   trans_month  \\\n",
       "count  29297.000000  29297.000000  29297.000000    2.929700e+04  29297.000000   \n",
       "mean       3.311773      2.303137   1922.911561    5.258636e+05      5.051712   \n",
       "std        0.933666      1.012818    987.408513    7.157899e+05      2.347439   \n",
       "min        0.000000      0.000000    152.000000    9.242000e+03      1.000000   \n",
       "25%        3.000000      2.000000   1270.000000    1.933730e+05      3.000000   \n",
       "50%        3.000000      2.000000   1664.000000    3.724420e+05      5.000000   \n",
       "75%        4.000000      3.000000   2312.000000    6.190000e+05      7.000000   \n",
       "max       12.000000     11.000000  21929.000000    2.434570e+07      9.000000   \n",
       "\n",
       "          trans_day    built_year      zip_code  \n",
       "count  29297.000000  29297.000000  29297.000000  \n",
       "mean      16.478479   1963.286821   6049.144861  \n",
       "std        8.964306     23.128629     21.030609  \n",
       "min        1.000000   1878.000000   6037.000000  \n",
       "25%        9.000000   1950.000000   6037.000000  \n",
       "50%       16.000000   1961.000000   6037.000000  \n",
       "75%       24.000000   1979.000000   6059.000000  \n",
       "max       31.000000   2016.000000   6111.000000  "
      ]
     },
     "execution_count": 10,
     "metadata": {},
     "output_type": "execute_result"
    }
   ],
   "source": [
    "# Describe the data\n",
    "\n",
    "train.describe()"
   ]
  },
  {
   "cell_type": "code",
   "execution_count": 11,
   "id": "d31b067f",
   "metadata": {},
   "outputs": [
    {
     "name": "stdout",
     "output_type": "stream",
     "text": [
      "<class 'pandas.core.frame.DataFrame'>\n",
      "Int64Index: 29297 entries, 16035 to 39200\n",
      "Data columns (total 9 columns):\n",
      " #   Column          Non-Null Count  Dtype  \n",
      "---  ------          --------------  -----  \n",
      " 0   bed_count       29297 non-null  float64\n",
      " 1   bath_count      29297 non-null  float64\n",
      " 2   square_feet     29297 non-null  float64\n",
      " 3   assessed_value  29297 non-null  float64\n",
      " 4   trans_month     29297 non-null  int64  \n",
      " 5   trans_day       29297 non-null  int64  \n",
      " 6   built_year      29297 non-null  int64  \n",
      " 7   zip_code        29297 non-null  int64  \n",
      " 8   city            29297 non-null  object \n",
      "dtypes: float64(4), int64(4), object(1)\n",
      "memory usage: 2.2+ MB\n"
     ]
    }
   ],
   "source": [
    "# Get data summary information\n",
    "train.info()"
   ]
  },
  {
   "cell_type": "code",
   "execution_count": 12,
   "id": "3aa802b9",
   "metadata": {},
   "outputs": [
    {
     "data": {
      "text/plain": [
       "bed_count         0\n",
       "bath_count        0\n",
       "square_feet       0\n",
       "assessed_value    0\n",
       "trans_month       0\n",
       "trans_day         0\n",
       "built_year        0\n",
       "zip_code          0\n",
       "city              0\n",
       "dtype: int64"
      ]
     },
     "execution_count": 12,
     "metadata": {},
     "output_type": "execute_result"
    }
   ],
   "source": [
    "# Check for null values\n",
    "train.isnull().sum()"
   ]
  },
  {
   "cell_type": "code",
   "execution_count": 13,
   "id": "18baefe2",
   "metadata": {},
   "outputs": [
    {
     "data": {
      "text/plain": [
       "False"
      ]
     },
     "execution_count": 13,
     "metadata": {},
     "output_type": "execute_result"
    }
   ],
   "source": [
    "# Any null columns?\n",
    "train.columns.isnull().any()"
   ]
  },
  {
   "cell_type": "code",
   "execution_count": 14,
   "id": "0b2c0ddd",
   "metadata": {},
   "outputs": [
    {
     "data": {
      "text/plain": [
       "bed_count  bath_count  square_feet  assessed_value  trans_month  trans_day  built_year  zip_code  city       \n",
       "3.0        2.0         1050.0       259334.0        5            25         1960        6037      Los Angeles    2\n",
       "0.0        0.0         400.0        49627.0         5            1          1950        6037      Los Angeles    1\n",
       "4.0        2.0         1576.0       82375.0         5            1          1952        6037      Los Angeles    1\n",
       "                       1578.0       397610.0        5            2          1978        6111      Ventura        1\n",
       "                                    96458.0         6            16         1959        6037      Los Angeles    1\n",
       "                                                                                                                ..\n",
       "3.0        2.0         1337.0       109332.0        6            1          1953        6037      Los Angeles    1\n",
       "                       1336.0       965007.0        1            26         1946        6037      Los Angeles    1\n",
       "                                    569000.0        6            2          1953        6037      Los Angeles    1\n",
       "                                    464000.0        6            22         1956        6059      Orange         1\n",
       "12.0       6.0         8469.0       2485282.0       6            9          1909        6037      Los Angeles    1\n",
       "Length: 29296, dtype: int64"
      ]
     },
     "execution_count": 14,
     "metadata": {},
     "output_type": "execute_result"
    }
   ],
   "source": [
    "# Value counts\n",
    "train.value_counts()"
   ]
  },
  {
   "cell_type": "markdown",
   "id": "52ec725f",
   "metadata": {},
   "source": [
    "## Data Scalling\n",
    "\n",
    "### Standard Ccaler Choosen: (Result will have a mean of 0 and a standard deviation of 1)\n"
   ]
  },
  {
   "cell_type": "code",
   "execution_count": 15,
   "id": "984862db",
   "metadata": {},
   "outputs": [],
   "source": [
    "\n",
    "# train_to_scale = train.copy()\n",
    "# validate_to_scale = validate.copy()\n",
    "# test_to_scale = test.copy()\n",
    "\n",
    "# train_to_scale = train_to_scale.drop(columns = 'city')\n",
    "# validate_to_scale = validate_to_scale.drop(columns = 'city')\n",
    "# test_to_scale = test_to_scale.drop(columns = 'city')\n",
    "\n",
    "\n",
    "# # Create Scaled dataframes\n",
    "# train_scaled, validate_scaled, test_scaled = scaled_data(train_to_scale, validate_to_scale, test_to_scale)\n",
    "# # Reshape array & rename cols \n",
    "# bed_features_scaled = pd.DataFrame(np.array(train_scaled[['bed_count', 'assessed_value']].to_numpy()), columns = ['bed_count', 'assessed_value'])\n",
    "# bed_features_scaled.head(3)\n",
    "\n",
    "\n",
    "# # Map X, and y to features of interest and check lenght\n",
    "\n",
    "# X = bed_features_scaled['bed_count']\n",
    "# y = bed_features_scaled['assessed_value']\n",
    "\n",
    "# plt.figure(figsize = (16, 10))\n",
    "# plt.scatter(X, y)\n",
    "# plt.title('Bed Count VS Assessed Value(USD) Single Family Home', color = 'black', weight = 'normal', size = 20)\n",
    "# plt.xlabel('Bed Count', size = 15, color = 'black')\n",
    "# plt.ylabel('Assessed Value(USD)', size = 15, color = 'black')\n",
    "# plt.show()\n",
    "# --------------------------------------\n",
    "# # # Create a scaler object\n",
    "# # scaler = sklearn.preprocessing.StandardScaler()\n",
    "\n",
    "# # # Fit on train subset\n",
    "# # scaler.fit(train)\n",
    "\n",
    "#  # Transform scaler to train, validate and test subsets\n",
    "# train_scaled = scaler.transform(train)\n",
    "# validate_scaled = scaler.transform(validate)\n",
    "# test_scaled = scaler.transform(test)\n",
    "\n",
    "# plt.figure(figsize=(13, 6))\n",
    "# plt.subplot(121)\n",
    "# plt.hist(train, bins=25, ec='black')\n",
    "# plt.title('Original')\n",
    "# plt.subplot(122)\n",
    "# plt.hist(train_scaled, bins=25, ec='black')\n",
    "# plt.title('Scaled')"
   ]
  },
  {
   "cell_type": "code",
   "execution_count": 16,
   "id": "4420ddb2",
   "metadata": {
    "scrolled": false
   },
   "outputs": [
    {
     "data": {
      "image/png": "[encoded data removed]",
      "text/plain": [
       "<Figure size 1152x576 with 1 Axes>"
      ]
     },
     "metadata": {
      "needs_background": "light"
     },
     "output_type": "display_data"
    },
    {
     "data": {
      "image/png": "[encoded data removed]",
      "text/plain": [
       "<Figure size 1152x576 with 1 Axes>"
      ]
     },
     "metadata": {
      "needs_background": "light"
     },
     "output_type": "display_data"
    },
    {
     "data": {
      "image/png": "[encoded data removed]",
      "text/plain": [
       "<Figure size 1152x576 with 1 Axes>"
      ]
     },
     "metadata": {
      "needs_background": "light"
     },
     "output_type": "display_data"
    },
    {
     "data": {
      "image/png": "[encoded data removed]",
      "text/plain": [
       "<Figure size 1152x576 with 1 Axes>"
      ]
     },
     "metadata": {
      "needs_background": "light"
     },
     "output_type": "display_data"
    },
    {
     "data": {
      "image/png": "[encoded data removed]",
      "text/plain": [
       "<Figure size 1152x576 with 1 Axes>"
      ]
     },
     "metadata": {
      "needs_background": "light"
     },
     "output_type": "display_data"
    },
    {
     "data": {
      "image/png": "[encoded data removed]",
      "text/plain": [
       "<Figure size 1152x576 with 1 Axes>"
      ]
     },
     "metadata": {
      "needs_background": "light"
     },
     "output_type": "display_data"
    }
   ],
   "source": [
    "# Initial Visualizations\n",
    "plt.figure(figsize = (16, 8))\n",
    "plt.title('Bedroom Count Distribution ')\n",
    "plt.ylabel('Count #')\n",
    "plt.xlabel('Number of bedrooms')\n",
    "train.bed_count.hist()\n",
    "plt.show()\n",
    "plt.figure(figsize = (16, 8))\n",
    "plt.title('Bathroom Count Distribution ')\n",
    "plt.ylabel('Count #')\n",
    "plt.xlabel('Number of bathrooms')\n",
    "train.bath_count.hist()\n",
    "plt.show()\n",
    "plt.figure(figsize = (16, 8))\n",
    "plt.title('Square Feet Count Distribution ')\n",
    "plt.ylabel('Count #')\n",
    "plt.xlabel('Square feet')\n",
    "train.square_feet.hist()\n",
    "plt.show()\n",
    "plt.figure(figsize = (16, 8))\n",
    "plt.title('Assessed Value Count Distribution')\n",
    "plt.ylabel('Count #')\n",
    "plt.xlabel('Assessed Value')\n",
    "train.assessed_value.hist()\n",
    "plt.show()\n",
    "\n",
    "plt.figure(figsize = (16, 8))\n",
    "plt.title('Transaction Monthly Distribution')\n",
    "plt.ylabel('Count #')\n",
    "plt.xlabel('Month')\n",
    "train.trans_month.hist()\n",
    "plt.show()\n",
    "plt.figure(figsize = (16, 8))\n",
    "plt.title('Transaction By Day of month Distribution')\n",
    "plt.ylabel('Count #')\n",
    "plt.xlabel('Day of month')\n",
    "train.trans_day.hist()\n",
    "plt.show()"
   ]
  },
  {
   "cell_type": "code",
   "execution_count": 17,
   "id": "85315d1e",
   "metadata": {},
   "outputs": [
    {
     "data": {
      "text/html": [
       "<div>\n",
       "<style scoped>\n",
       "    .dataframe tbody tr th:only-of-type {\n",
       "        vertical-align: middle;\n",
       "    }\n",
       "\n",
       "    .dataframe tbody tr th {\n",
       "        vertical-align: top;\n",
       "    }\n",
       "\n",
       "    .dataframe thead th {\n",
       "        text-align: right;\n",
       "    }\n",
       "</style>\n",
       "<table border=\"1\" class=\"dataframe\">\n",
       "  <thead>\n",
       "    <tr style=\"text-align: right;\">\n",
       "      <th></th>\n",
       "      <th>bed_count</th>\n",
       "      <th>bath_count</th>\n",
       "      <th>square_feet</th>\n",
       "      <th>assessed_value</th>\n",
       "      <th>trans_month</th>\n",
       "      <th>trans_day</th>\n",
       "      <th>built_year</th>\n",
       "      <th>zip_code</th>\n",
       "      <th>city</th>\n",
       "    </tr>\n",
       "  </thead>\n",
       "  <tbody>\n",
       "    <tr>\n",
       "      <th>16035</th>\n",
       "      <td>3.0</td>\n",
       "      <td>2.0</td>\n",
       "      <td>1522.0</td>\n",
       "      <td>64360.0</td>\n",
       "      <td>4</td>\n",
       "      <td>14</td>\n",
       "      <td>1925</td>\n",
       "      <td>6037</td>\n",
       "      <td>Los Angeles</td>\n",
       "    </tr>\n",
       "    <tr>\n",
       "      <th>44800</th>\n",
       "      <td>2.0</td>\n",
       "      <td>1.0</td>\n",
       "      <td>900.0</td>\n",
       "      <td>338073.0</td>\n",
       "      <td>8</td>\n",
       "      <td>10</td>\n",
       "      <td>1951</td>\n",
       "      <td>6037</td>\n",
       "      <td>Los Angeles</td>\n",
       "    </tr>\n",
       "    <tr>\n",
       "      <th>20047</th>\n",
       "      <td>2.0</td>\n",
       "      <td>1.0</td>\n",
       "      <td>807.0</td>\n",
       "      <td>51727.0</td>\n",
       "      <td>4</td>\n",
       "      <td>21</td>\n",
       "      <td>1951</td>\n",
       "      <td>6037</td>\n",
       "      <td>Los Angeles</td>\n",
       "    </tr>\n",
       "    <tr>\n",
       "      <th>5077</th>\n",
       "      <td>3.0</td>\n",
       "      <td>3.0</td>\n",
       "      <td>2458.0</td>\n",
       "      <td>653996.0</td>\n",
       "      <td>2</td>\n",
       "      <td>16</td>\n",
       "      <td>1985</td>\n",
       "      <td>6059</td>\n",
       "      <td>Orange</td>\n",
       "    </tr>\n",
       "    <tr>\n",
       "      <th>36597</th>\n",
       "      <td>3.0</td>\n",
       "      <td>2.0</td>\n",
       "      <td>1386.0</td>\n",
       "      <td>242779.0</td>\n",
       "      <td>6</td>\n",
       "      <td>30</td>\n",
       "      <td>1962</td>\n",
       "      <td>6037</td>\n",
       "      <td>Los Angeles</td>\n",
       "    </tr>\n",
       "  </tbody>\n",
       "</table>\n",
       "</div>"
      ],
      "text/plain": [
       "       bed_count  bath_count  square_feet  assessed_value  trans_month  \\\n",
       "16035        3.0         2.0       1522.0         64360.0            4   \n",
       "44800        2.0         1.0        900.0        338073.0            8   \n",
       "20047        2.0         1.0        807.0         51727.0            4   \n",
       "5077         3.0         3.0       2458.0        653996.0            2   \n",
       "36597        3.0         2.0       1386.0        242779.0            6   \n",
       "\n",
       "       trans_day  built_year  zip_code         city  \n",
       "16035         14        1925      6037  Los Angeles  \n",
       "44800         10        1951      6037  Los Angeles  \n",
       "20047         21        1951      6037  Los Angeles  \n",
       "5077          16        1985      6059       Orange  \n",
       "36597         30        1962      6037  Los Angeles  "
      ]
     },
     "execution_count": 17,
     "metadata": {},
     "output_type": "execute_result"
    }
   ],
   "source": [
    "train.head()"
   ]
  },
  {
   "cell_type": "markdown",
   "id": "0882e182",
   "metadata": {},
   "source": [
    "## <u>Key Findings:</u>\n",
    "### __NOTE:_ All homes in dataset are zillow homes of 2017\n",
    "- 3 bedroom and 2 baths are the most common household classifications in 2017\n",
    "- Less than 2400 square feet single familly household were the most preferable homes in 2017\n",
    "- Homes built in late 1940s to early 1960s were the most transactioned homes in 2017. About 9500 homes. Followed by homes built in early 1960s to mid 1970s accounting approximately 5800, then third were homes in late 1970s to 1990s.\n",
    "- Least desired/ (not transactioned) homes were those build in 1900s followed by those built between mid 1900s to about 1918s.\n",
    "- Surprisingly, homes built about 1918s to late 1940s outperformed those built after about 2005\n",
    "- Most transactions were average throughout the year but peaked towards the last few days of teh year. \n"
   ]
  },
  {
   "cell_type": "markdown",
   "id": "7f478be0",
   "metadata": {},
   "source": [
    "## Initial possible drivers for home value:\n",
    "\n",
    "- Homes with __square feet greater than 2000__ are more likely to be bougth and sold than those below that value\n",
    "- Homes with bedroom count between __3 and 4__ are more likely to generate more assessed value than other homes.\n",
    "- The more the __batrooms (over 3) a home has__, the likely the rise in assessed value. \n",
    "- Homes __built after the year 2000__ are more likely to have higher assessed home value than those built before that year.\n",
    "- Homes in __Los Angels__ are likely to be highly assessed due to size of city than those in Orange and Ventura\n"
   ]
  },
  {
   "cell_type": "markdown",
   "id": "fcf8bc13",
   "metadata": {},
   "source": [
    "# <u>Exploration Phase:</u>\n",
    "\n",
    "## What Arives Assessed Value?"
   ]
  },
  {
   "cell_type": "markdown",
   "id": "c1104977",
   "metadata": {},
   "source": [
    "## QUIZ 1: Is there a correlation between homes square feet and its assessed value?\n",
    "\n",
    "\n",
    "##### H0 = 'There is no correlation between the homes square feet and and its variation in assessed value.'\n",
    "##### H1 = 'Homes square feet is correlated to its variation in assessed value.'"
   ]
  },
  {
   "cell_type": "markdown",
   "id": "afc462a4",
   "metadata": {},
   "source": [
    "> ### Visualize Square Feet VS Assessed Value"
   ]
  },
  {
   "cell_type": "code",
   "execution_count": 18,
   "id": "26a79dd0",
   "metadata": {
    "scrolled": false
   },
   "outputs": [
    {
     "data": {
      "image/png": "[encoded data removed]",
      "text/plain": [
       "<Figure size 814.897x576 with 1 Axes>"
      ]
     },
     "metadata": {
      "needs_background": "light"
     },
     "output_type": "display_data"
    }
   ],
   "source": [
    "\n",
    "# Create lmplot showing regression\n",
    "sns.lmplot(x = \"square_feet\", y = \"assessed_value\", data = train, \n",
    "            height = 8, aspect = 11.7/8.27, line_kws = {'color': 'red'})\n",
    "\n",
    "plt.title('Square Feet VS Assessed Value(USD) Single Family Home', color = 'black', weight = 'bold', size = 20)\n",
    "plt.xlabel('Home Square feet', size = 15, color = 'black')\n",
    "plt.ylabel('Assessed Value(USD)', size = 15, color = 'black')\n",
    "\n",
    "\n",
    "\n",
    "plt.show()\n",
    "\n",
    "\n"
   ]
  },
  {
   "cell_type": "markdown",
   "id": "807c2c91",
   "metadata": {},
   "source": [
    "##### Calculate the 'r' and 'p' values"
   ]
  },
  {
   "cell_type": "code",
   "execution_count": 19,
   "id": "1ca10551",
   "metadata": {},
   "outputs": [
    {
     "name": "stdout",
     "output_type": "stream",
     "text": [
      "\n",
      "SPEARMANSR SQUARE FEET\n",
      "\n",
      "\t- Correlation Coefficient: 0.5299891724996166\n",
      "\n",
      "\t- P-value: 0.0\n",
      "\n"
     ]
    }
   ],
   "source": [
    "# Hypothesis\n",
    "H0 = 'There is no correlation between the homes square feet and and its variation in assessed value.'\n",
    "H1 = 'Homes square feet is correlated to its variation in assessed value.'\n",
    "\n",
    "# Use a scipy stats function pearsonr to calculate the correlation coefficient and the p-value.\n",
    "r, p_value = spearmanr(train.square_feet, train.assessed_value)\n",
    "\n",
    "print('\\nSPEARMANSR SQUARE FEET')\n",
    "\n",
    "print(f'\\n\\t- Correlation Coefficient: {r}\\n\\n\\t- P-value: {p_value}\\n')"
   ]
  },
  {
   "cell_type": "markdown",
   "id": "768cd144",
   "metadata": {},
   "source": [
    "##### Test the hypothesis"
   ]
  },
  {
   "cell_type": "code",
   "execution_count": 20,
   "id": "31c1f4ff",
   "metadata": {},
   "outputs": [
    {
     "name": "stdout",
     "output_type": "stream",
     "text": [
      "\n",
      "REJECT: There is no correlation between the homes square feet and and its variation in assessed value.\n",
      "\n"
     ]
    }
   ],
   "source": [
    "alpha = 0.05\n",
    "\n",
    "if p_value > alpha:\n",
    "    print(f\"\\nFAILED TO REJECT: {H0}\\n\")\n",
    "\n",
    "else:\n",
    "    print(f\"\\nREJECT: {H0}\\n\")\n"
   ]
  },
  {
   "cell_type": "markdown",
   "id": "9a120a6a",
   "metadata": {},
   "source": [
    "## QUIZ 2: Is there a correlation between home's number of bedrooms and its assessed value?\n",
    "\n",
    "##### H0 = 'There is no correlation between the home\\'s number of bedroom and and its variation in assessed value.'\n",
    "##### H1 = 'Home\\'s number of bedroom is correlated to its variation in assessed value.'"
   ]
  },
  {
   "cell_type": "code",
   "execution_count": 21,
   "id": "1d520b6d",
   "metadata": {},
   "outputs": [
    {
     "data": {
      "image/png": "[encoded data removed]",
      "text/plain": [
       "<Figure size 814.897x576 with 1 Axes>"
      ]
     },
     "metadata": {
      "needs_background": "light"
     },
     "output_type": "display_data"
    }
   ],
   "source": [
    "# Create lmplot showing regression\n",
    "sns.lmplot(x=\"bed_count\", y=\"assessed_value\", data = train, \n",
    "            height = 8, aspect = 11.7/8.27, line_kws={'color': 'red'})\n",
    "\n",
    "plt.title('Bed Count VS Assessed Value(USD) Single Family Home', color = 'black', weight = 'bold', size = 20)\n",
    "plt.xlabel('Bed Count', size = 15, color = 'black')\n",
    "plt.ylabel('Assessed Value(USD)', size = 15, color = 'black')\n",
    "plt.show()\n",
    "\n",
    "\n"
   ]
  },
  {
   "cell_type": "markdown",
   "id": "3743b9cf",
   "metadata": {},
   "source": [
    "##### Calculate the 'r' and 'p' values"
   ]
  },
  {
   "cell_type": "code",
   "execution_count": 22,
   "id": "12ba38ee",
   "metadata": {},
   "outputs": [
    {
     "name": "stdout",
     "output_type": "stream",
     "text": [
      "\n",
      "SPEARMANSR BED COUNT\n",
      "\n",
      "\t- Correlation Coefficient: 0.2965257871082601\n",
      "\n",
      "\t- P-value: 0.0\n",
      "\n"
     ]
    }
   ],
   "source": [
    "# Formulated hypothesis\n",
    "H0 = 'There is no correlation between the home\\'s number of bedrooms and and its variation in assessed value.'\n",
    "H1 = 'Home\\'s number of bedroom is correlated to its variation in assessed value.'\n",
    "\n",
    "# Use a scipy stats function pearsonr to calculate the correlation coefficient and the p-value.\n",
    "r, p_value = spearmanr(train.bed_count, train.assessed_value)\n",
    "\n",
    "print('\\nSPEARMANSR BED COUNT')\n",
    "\n",
    "print(f'\\n\\t- Correlation Coefficient: {r}\\n\\n\\t- P-value: {p_value}\\n')"
   ]
  },
  {
   "cell_type": "markdown",
   "id": "7ebbab61",
   "metadata": {},
   "source": [
    "##### Test the hypothesis"
   ]
  },
  {
   "cell_type": "code",
   "execution_count": 23,
   "id": "d3dbef6f",
   "metadata": {},
   "outputs": [
    {
     "name": "stdout",
     "output_type": "stream",
     "text": [
      "\n",
      "REJECT: There is no correlation between the home's number of bedrooms and and its variation in assessed value.\n",
      "\n"
     ]
    }
   ],
   "source": [
    "alpha = 0.05\n",
    "\n",
    "if p_value > alpha:\n",
    "    print(f\"\\nFAILED TO REJECT: {H0}\\n\")\n",
    "\n",
    "else:\n",
    "    print(f\"\\nREJECT: {H0}\\n\")"
   ]
  },
  {
   "cell_type": "markdown",
   "id": "85937e28",
   "metadata": {},
   "source": [
    "## QUIZ 3: Is there a correlation between home's number of bathrooms and its assessed value?\n",
    "\n",
    "##### H0 = 'There is no correlation between the home\\'s number of bathrooms and and its variation in assessed value.'\n",
    "##### H1 = 'Home\\'s number of bathrooms is correlated to its variation in assessed value.'"
   ]
  },
  {
   "cell_type": "code",
   "execution_count": 24,
   "id": "257b4fdd",
   "metadata": {},
   "outputs": [
    {
     "data": {
      "image/png": "[encoded data removed]",
      "text/plain": [
       "<Figure size 814.897x576 with 1 Axes>"
      ]
     },
     "metadata": {
      "needs_background": "light"
     },
     "output_type": "display_data"
    }
   ],
   "source": [
    "# Create lmplot showing regression\n",
    "sns.lmplot(x=\"bath_count\", y=\"assessed_value\", data = train, \n",
    "            height = 8, aspect = 11.7/8.27, line_kws={'color': 'red'})\n",
    "\n",
    "plt.title('Bath Count VS Assessed Value(USD) Single Family Home', color = 'black', weight = 'bold', size = 20)\n",
    "plt.xlabel('Bath Count', size = 15, color = 'black')\n",
    "plt.ylabel('Assessed Value(USD)', size = 15, color = 'black')\n",
    "plt.show()\n",
    "\n",
    "\n"
   ]
  },
  {
   "cell_type": "markdown",
   "id": "48b789fa",
   "metadata": {},
   "source": [
    "##### Calculate the 'r' and 'p' values"
   ]
  },
  {
   "cell_type": "code",
   "execution_count": 25,
   "id": "2988cb35",
   "metadata": {},
   "outputs": [
    {
     "name": "stdout",
     "output_type": "stream",
     "text": [
      "\n",
      "SPEARMANSR BATH COUNT\n",
      "\n",
      "\t- Correlation Coefficient: 0.48934984695378525\n",
      "\n",
      "\t- P-value: 0.0\n",
      "\n"
     ]
    }
   ],
   "source": [
    "# Formulated hypothesis\n",
    "H0 = 'There is no correlation between the home\\'s number of bathrooms and and its variation in assessed value.'\n",
    "H1 = 'Home\\'s number of bathrooms is correlated to its variation in assessed value.'\n",
    "\n",
    "# Use a scipy stats function pearsonr to calculate the correlation coefficient and the p-value.\n",
    "r, p_value = spearmanr(train.bath_count, train.assessed_value)\n",
    "\n",
    "print('\\nSPEARMANSR BATH COUNT')\n",
    "\n",
    "print(f'\\n\\t- Correlation Coefficient: {r}\\n\\n\\t- P-value: {p_value}\\n')"
   ]
  },
  {
   "cell_type": "markdown",
   "id": "eea198b0",
   "metadata": {},
   "source": [
    "##### Test the hypothesis"
   ]
  },
  {
   "cell_type": "code",
   "execution_count": 26,
   "id": "dd8ddcd8",
   "metadata": {},
   "outputs": [
    {
     "name": "stdout",
     "output_type": "stream",
     "text": [
      "\n",
      "REJECT: There is no correlation between the home's number of bathrooms and and its variation in assessed value.\n",
      "\n"
     ]
    }
   ],
   "source": [
    "alpha = 0.05\n",
    "\n",
    "if p_value > alpha:\n",
    "    print(f\"\\nFAILED TO REJECT: {H0}\\n\")\n",
    "\n",
    "else:\n",
    "    print(f\"\\nREJECT: {H0}\\n\")"
   ]
  },
  {
   "cell_type": "markdown",
   "id": "70acdcd2",
   "metadata": {},
   "source": [
    "## QUIZ 4: Is there a correlation between transaction month and its assessed value?\n",
    "\n",
    "##### H0 = 'There is no correlation between transaction month and and its variation in assessed value.'\n",
    "##### H1 = 'Transaction month is correlated to its variation in assessed value.'"
   ]
  },
  {
   "cell_type": "code",
   "execution_count": 27,
   "id": "fd6357b8",
   "metadata": {},
   "outputs": [
    {
     "data": {
      "image/png": "[encoded data removed]",
      "text/plain": [
       "<Figure size 814.897x576 with 1 Axes>"
      ]
     },
     "metadata": {
      "needs_background": "light"
     },
     "output_type": "display_data"
    }
   ],
   "source": [
    "# Create lmplot showing regression\n",
    "sns.lmplot(x=\"trans_month\", y=\"assessed_value\", data = train, \n",
    "            height = 8, aspect = 11.7/8.27, line_kws={'color': 'red'})\n",
    "\n",
    "plt.title('Transaction Month VS Assessed Value(USD) Single Family Home', color = 'black', weight = 'bold', size = 20)\n",
    "plt.xlabel('Month (2017)', size = 15, color = 'black')\n",
    "plt.ylabel('Assessed Value(USD)', size = 15, color = 'black')\n",
    "plt.show()\n",
    "\n",
    "\n"
   ]
  },
  {
   "cell_type": "markdown",
   "id": "caabdaca",
   "metadata": {},
   "source": [
    "##### Calculate the 'r' and 'p' values"
   ]
  },
  {
   "cell_type": "code",
   "execution_count": 28,
   "id": "b9a51cad",
   "metadata": {},
   "outputs": [
    {
     "name": "stdout",
     "output_type": "stream",
     "text": [
      "\n",
      "SPEARMANSR TRANSACTION MONTH\n",
      "\n",
      "\t- Correlation Coefficient: 0.01800608852478578\n",
      "\n",
      "\t- P-value: 0.002055413288957108\n",
      "\n"
     ]
    }
   ],
   "source": [
    "# Formulated hypothesis\n",
    "H0 = 'There is no correlation between transaction month and and its variation in assessed value.'\n",
    "H1 = 'Transaction month is correlated to its variation in assessed value.'\n",
    "\n",
    "# Use a scipy stats function pearsonr to calculate the correlation coefficient and the p-value.\n",
    "\n",
    "r, p_value = spearmanr(train.trans_month, train.assessed_value)\n",
    "\n",
    "print('\\nSPEARMANSR TRANSACTION MONTH')\n",
    "\n",
    "print(f'\\n\\t- Correlation Coefficient: {r}\\n\\n\\t- P-value: {p_value}\\n')"
   ]
  },
  {
   "cell_type": "markdown",
   "id": "ed3a24e0",
   "metadata": {},
   "source": [
    "##### Test the hypothesis"
   ]
  },
  {
   "cell_type": "code",
   "execution_count": 29,
   "id": "337ed556",
   "metadata": {},
   "outputs": [
    {
     "name": "stdout",
     "output_type": "stream",
     "text": [
      "\n",
      "REJECT: There is no correlation between transaction month and and its variation in assessed value.\n",
      "\n"
     ]
    }
   ],
   "source": [
    "alpha = 0.05\n",
    "\n",
    "if p_value > alpha:\n",
    "    print(f\"\\nFAILED TO REJECT: {H0}\\n\")\n",
    "\n",
    "else:\n",
    "    print(f\"\\nREJECT: {H0}\\n\")"
   ]
  },
  {
   "cell_type": "markdown",
   "id": "1cd038b4",
   "metadata": {},
   "source": [
    "## QUIZ 5: Is there a correlation between a home\\'s location and its assessed value?\n",
    "\n",
    "##### H0 = 'There is no correlation between a home\\'s location and and its variation in assessed value.'\n",
    "##### H1 = 'A home\\s location is correlated to its variation in assessed value.'\n",
    "\n",
    "\n",
    "### 6037 ==  'Los Angeles'\n",
    "### 6059 == 'Orange'\n",
    "### 6111 == 'Ventura'\n"
   ]
  },
  {
   "cell_type": "code",
   "execution_count": 30,
   "id": "6a7baf49",
   "metadata": {},
   "outputs": [
    {
     "data": {
      "image/png": "[encoded data removed]",
      "text/plain": [
       "<Figure size 814.897x576 with 1 Axes>"
      ]
     },
     "metadata": {
      "needs_background": "light"
     },
     "output_type": "display_data"
    }
   ],
   "source": [
    "# Create lmplot showing regression\n",
    "sns.lmplot(x=\"zip_code\", y=\"assessed_value\", data = train, \n",
    "            height = 8, aspect = 11.7/8.27, line_kws={'color': 'red'})\n",
    "\n",
    "plt.title('Home Location VS Assessed Value(USD) Single Family Home', color = 'black', weight = 'bold', size = 20)\n",
    "plt.xlabel('Home Location', size = 15, color = 'black')\n",
    "plt.ylabel('Assessed Value(USD)', size = 15, color = 'black')\n",
    "# plt.text(1, 50, f'6037 == Los Angeles')\n",
    "# plt.text(1, 40, f'6059 == Orange')\n",
    "# plt.text(1, 30, f'6111 == Ventura')\n",
    "plt.show()\n",
    "\n",
    "\n",
    "# 6037: 'Los Angeles', 6059:'Orange', 6111:'Ventura'"
   ]
  },
  {
   "cell_type": "markdown",
   "id": "4de50d51",
   "metadata": {},
   "source": [
    "##### Calculate the 'r' and 'p' values"
   ]
  },
  {
   "cell_type": "code",
   "execution_count": 31,
   "id": "3736e163",
   "metadata": {},
   "outputs": [
    {
     "name": "stdout",
     "output_type": "stream",
     "text": [
      "\n",
      "SPEARMANSR LOCATION\n",
      "\n",
      "\t- Correlation Coefficient: 0.17582466391364532\n",
      "\n",
      "\t- P-value: 4.602786368446637e-202\n",
      "\n"
     ]
    }
   ],
   "source": [
    "# Formulated hypothesis\n",
    "H0 = 'There is no correlation between a home\\'s location and and its variation in assessed value.'\n",
    "H1 = 'A home\\'s location is correlated to its variation in assessed value.'\n",
    "\n",
    "# Use a scipy stats function pearsonr to calculate the correlation coefficient and the p-value.\n",
    "r, p_value = spearmanr(train.zip_code, train.assessed_value)\n",
    "\n",
    "print('\\nSPEARMANSR LOCATION')\n",
    "\n",
    "print(f'\\n\\t- Correlation Coefficient: {r}\\n\\n\\t- P-value: {p_value}\\n')"
   ]
  },
  {
   "cell_type": "markdown",
   "id": "036d6204",
   "metadata": {},
   "source": [
    "##### Test the hypothesis"
   ]
  },
  {
   "cell_type": "code",
   "execution_count": 32,
   "id": "a619d84d",
   "metadata": {},
   "outputs": [
    {
     "name": "stdout",
     "output_type": "stream",
     "text": [
      "\n",
      "REJECT: There is no correlation between a home's location and and its variation in assessed value.\n",
      "\n"
     ]
    }
   ],
   "source": [
    "alpha = 0.05\n",
    "\n",
    "if p_value > alpha:\n",
    "    print(f\"\\nFAILED TO REJECT: {H0}\\n\")\n",
    "\n",
    "else:\n",
    "    print(f\"\\nREJECT: {H0}\\n\")"
   ]
  },
  {
   "cell_type": "markdown",
   "id": "7e2a2d2a",
   "metadata": {},
   "source": [
    "## QUIZ 5: Is there a correlation between a home\\'s year built and its assessed value?\n",
    "\n",
    "##### H0 = 'There is no correlation between a home\\'s year built (age) and and its variation in assessed value.'\n",
    "##### H1 = 'A home\\s age is correlated to its variation in assessed value.'\n",
    "\n"
   ]
  },
  {
   "cell_type": "code",
   "execution_count": 33,
   "id": "547362e1",
   "metadata": {},
   "outputs": [
    {
     "data": {
      "image/png": "[encoded data removed]",
      "text/plain": [
       "<Figure size 814.897x576 with 1 Axes>"
      ]
     },
     "metadata": {
      "needs_background": "light"
     },
     "output_type": "display_data"
    }
   ],
   "source": [
    "# Create lmplot showing regression\n",
    "sns.lmplot(x=\"built_year\", y=\"assessed_value\", data = train, \n",
    "            height = 8, aspect = 11.7/8.27, line_kws={'color': 'red'})\n",
    "\n",
    "plt.title('Year Built VS Assessed Value(USD) Single Family Home', color = 'black', weight = 'bold', size = 20)\n",
    "plt.xlabel('Year Constructed', size = 15, color = 'black')\n",
    "plt.ylabel('Assessed Value(USD)', size = 15, color = 'black')\n",
    "plt.show()"
   ]
  },
  {
   "cell_type": "markdown",
   "id": "54a648ac",
   "metadata": {},
   "source": [
    "##### Calculate the 'r' and 'p' values"
   ]
  },
  {
   "cell_type": "code",
   "execution_count": 34,
   "id": "782acda7",
   "metadata": {},
   "outputs": [
    {
     "name": "stdout",
     "output_type": "stream",
     "text": [
      "\n",
      "SPEARMANSR YEAR BUILT\n",
      "\n",
      "\t- Correlation Coefficient: 0.2776150044515125\n",
      "\n",
      "\t- P-value: 0.0\n",
      "\n"
     ]
    }
   ],
   "source": [
    "# Formulated hypothesis\n",
    "H0 = 'There is no correlation between a home\\'s year built and and its variation in assessed value.'\n",
    "H1 = 'A home\\'s age is correlated to its variation in assessed value.'\n",
    "\n",
    "# Use a scipy stats function pearsonr to calculate the correlation coefficient and the p-value.\n",
    "r, p_value = spearmanr(train.built_year, train.assessed_value)\n",
    "\n",
    "print('\\nSPEARMANSR YEAR BUILT')\n",
    "\n",
    "print(f'\\n\\t- Correlation Coefficient: {r}\\n\\n\\t- P-value: {p_value}\\n')"
   ]
  },
  {
   "cell_type": "markdown",
   "id": "0f3b97d2",
   "metadata": {},
   "source": [
    "##### Test the hypothesis"
   ]
  },
  {
   "cell_type": "code",
   "execution_count": 35,
   "id": "2bde53aa",
   "metadata": {},
   "outputs": [
    {
     "name": "stdout",
     "output_type": "stream",
     "text": [
      "\n",
      "REJECT: There is no correlation between a home's year built and and its variation in assessed value.\n",
      "\n"
     ]
    }
   ],
   "source": [
    "alpha = 0.05\n",
    "\n",
    "if p_value > alpha:\n",
    "    print(f\"\\nFAILED TO REJECT: {H0}\\n\")\n",
    "\n",
    "else:\n",
    "    print(f\"\\nREJECT: {H0}\\n\")"
   ]
  },
  {
   "cell_type": "markdown",
   "id": "4edf9162",
   "metadata": {},
   "source": [
    "## Summry: Top 3 Drivers for Assessed Value"
   ]
  },
  {
   "cell_type": "code",
   "execution_count": 36,
   "id": "8417f5a6",
   "metadata": {},
   "outputs": [
    {
     "data": {
      "image/png": "[encoded data removed]",
      "text/plain": [
       "<Figure size 1080x1080 with 3 Axes>"
      ]
     },
     "metadata": {
      "needs_background": "light"
     },
     "output_type": "display_data"
    }
   ],
   "source": [
    "g = sns.pairplot(train, kind='reg', plot_kws={'line_kws':{'color':'red'}}, x_vars = ['bed_count', 'bath_count', 'square_feet'], \n",
    "                 y_vars = ['assessed_value'])\n",
    "\n",
    "g.fig.set_size_inches(15,15)"
   ]
  },
  {
   "cell_type": "markdown",
   "id": "f61c2d2f",
   "metadata": {},
   "source": [
    "## Summary: Other Factors Relations to Assessed Value\n",
    "\n",
    ">- ### Examine Built / Age relations to assessed value. Shows increased linear regression suggesting its a driver"
   ]
  },
  {
   "cell_type": "code",
   "execution_count": 37,
   "id": "b11fd3d0",
   "metadata": {},
   "outputs": [
    {
     "data": {
      "image/png": "[encoded data removed]",
      "text/plain": [
       "<Figure size 1080x1080 with 4 Axes>"
      ]
     },
     "metadata": {
      "needs_background": "light"
     },
     "output_type": "display_data"
    }
   ],
   "source": [
    "g = sns.pairplot(train, kind='reg', plot_kws={'line_kws':{'color':'yellow'}}, x_vars = ['trans_month', 'trans_day', 'built_year', 'zip_code'], \n",
    "                 y_vars = ['assessed_value'])\n",
    "\n",
    "g.fig.set_size_inches(15,15)"
   ]
  },
  {
   "cell_type": "markdown",
   "id": "9c68a11e",
   "metadata": {},
   "source": [
    "# <u>Correlations Calculations:</u> \n",
    "\n",
    "### Zillow Correlation "
   ]
  },
  {
   "cell_type": "code",
   "execution_count": 38,
   "id": "a50756ad",
   "metadata": {},
   "outputs": [
    {
     "data": {
      "text/html": [
       "<div>\n",
       "<style scoped>\n",
       "    .dataframe tbody tr th:only-of-type {\n",
       "        vertical-align: middle;\n",
       "    }\n",
       "\n",
       "    .dataframe tbody tr th {\n",
       "        vertical-align: top;\n",
       "    }\n",
       "\n",
       "    .dataframe thead th {\n",
       "        text-align: right;\n",
       "    }\n",
       "</style>\n",
       "<table border=\"1\" class=\"dataframe\">\n",
       "  <thead>\n",
       "    <tr style=\"text-align: right;\">\n",
       "      <th></th>\n",
       "      <th>bed_count</th>\n",
       "      <th>bath_count</th>\n",
       "      <th>square_feet</th>\n",
       "      <th>assessed_value</th>\n",
       "      <th>trans_month</th>\n",
       "    </tr>\n",
       "  </thead>\n",
       "  <tbody>\n",
       "    <tr>\n",
       "      <th>bed_count</th>\n",
       "      <td>1.000000</td>\n",
       "      <td>0.646463</td>\n",
       "      <td>0.629773</td>\n",
       "      <td>0.273847</td>\n",
       "      <td>0.009464</td>\n",
       "    </tr>\n",
       "    <tr>\n",
       "      <th>bath_count</th>\n",
       "      <td>0.646463</td>\n",
       "      <td>1.000000</td>\n",
       "      <td>0.848716</td>\n",
       "      <td>0.507330</td>\n",
       "      <td>0.015495</td>\n",
       "    </tr>\n",
       "    <tr>\n",
       "      <th>square_feet</th>\n",
       "      <td>0.629773</td>\n",
       "      <td>0.848716</td>\n",
       "      <td>1.000000</td>\n",
       "      <td>0.599351</td>\n",
       "      <td>0.007299</td>\n",
       "    </tr>\n",
       "    <tr>\n",
       "      <th>assessed_value</th>\n",
       "      <td>0.273847</td>\n",
       "      <td>0.507330</td>\n",
       "      <td>0.599351</td>\n",
       "      <td>1.000000</td>\n",
       "      <td>0.009645</td>\n",
       "    </tr>\n",
       "    <tr>\n",
       "      <th>trans_month</th>\n",
       "      <td>0.009464</td>\n",
       "      <td>0.015495</td>\n",
       "      <td>0.007299</td>\n",
       "      <td>0.009645</td>\n",
       "      <td>1.000000</td>\n",
       "    </tr>\n",
       "  </tbody>\n",
       "</table>\n",
       "</div>"
      ],
      "text/plain": [
       "                bed_count  bath_count  square_feet  assessed_value  \\\n",
       "bed_count        1.000000    0.646463     0.629773        0.273847   \n",
       "bath_count       0.646463    1.000000     0.848716        0.507330   \n",
       "square_feet      0.629773    0.848716     1.000000        0.599351   \n",
       "assessed_value   0.273847    0.507330     0.599351        1.000000   \n",
       "trans_month      0.009464    0.015495     0.007299        0.009645   \n",
       "\n",
       "                trans_month  \n",
       "bed_count          0.009464  \n",
       "bath_count         0.015495  \n",
       "square_feet        0.007299  \n",
       "assessed_value     0.009645  \n",
       "trans_month        1.000000  "
      ]
     },
     "execution_count": 38,
     "metadata": {},
     "output_type": "execute_result"
    }
   ],
   "source": [
    "zillow_corr = train.drop(columns = ['city','trans_day', 'zip_code','built_year']).corr()\n",
    "zillow_corr"
   ]
  },
  {
   "cell_type": "markdown",
   "id": "880d582a",
   "metadata": {},
   "source": [
    "### Correlation Heatmap Matrix"
   ]
  },
  {
   "cell_type": "code",
   "execution_count": 39,
   "id": "ced14d94",
   "metadata": {},
   "outputs": [
    {
     "data": {
      "image/png": "[encoded data removed]",
      "text/plain": [
       "<Figure size 1152x648 with 2 Axes>"
      ]
     },
     "metadata": {
      "needs_background": "light"
     },
     "output_type": "display_data"
    }
   ],
   "source": [
    "plt.figure(figsize=(16,9))\n",
    "sns.heatmap(zillow_corr, cmap='Greens', annot=True, linewidth=0.5, mask= np.triu(zillow_corr))\n",
    "plt.ylim(0, 5)\n",
    "\n",
    "plt.show()"
   ]
  },
  {
   "cell_type": "markdown",
   "id": "bf8a9517",
   "metadata": {},
   "source": [
    "### Correlation Coefficient (Pearsonr - Constant linear relationship)"
   ]
  },
  {
   "cell_type": "code",
   "execution_count": 40,
   "id": "9f191eb9",
   "metadata": {},
   "outputs": [
    {
     "name": "stdout",
     "output_type": "stream",
     "text": [
      "\n",
      "PEARSONR\n",
      "\n",
      "\t- Correlation Coefficient: 0.5993514769224604\n",
      "\n",
      "\t- P-value: 0.0\n",
      "\n"
     ]
    }
   ],
   "source": [
    "# Use a scipy stats function pearsonr to calculate the correlation coefficient and the p-value.\n",
    "\n",
    "r, p_value = pearsonr(train.square_feet, train.assessed_value)\n",
    "print('\\nPEARSONR')\n",
    "\n",
    "print(f'\\n\\t- Correlation Coefficient: {r}\\n\\n\\t- P-value: {p_value}\\n')\n"
   ]
  },
  {
   "cell_type": "markdown",
   "id": "9638902e",
   "metadata": {},
   "source": [
    "### With Spearman (Normally Distributed Data)"
   ]
  },
  {
   "cell_type": "code",
   "execution_count": 41,
   "id": "fffe9ff4",
   "metadata": {},
   "outputs": [
    {
     "data": {
      "text/html": [
       "<div>\n",
       "<style scoped>\n",
       "    .dataframe tbody tr th:only-of-type {\n",
       "        vertical-align: middle;\n",
       "    }\n",
       "\n",
       "    .dataframe tbody tr th {\n",
       "        vertical-align: top;\n",
       "    }\n",
       "\n",
       "    .dataframe thead th {\n",
       "        text-align: right;\n",
       "    }\n",
       "</style>\n",
       "<table border=\"1\" class=\"dataframe\">\n",
       "  <thead>\n",
       "    <tr style=\"text-align: right;\">\n",
       "      <th></th>\n",
       "      <th>bed_count</th>\n",
       "      <th>bath_count</th>\n",
       "      <th>square_feet</th>\n",
       "      <th>assessed_value</th>\n",
       "      <th>trans_month</th>\n",
       "    </tr>\n",
       "  </thead>\n",
       "  <tbody>\n",
       "    <tr>\n",
       "      <th>bed_count</th>\n",
       "      <td>1.000000</td>\n",
       "      <td>0.639101</td>\n",
       "      <td>0.667909</td>\n",
       "      <td>0.296526</td>\n",
       "      <td>0.010176</td>\n",
       "    </tr>\n",
       "    <tr>\n",
       "      <th>bath_count</th>\n",
       "      <td>0.639101</td>\n",
       "      <td>1.000000</td>\n",
       "      <td>0.839867</td>\n",
       "      <td>0.489350</td>\n",
       "      <td>0.018618</td>\n",
       "    </tr>\n",
       "    <tr>\n",
       "      <th>square_feet</th>\n",
       "      <td>0.667909</td>\n",
       "      <td>0.839867</td>\n",
       "      <td>1.000000</td>\n",
       "      <td>0.529989</td>\n",
       "      <td>0.015074</td>\n",
       "    </tr>\n",
       "    <tr>\n",
       "      <th>assessed_value</th>\n",
       "      <td>0.296526</td>\n",
       "      <td>0.489350</td>\n",
       "      <td>0.529989</td>\n",
       "      <td>1.000000</td>\n",
       "      <td>0.018006</td>\n",
       "    </tr>\n",
       "    <tr>\n",
       "      <th>trans_month</th>\n",
       "      <td>0.010176</td>\n",
       "      <td>0.018618</td>\n",
       "      <td>0.015074</td>\n",
       "      <td>0.018006</td>\n",
       "      <td>1.000000</td>\n",
       "    </tr>\n",
       "  </tbody>\n",
       "</table>\n",
       "</div>"
      ],
      "text/plain": [
       "                bed_count  bath_count  square_feet  assessed_value  \\\n",
       "bed_count        1.000000    0.639101     0.667909        0.296526   \n",
       "bath_count       0.639101    1.000000     0.839867        0.489350   \n",
       "square_feet      0.667909    0.839867     1.000000        0.529989   \n",
       "assessed_value   0.296526    0.489350     0.529989        1.000000   \n",
       "trans_month      0.010176    0.018618     0.015074        0.018006   \n",
       "\n",
       "                trans_month  \n",
       "bed_count          0.010176  \n",
       "bath_count         0.018618  \n",
       "square_feet        0.015074  \n",
       "assessed_value     0.018006  \n",
       "trans_month        1.000000  "
      ]
     },
     "execution_count": 41,
     "metadata": {},
     "output_type": "execute_result"
    }
   ],
   "source": [
    "# Spearman (Normally distributed\n",
    "\n",
    "zillow_spearman = train.drop(columns=['city','trans_day', 'zip_code','built_year']).corr(method='spearman')\n",
    "zillow_spearman\n"
   ]
  },
  {
   "cell_type": "code",
   "execution_count": 42,
   "id": "a9f35571",
   "metadata": {},
   "outputs": [
    {
     "data": {
      "image/png": "[encoded data removed]",
      "text/plain": [
       "<Figure size 1152x648 with 2 Axes>"
      ]
     },
     "metadata": {
      "needs_background": "light"
     },
     "output_type": "display_data"
    }
   ],
   "source": [
    "plt.figure(figsize=(16,9))\n",
    "\n",
    "sns.heatmap(zillow_spearman, cmap='Reds', annot = True, linewidth=0.5, mask= np.triu(zillow_corr))\n",
    "\n",
    "plt.ylim(0, 5)\n",
    "\n",
    "plt.show()\n"
   ]
  },
  {
   "cell_type": "markdown",
   "id": "e837307c",
   "metadata": {},
   "source": [
    "# <u>Feature Engineering</u>\n",
    "\n",
    ">#### Finding features that better represent the underlying problem to the predictive models, resulting in improved model accuracy on unseen data."
   ]
  },
  {
   "cell_type": "code",
   "execution_count": 43,
   "id": "d585df38",
   "metadata": {},
   "outputs": [],
   "source": [
    "# Select features to explore \n",
    "\n",
    "X_train = train[['bed_count', 'bath_count', 'square_feet',\n",
    "                 'trans_month', 'trans_day', 'built_year', 'zip_code']]\n",
    "y_train = train.assessed_value\n",
    "\n",
    "X_validate = validate[['bed_count', 'bath_count', 'square_feet', \n",
    "                       'trans_month', 'trans_day', 'built_year', 'zip_code']]\n",
    "y_validate = validate.assessed_value\n",
    "\n",
    "X_test = test[['bed_count', 'bath_count', 'square_feet', \n",
    "               'trans_month', 'trans_day', 'built_year', 'zip_code']]\n",
    "y_test = test.assessed_value"
   ]
  },
  {
   "cell_type": "markdown",
   "id": "fc454699",
   "metadata": {},
   "source": [
    "## (1). SelectKBest"
   ]
  },
  {
   "cell_type": "code",
   "execution_count": 44,
   "id": "60cd787b",
   "metadata": {},
   "outputs": [
    {
     "name": "stdout",
     "output_type": "stream",
     "text": [
      "Enter count of SelectKBest features to return: 3\n"
     ]
    },
    {
     "data": {
      "text/plain": [
       "Index(['bed_count', 'bath_count', 'square_feet'], dtype='object')"
      ]
     },
     "execution_count": 44,
     "metadata": {},
     "output_type": "execute_result"
    }
   ],
   "source": [
    "select_k_best = select_kbest_feature_engineering(X_train, y_train, 3)\n",
    "select_k_best"
   ]
  },
  {
   "cell_type": "markdown",
   "id": "ce0b8086",
   "metadata": {},
   "source": [
    ">### Rank SelectKBest Features"
   ]
  },
  {
   "cell_type": "code",
   "execution_count": 45,
   "id": "acac1e47",
   "metadata": {},
   "outputs": [
    {
     "data": {
      "text/plain": [
       "SelectKBest(k=2, score_func=<function f_regression at 0x7f7d22260e50>)"
      ]
     },
     "execution_count": 45,
     "metadata": {},
     "output_type": "execute_result"
    }
   ],
   "source": [
    "kbest = SelectKBest(f_regression, k = 2)\n",
    "\n",
    "kbest.fit(X_train, y_train)"
   ]
  },
  {
   "cell_type": "code",
   "execution_count": 46,
   "id": "e6a44c54",
   "metadata": {},
   "outputs": [
    {
     "data": {
      "text/html": [
       "<div>\n",
       "<style scoped>\n",
       "    .dataframe tbody tr th:only-of-type {\n",
       "        vertical-align: middle;\n",
       "    }\n",
       "\n",
       "    .dataframe tbody tr th {\n",
       "        vertical-align: top;\n",
       "    }\n",
       "\n",
       "    .dataframe thead th {\n",
       "        text-align: right;\n",
       "    }\n",
       "</style>\n",
       "<table border=\"1\" class=\"dataframe\">\n",
       "  <thead>\n",
       "    <tr style=\"text-align: right;\">\n",
       "      <th></th>\n",
       "      <th>p</th>\n",
       "      <th>f</th>\n",
       "    </tr>\n",
       "  </thead>\n",
       "  <tbody>\n",
       "    <tr>\n",
       "      <th>bed_count</th>\n",
       "      <td>0.000000e+00</td>\n",
       "      <td>2375.005194</td>\n",
       "    </tr>\n",
       "    <tr>\n",
       "      <th>bath_count</th>\n",
       "      <td>0.000000e+00</td>\n",
       "      <td>10153.362041</td>\n",
       "    </tr>\n",
       "    <tr>\n",
       "      <th>square_feet</th>\n",
       "      <td>0.000000e+00</td>\n",
       "      <td>16422.875486</td>\n",
       "    </tr>\n",
       "    <tr>\n",
       "      <th>trans_month</th>\n",
       "      <td>9.875797e-02</td>\n",
       "      <td>2.725661</td>\n",
       "    </tr>\n",
       "    <tr>\n",
       "      <th>trans_day</th>\n",
       "      <td>6.599920e-04</td>\n",
       "      <td>11.601159</td>\n",
       "    </tr>\n",
       "    <tr>\n",
       "      <th>built_year</th>\n",
       "      <td>2.183660e-208</td>\n",
       "      <td>964.559699</td>\n",
       "    </tr>\n",
       "    <tr>\n",
       "      <th>zip_code</th>\n",
       "      <td>3.179239e-05</td>\n",
       "      <td>17.312943</td>\n",
       "    </tr>\n",
       "  </tbody>\n",
       "</table>\n",
       "</div>"
      ],
      "text/plain": [
       "                         p             f\n",
       "bed_count     0.000000e+00   2375.005194\n",
       "bath_count    0.000000e+00  10153.362041\n",
       "square_feet   0.000000e+00  16422.875486\n",
       "trans_month   9.875797e-02      2.725661\n",
       "trans_day     6.599920e-04     11.601159\n",
       "built_year   2.183660e-208    964.559699\n",
       "zip_code      3.179239e-05     17.312943"
      ]
     },
     "execution_count": 46,
     "metadata": {},
     "output_type": "execute_result"
    }
   ],
   "source": [
    "kbest_results = pd.DataFrame(dict(p = kbest.pvalues_, \n",
    "                                  f = kbest.scores_), \n",
    "                             index = X_train.columns)\n",
    "kbest_results"
   ]
  },
  {
   "cell_type": "code",
   "execution_count": 47,
   "id": "58dff5f1",
   "metadata": {},
   "outputs": [
    {
     "data": {
      "text/html": [
       "<div>\n",
       "<style scoped>\n",
       "    .dataframe tbody tr th:only-of-type {\n",
       "        vertical-align: middle;\n",
       "    }\n",
       "\n",
       "    .dataframe tbody tr th {\n",
       "        vertical-align: top;\n",
       "    }\n",
       "\n",
       "    .dataframe thead th {\n",
       "        text-align: right;\n",
       "    }\n",
       "</style>\n",
       "<table border=\"1\" class=\"dataframe\">\n",
       "  <thead>\n",
       "    <tr style=\"text-align: right;\">\n",
       "      <th></th>\n",
       "      <th>bath_count</th>\n",
       "      <th>square_feet</th>\n",
       "    </tr>\n",
       "  </thead>\n",
       "  <tbody>\n",
       "    <tr>\n",
       "      <th>16035</th>\n",
       "      <td>2.0</td>\n",
       "      <td>1522.0</td>\n",
       "    </tr>\n",
       "    <tr>\n",
       "      <th>44800</th>\n",
       "      <td>1.0</td>\n",
       "      <td>900.0</td>\n",
       "    </tr>\n",
       "    <tr>\n",
       "      <th>20047</th>\n",
       "      <td>1.0</td>\n",
       "      <td>807.0</td>\n",
       "    </tr>\n",
       "    <tr>\n",
       "      <th>5077</th>\n",
       "      <td>3.0</td>\n",
       "      <td>2458.0</td>\n",
       "    </tr>\n",
       "    <tr>\n",
       "      <th>36597</th>\n",
       "      <td>2.0</td>\n",
       "      <td>1386.0</td>\n",
       "    </tr>\n",
       "  </tbody>\n",
       "</table>\n",
       "</div>"
      ],
      "text/plain": [
       "       bath_count  square_feet\n",
       "16035         2.0       1522.0\n",
       "44800         1.0        900.0\n",
       "20047         1.0        807.0\n",
       "5077          3.0       2458.0\n",
       "36597         2.0       1386.0"
      ]
     },
     "execution_count": 47,
     "metadata": {},
     "output_type": "execute_result"
    }
   ],
   "source": [
    "\n",
    "X_train_transformed = pd.DataFrame(kbest.transform(X_train),index = X_train.index,\n",
    "                                   columns = X_train.columns[kbest.get_support()])\n",
    "\n",
    "\n",
    "X_train_transformed.head()\n"
   ]
  },
  {
   "cell_type": "markdown",
   "id": "e8df20d7",
   "metadata": {},
   "source": [
    "## (2). Recursive Feature Elimination (RFE)"
   ]
  },
  {
   "cell_type": "code",
   "execution_count": 48,
   "id": "25e12e24",
   "metadata": {},
   "outputs": [
    {
     "name": "stdout",
     "output_type": "stream",
     "text": [
      "Enter count of RFE features to return: 3\n"
     ]
    },
    {
     "data": {
      "text/plain": [
       "Index(['bed_count', 'bath_count', 'built_year'], dtype='object')"
      ]
     },
     "execution_count": 48,
     "metadata": {},
     "output_type": "execute_result"
    }
   ],
   "source": [
    "rfe_feature_engineering(X_train, y_train, 3)"
   ]
  },
  {
   "cell_type": "markdown",
   "id": "492a40ab",
   "metadata": {},
   "source": [
    ">### Rank RFE Features"
   ]
  },
  {
   "cell_type": "code",
   "execution_count": 49,
   "id": "736189c7",
   "metadata": {},
   "outputs": [
    {
     "data": {
      "text/html": [
       "<div>\n",
       "<style scoped>\n",
       "    .dataframe tbody tr th:only-of-type {\n",
       "        vertical-align: middle;\n",
       "    }\n",
       "\n",
       "    .dataframe tbody tr th {\n",
       "        vertical-align: top;\n",
       "    }\n",
       "\n",
       "    .dataframe thead th {\n",
       "        text-align: right;\n",
       "    }\n",
       "</style>\n",
       "<table border=\"1\" class=\"dataframe\">\n",
       "  <thead>\n",
       "    <tr style=\"text-align: right;\">\n",
       "      <th></th>\n",
       "      <th>rfe_ranks</th>\n",
       "    </tr>\n",
       "  </thead>\n",
       "  <tbody>\n",
       "    <tr>\n",
       "      <th>bed_count</th>\n",
       "      <td>1</td>\n",
       "    </tr>\n",
       "    <tr>\n",
       "      <th>bath_count</th>\n",
       "      <td>1</td>\n",
       "    </tr>\n",
       "    <tr>\n",
       "      <th>square_feet</th>\n",
       "      <td>5</td>\n",
       "    </tr>\n",
       "    <tr>\n",
       "      <th>trans_month</th>\n",
       "      <td>4</td>\n",
       "    </tr>\n",
       "    <tr>\n",
       "      <th>trans_day</th>\n",
       "      <td>3</td>\n",
       "    </tr>\n",
       "    <tr>\n",
       "      <th>built_year</th>\n",
       "      <td>2</td>\n",
       "    </tr>\n",
       "    <tr>\n",
       "      <th>zip_code</th>\n",
       "      <td>6</td>\n",
       "    </tr>\n",
       "  </tbody>\n",
       "</table>\n",
       "</div>"
      ],
      "text/plain": [
       "             rfe_ranks\n",
       "bed_count            1\n",
       "bath_count           1\n",
       "square_feet          5\n",
       "trans_month          4\n",
       "trans_day            3\n",
       "built_year           2\n",
       "zip_code             6"
      ]
     },
     "execution_count": 49,
     "metadata": {},
     "output_type": "execute_result"
    }
   ],
   "source": [
    "# Call linear reg'\n",
    "model = LinearRegression()\n",
    "\n",
    "# Fit the model and select best two features (n_features_to_select = 2)\n",
    "rfe = RFE(model, n_features_to_select = 2)\n",
    "rfe.fit(X_train, y_train)\n",
    "\n",
    "# Rank the RFE features\n",
    "pd.DataFrame({'rfe_ranks': rfe.ranking_}, index = X_train.columns)"
   ]
  },
  {
   "cell_type": "code",
   "execution_count": 50,
   "id": "885c1a12",
   "metadata": {},
   "outputs": [
    {
     "data": {
      "text/html": [
       "<div>\n",
       "<style scoped>\n",
       "    .dataframe tbody tr th:only-of-type {\n",
       "        vertical-align: middle;\n",
       "    }\n",
       "\n",
       "    .dataframe tbody tr th {\n",
       "        vertical-align: top;\n",
       "    }\n",
       "\n",
       "    .dataframe thead th {\n",
       "        text-align: right;\n",
       "    }\n",
       "</style>\n",
       "<table border=\"1\" class=\"dataframe\">\n",
       "  <thead>\n",
       "    <tr style=\"text-align: right;\">\n",
       "      <th></th>\n",
       "      <th>bed_count</th>\n",
       "      <th>bath_count</th>\n",
       "    </tr>\n",
       "  </thead>\n",
       "  <tbody>\n",
       "    <tr>\n",
       "      <th>16035</th>\n",
       "      <td>3.0</td>\n",
       "      <td>2.0</td>\n",
       "    </tr>\n",
       "    <tr>\n",
       "      <th>44800</th>\n",
       "      <td>2.0</td>\n",
       "      <td>1.0</td>\n",
       "    </tr>\n",
       "    <tr>\n",
       "      <th>20047</th>\n",
       "      <td>2.0</td>\n",
       "      <td>1.0</td>\n",
       "    </tr>\n",
       "    <tr>\n",
       "      <th>5077</th>\n",
       "      <td>3.0</td>\n",
       "      <td>3.0</td>\n",
       "    </tr>\n",
       "    <tr>\n",
       "      <th>36597</th>\n",
       "      <td>3.0</td>\n",
       "      <td>2.0</td>\n",
       "    </tr>\n",
       "  </tbody>\n",
       "</table>\n",
       "</div>"
      ],
      "text/plain": [
       "       bed_count  bath_count\n",
       "16035        3.0         2.0\n",
       "44800        2.0         1.0\n",
       "20047        2.0         1.0\n",
       "5077         3.0         3.0\n",
       "36597        3.0         2.0"
      ]
     },
     "execution_count": 50,
     "metadata": {},
     "output_type": "execute_result"
    }
   ],
   "source": [
    "# RFE Ranking\n",
    "X_train_transformed = pd.DataFrame(rfe.transform(X_train),index = X_train.index,\n",
    "                                   columns = X_train.columns[rfe.support_])\n",
    "\n",
    "X_train_transformed.head()"
   ]
  },
  {
   "cell_type": "markdown",
   "id": "307e6e22",
   "metadata": {},
   "source": [
    "# <u>Exploration Summary</u>\n",
    "\n",
    "- The features evaluated in this datasets are:\n",
    " - Squre feet\n",
    " - Number of beds a home has\n",
    " - Number of bath counts\n",
    " - The month transaction was conducted\n",
    " - The Location of the property by zip-code\n",
    "\n",
    "### (i). SelectKBest Feature Results:\n",
    "\n",
    " - ### [ 'bed_count', 'bath_count', 'square_feet' ]\n",
    "\n",
    "\n",
    "### (ii). RFE Feature Results:\n",
    " - ### ['bed_count', 'bath_count', 'built_year']\n",
    "\n",
    "### (iii). Overall Ranking\n",
    " - ### ['bed_count', 'bath_count', 'square_feet', 'trans_month', 'trans_day', 'built_year', 'zip_code']\n",
    "\n",
    "## <u>Observations</u>\n",
    "\n",
    "- ##### Note correlation do not tell the complete story of data. It measures linear relationship between 2 variables. This project approach is to compare two relationship individually and check effects on assessed value of homes in 2017.\n",
    "- __Heat map:__ \n",
    "  - Sqaure feet -> 0.6\n",
    "  - Bath count -> 0.51\n",
    "  - Bed count -> 0.27\n",
    " \n",
    "- __SpearmanR:__\n",
    "  - Sqaure feet -> 0.53\n",
    "  - Bath count -> 0.49\n",
    "  - Bed count -> 0.3\n",
    "  \n",
    "- ##### The heatmap summary and SpearmanR summary above shows that square feet is the leading feature contributing to assessed value for 2017 Zillow properties. \n",
    "- ##### With alpha level of 0.05, all independeny features tested resulted in reject in null hypothesis. __Meaning,__ there are correlation between above features with assessed value. \n",
    "\n",
    "\n",
    "\n",
    "\n",
    "# Moving forward... \n",
    "## Since square feet is the leading driver for assessed value, we will build a model with this feature to predict assessed home value for single household family home in 2017. \n",
    "\n",
    "\n",
    ">- ## If time permits:\n",
    ">- #### Year built effect on assessed value\n",
    ">- #### Effects of Location\n",
    ">- #### Square feet and bath count 84%\n"
   ]
  },
  {
   "cell_type": "markdown",
   "id": "140ef8f6",
   "metadata": {},
   "source": [
    "# <u>Modeling Phase: </u>\n",
    "\n"
   ]
  },
  {
   "cell_type": "code",
   "execution_count": 51,
   "id": "008c0198",
   "metadata": {},
   "outputs": [
    {
     "data": {
      "text/html": [
       "<div>\n",
       "<style scoped>\n",
       "    .dataframe tbody tr th:only-of-type {\n",
       "        vertical-align: middle;\n",
       "    }\n",
       "\n",
       "    .dataframe tbody tr th {\n",
       "        vertical-align: top;\n",
       "    }\n",
       "\n",
       "    .dataframe thead th {\n",
       "        text-align: right;\n",
       "    }\n",
       "</style>\n",
       "<table border=\"1\" class=\"dataframe\">\n",
       "  <thead>\n",
       "    <tr style=\"text-align: right;\">\n",
       "      <th></th>\n",
       "      <th>bed_count</th>\n",
       "      <th>bath_count</th>\n",
       "      <th>square_feet</th>\n",
       "      <th>assessed_value</th>\n",
       "      <th>trans_month</th>\n",
       "      <th>trans_day</th>\n",
       "      <th>built_year</th>\n",
       "      <th>zip_code</th>\n",
       "      <th>city</th>\n",
       "    </tr>\n",
       "  </thead>\n",
       "  <tbody>\n",
       "    <tr>\n",
       "      <th>16035</th>\n",
       "      <td>3.0</td>\n",
       "      <td>2.0</td>\n",
       "      <td>1522.0</td>\n",
       "      <td>64360.0</td>\n",
       "      <td>4</td>\n",
       "      <td>14</td>\n",
       "      <td>1925</td>\n",
       "      <td>6037</td>\n",
       "      <td>Los Angeles</td>\n",
       "    </tr>\n",
       "    <tr>\n",
       "      <th>44800</th>\n",
       "      <td>2.0</td>\n",
       "      <td>1.0</td>\n",
       "      <td>900.0</td>\n",
       "      <td>338073.0</td>\n",
       "      <td>8</td>\n",
       "      <td>10</td>\n",
       "      <td>1951</td>\n",
       "      <td>6037</td>\n",
       "      <td>Los Angeles</td>\n",
       "    </tr>\n",
       "    <tr>\n",
       "      <th>20047</th>\n",
       "      <td>2.0</td>\n",
       "      <td>1.0</td>\n",
       "      <td>807.0</td>\n",
       "      <td>51727.0</td>\n",
       "      <td>4</td>\n",
       "      <td>21</td>\n",
       "      <td>1951</td>\n",
       "      <td>6037</td>\n",
       "      <td>Los Angeles</td>\n",
       "    </tr>\n",
       "    <tr>\n",
       "      <th>5077</th>\n",
       "      <td>3.0</td>\n",
       "      <td>3.0</td>\n",
       "      <td>2458.0</td>\n",
       "      <td>653996.0</td>\n",
       "      <td>2</td>\n",
       "      <td>16</td>\n",
       "      <td>1985</td>\n",
       "      <td>6059</td>\n",
       "      <td>Orange</td>\n",
       "    </tr>\n",
       "    <tr>\n",
       "      <th>36597</th>\n",
       "      <td>3.0</td>\n",
       "      <td>2.0</td>\n",
       "      <td>1386.0</td>\n",
       "      <td>242779.0</td>\n",
       "      <td>6</td>\n",
       "      <td>30</td>\n",
       "      <td>1962</td>\n",
       "      <td>6037</td>\n",
       "      <td>Los Angeles</td>\n",
       "    </tr>\n",
       "  </tbody>\n",
       "</table>\n",
       "</div>"
      ],
      "text/plain": [
       "       bed_count  bath_count  square_feet  assessed_value  trans_month  \\\n",
       "16035        3.0         2.0       1522.0         64360.0            4   \n",
       "44800        2.0         1.0        900.0        338073.0            8   \n",
       "20047        2.0         1.0        807.0         51727.0            4   \n",
       "5077         3.0         3.0       2458.0        653996.0            2   \n",
       "36597        3.0         2.0       1386.0        242779.0            6   \n",
       "\n",
       "       trans_day  built_year  zip_code         city  \n",
       "16035         14        1925      6037  Los Angeles  \n",
       "44800         10        1951      6037  Los Angeles  \n",
       "20047         21        1951      6037  Los Angeles  \n",
       "5077          16        1985      6059       Orange  \n",
       "36597         30        1962      6037  Los Angeles  "
      ]
     },
     "execution_count": 51,
     "metadata": {},
     "output_type": "execute_result"
    }
   ],
   "source": [
    "train.head()"
   ]
  },
  {
   "cell_type": "markdown",
   "id": "2b10209a",
   "metadata": {},
   "source": [
    "## Establish Baseline"
   ]
  },
  {
   "cell_type": "code",
   "execution_count": 97,
   "id": "aec9ef8a",
   "metadata": {},
   "outputs": [
    {
     "data": {
      "text/html": [
       "<div>\n",
       "<style scoped>\n",
       "    .dataframe tbody tr th:only-of-type {\n",
       "        vertical-align: middle;\n",
       "    }\n",
       "\n",
       "    .dataframe tbody tr th {\n",
       "        vertical-align: top;\n",
       "    }\n",
       "\n",
       "    .dataframe thead th {\n",
       "        text-align: right;\n",
       "    }\n",
       "</style>\n",
       "<table border=\"1\" class=\"dataframe\">\n",
       "  <thead>\n",
       "    <tr style=\"text-align: right;\">\n",
       "      <th></th>\n",
       "      <th>square_feet</th>\n",
       "      <th>assessed_value</th>\n",
       "    </tr>\n",
       "  </thead>\n",
       "  <tbody>\n",
       "    <tr>\n",
       "      <th>0</th>\n",
       "      <td>1522.0</td>\n",
       "      <td>64360.0</td>\n",
       "    </tr>\n",
       "    <tr>\n",
       "      <th>1</th>\n",
       "      <td>900.0</td>\n",
       "      <td>338073.0</td>\n",
       "    </tr>\n",
       "    <tr>\n",
       "      <th>2</th>\n",
       "      <td>807.0</td>\n",
       "      <td>51727.0</td>\n",
       "    </tr>\n",
       "  </tbody>\n",
       "</table>\n",
       "</div>"
      ],
      "text/plain": [
       "   square_feet  assessed_value\n",
       "0       1522.0         64360.0\n",
       "1        900.0        338073.0\n",
       "2        807.0         51727.0"
      ]
     },
     "execution_count": 97,
     "metadata": {},
     "output_type": "execute_result"
    }
   ],
   "source": [
    "# Create two-dimentional array with assigned column names\n",
    "\n",
    "zillow_main_feature = pd.DataFrame(np.array(train[['square_feet', 'assessed_value']].to_numpy()), columns = ['square_feet', 'assessed_value'])\n",
    "zillow_main_feature.head(3)\n"
   ]
  },
  {
   "cell_type": "markdown",
   "id": "249321a4",
   "metadata": {},
   "source": [
    "#### Create the yhat feature"
   ]
  },
  {
   "cell_type": "code",
   "execution_count": 98,
   "id": "368e9922",
   "metadata": {},
   "outputs": [
    {
     "data": {
      "text/html": [
       "<div>\n",
       "<style scoped>\n",
       "    .dataframe tbody tr th:only-of-type {\n",
       "        vertical-align: middle;\n",
       "    }\n",
       "\n",
       "    .dataframe tbody tr th {\n",
       "        vertical-align: top;\n",
       "    }\n",
       "\n",
       "    .dataframe thead th {\n",
       "        text-align: right;\n",
       "    }\n",
       "</style>\n",
       "<table border=\"1\" class=\"dataframe\">\n",
       "  <thead>\n",
       "    <tr style=\"text-align: right;\">\n",
       "      <th></th>\n",
       "      <th>square_feet</th>\n",
       "      <th>assessed_value</th>\n",
       "      <th>yhat_baseline</th>\n",
       "    </tr>\n",
       "  </thead>\n",
       "  <tbody>\n",
       "    <tr>\n",
       "      <th>0</th>\n",
       "      <td>1522.0</td>\n",
       "      <td>64360.0</td>\n",
       "      <td>525863.630781</td>\n",
       "    </tr>\n",
       "    <tr>\n",
       "      <th>1</th>\n",
       "      <td>900.0</td>\n",
       "      <td>338073.0</td>\n",
       "      <td>525863.630781</td>\n",
       "    </tr>\n",
       "    <tr>\n",
       "      <th>2</th>\n",
       "      <td>807.0</td>\n",
       "      <td>51727.0</td>\n",
       "      <td>525863.630781</td>\n",
       "    </tr>\n",
       "    <tr>\n",
       "      <th>3</th>\n",
       "      <td>2458.0</td>\n",
       "      <td>653996.0</td>\n",
       "      <td>525863.630781</td>\n",
       "    </tr>\n",
       "    <tr>\n",
       "      <th>4</th>\n",
       "      <td>1386.0</td>\n",
       "      <td>242779.0</td>\n",
       "      <td>525863.630781</td>\n",
       "    </tr>\n",
       "  </tbody>\n",
       "</table>\n",
       "</div>"
      ],
      "text/plain": [
       "   square_feet  assessed_value  yhat_baseline\n",
       "0       1522.0         64360.0  525863.630781\n",
       "1        900.0        338073.0  525863.630781\n",
       "2        807.0         51727.0  525863.630781\n",
       "3       2458.0        653996.0  525863.630781\n",
       "4       1386.0        242779.0  525863.630781"
      ]
     },
     "execution_count": 98,
     "metadata": {},
     "output_type": "execute_result"
    }
   ],
   "source": [
    "zillow_main_feature['yhat_baseline'] = zillow_main_driver_feature['assessed_value'].mean()\n",
    "zillow_main_feature.head()"
   ]
  },
  {
   "cell_type": "code",
   "execution_count": 99,
   "id": "d2034ca3",
   "metadata": {},
   "outputs": [],
   "source": [
    "# # Map X, and y to features of interest and check lenght\n",
    "\n",
    "# X = zillow_main_driver_feature['square_feet']\n",
    "# y = zillow_main_driver_feature['assessed_value']"
   ]
  },
  {
   "cell_type": "code",
   "execution_count": 100,
   "id": "a75ddcb4",
   "metadata": {},
   "outputs": [],
   "source": [
    "# assessed_value_regression_plot(zillow_main_driver_feature, X, y)"
   ]
  },
  {
   "cell_type": "markdown",
   "id": "59c35705",
   "metadata": {},
   "source": [
    "## Build the Model"
   ]
  },
  {
   "cell_type": "code",
   "execution_count": 118,
   "id": "f30c9642",
   "metadata": {},
   "outputs": [
    {
     "data": {
      "text/html": [
       "<div>\n",
       "<style scoped>\n",
       "    .dataframe tbody tr th:only-of-type {\n",
       "        vertical-align: middle;\n",
       "    }\n",
       "\n",
       "    .dataframe tbody tr th {\n",
       "        vertical-align: top;\n",
       "    }\n",
       "\n",
       "    .dataframe thead th {\n",
       "        text-align: right;\n",
       "    }\n",
       "</style>\n",
       "<table border=\"1\" class=\"dataframe\">\n",
       "  <thead>\n",
       "    <tr style=\"text-align: right;\">\n",
       "      <th></th>\n",
       "      <th>square_feet</th>\n",
       "      <th>assessed_value</th>\n",
       "      <th>yhat_baseline</th>\n",
       "      <th>yhat_predicted</th>\n",
       "    </tr>\n",
       "  </thead>\n",
       "  <tbody>\n",
       "    <tr>\n",
       "      <th>0</th>\n",
       "      <td>1522.0</td>\n",
       "      <td>64360.0</td>\n",
       "      <td>525863.630781</td>\n",
       "      <td>351675.383754</td>\n",
       "    </tr>\n",
       "    <tr>\n",
       "      <th>1</th>\n",
       "      <td>900.0</td>\n",
       "      <td>338073.0</td>\n",
       "      <td>525863.630781</td>\n",
       "      <td>81428.525805</td>\n",
       "    </tr>\n",
       "    <tr>\n",
       "      <th>2</th>\n",
       "      <td>807.0</td>\n",
       "      <td>51727.0</td>\n",
       "      <td>525863.630781</td>\n",
       "      <td>41021.841257</td>\n",
       "    </tr>\n",
       "  </tbody>\n",
       "</table>\n",
       "</div>"
      ],
      "text/plain": [
       "   square_feet  assessed_value  yhat_baseline  yhat_predicted\n",
       "0       1522.0         64360.0  525863.630781   351675.383754\n",
       "1        900.0        338073.0  525863.630781    81428.525805\n",
       "2        807.0         51727.0  525863.630781    41021.841257"
      ]
     },
     "execution_count": 118,
     "metadata": {},
     "output_type": "execute_result"
    }
   ],
   "source": [
    "# Import the required library\n",
    "from sklearn.linear_model import LinearRegression\n",
    "from math import sqrt\n",
    "\n",
    "# Create the model\n",
    "model = LinearRegression()\n",
    "\n",
    "# Fit the model \n",
    "model.fit(zillow_main_feature[['square_feet']], zillow_main_feature.assessed_value)\n",
    "\n",
    "# compute predictions and add to original dataframe\n",
    "zillow_main_feature['yhat_predicted'] = model.predict(zillow_main_feature[['square_feet']])\n",
    "\n",
    "zillow_main_feature.head(3)"
   ]
  },
  {
   "cell_type": "markdown",
   "id": "bc3b06b2",
   "metadata": {},
   "source": [
    "# Calculate Metrics (Model & Baseline) "
   ]
  },
  {
   "cell_type": "markdown",
   "id": "4bfe17d4",
   "metadata": {},
   "source": [
    "> ### (i). Sum of Squared Errors (SSE) "
   ]
  },
  {
   "cell_type": "code",
   "execution_count": 131,
   "id": "f4e297b4",
   "metadata": {},
   "outputs": [
    {
     "name": "stdout",
     "output_type": "stream",
     "text": [
      "\n",
      "\tSSE Baseline: 1.5009956672453998e+16 \n",
      "\n",
      "\tSSE Model: 9,618,047,121,404,176.0\n",
      "\n"
     ]
    }
   ],
   "source": [
    "from sklearn.metrics import mean_squared_error, r2_score, explained_variance_score\n",
    "\n",
    "# SSE Model\n",
    "SSE_model1 = mean_squared_error(zillow_main_feature.assessed_value, zillow_main_feature.yhat_predicted) * len(zillow_main_feature)\n",
    "\n",
    "# SSE Baseline \n",
    "SSE_baseline1 = mean_squared_error(zillow_main_feature.assessed_value, zillow_main_feature.yhat_baseline) * len(zillow_main_feature)\n",
    "\n",
    "\n",
    "print(f'\\n\\tSSE Baseline: {SSE_baseline1:,} \\n\\n\\tSSE Model: {SSE_model1:,}\\n')\n",
    "\n"
   ]
  },
  {
   "cell_type": "markdown",
   "id": "dcf5c968",
   "metadata": {},
   "source": [
    "> ### (ii). Explained Sum of Squares (ESS)"
   ]
  },
  {
   "cell_type": "code",
   "execution_count": 130,
   "id": "a9f3083d",
   "metadata": {},
   "outputs": [
    {
     "name": "stdout",
     "output_type": "stream",
     "text": [
      "\n",
      "\tESS Baseline: -8,101,558,950,731,026.0 \n",
      "\n",
      "\tESS Model: -8,101,558,950,728,798.0\n",
      "\n"
     ]
    }
   ],
   "source": [
    "# ESS Model \n",
    "ESS_model1 = sum(zillow_main_feature.yhat_predicted - zillow_main_feature.assessed_value.mean() ** 2)\n",
    "\n",
    "# ESS Baseline\n",
    "ESS_baseline1 = sum(zillow_main_feature.yhat_baseline - zillow_main_feature.assessed_value.mean() ** 2)\n",
    "\n",
    "print(f'\\n\\tESS Baseline: {ESS_baseline1:,} \\n\\n\\tESS Model: {ESS_model1:,}\\n')\n"
   ]
  },
  {
   "cell_type": "markdown",
   "id": "58cc5c1e",
   "metadata": {},
   "source": [
    "> ### (iii). Total Sum of Squares (TSS)"
   ]
  },
  {
   "cell_type": "code",
   "execution_count": 132,
   "id": "a84bb895",
   "metadata": {},
   "outputs": [
    {
     "name": "stdout",
     "output_type": "stream",
     "text": [
      "\n",
      "\tTSS Baseline: 6,908,397,721,722,972.0 \n",
      "\n",
      "\tTSS Model: 1,516,488,170,675,378.0\n",
      "\n"
     ]
    }
   ],
   "source": [
    "# TSS Model \n",
    "TSS_model1 = (ESS_model1 + SSE_model1)\n",
    "\n",
    "# TSS Baseline\n",
    "TSS_baseline1 = (ESS_baseline1 + SSE_baseline1)\n",
    "\n",
    "print(f'\\n\\tTSS Baseline: {TSS_baseline1:,} \\n\\n\\tTSS Model: {TSS_model1:,}\\n')\n"
   ]
  },
  {
   "cell_type": "markdown",
   "id": "c5f73535",
   "metadata": {},
   "source": [
    " > ### (iv). Mean Squared Error  (MSE)"
   ]
  },
  {
   "cell_type": "code",
   "execution_count": 133,
   "id": "3b314ee1",
   "metadata": {},
   "outputs": [
    {
     "name": "stdout",
     "output_type": "stream",
     "text": [
      "\n",
      "\tMSE Baseline: 512,337,668,445.7111 \n",
      "\n",
      "\tMSE Model: 328,294,607,686.9364\n",
      "\n"
     ]
    }
   ],
   "source": [
    "# MSE Model \n",
    "MSE_model1 = mean_squared_error(zillow_main_feature.assessed_value, zillow_main_feature.yhat_predicted)\n",
    "\n",
    "# MSE Baseline\n",
    "MSE_baseline1 = mean_squared_error(zillow_main_feature.assessed_value, zillow_main_feature.yhat_baseline)\n",
    "\n",
    "print(f'\\n\\tMSE Baseline: {MSE_baseline1:,} \\n\\n\\tMSE Model: {MSE_model1:,}\\n')\n"
   ]
  },
  {
   "cell_type": "markdown",
   "id": "7a6054bf",
   "metadata": {},
   "source": [
    "> ### (v). Root Mean Squared Error (RMSE)"
   ]
  },
  {
   "cell_type": "code",
   "execution_count": 136,
   "id": "bb328585",
   "metadata": {},
   "outputs": [
    {
     "name": "stdout",
     "output_type": "stream",
     "text": [
      "\n",
      "\tRMSE Baseline: 715,777.6669090138 \n",
      "\n",
      "\tRMSE Model: 572,969.9884696723\n",
      "\n"
     ]
    }
   ],
   "source": [
    "# RMSE Model\n",
    "RMSE_model1 = sqrt(mean_squared_error(zillow_main_feature.assessed_value, zillow_main_feature.yhat_predicted))\n",
    "\n",
    "# RMSE Baseline\n",
    "RMSE_baseline1 = sqrt(mean_squared_error(zillow_main_feature.assessed_value, zillow_main_feature.yhat_baseline))\n",
    "\n",
    "print(f'\\n\\tRMSE Baseline: {RMSE_baseline1:,} \\n\\n\\tRMSE Model: {RMSE_model1:,}\\n')\n"
   ]
  },
  {
   "cell_type": "markdown",
   "id": "da974261",
   "metadata": {},
   "source": [
    "## Compare SSE of baseline vs model"
   ]
  },
  {
   "cell_type": "code",
   "execution_count": 135,
   "id": "4d0c0873",
   "metadata": {},
   "outputs": [
    {
     "data": {
      "text/plain": [
       "False"
      ]
     },
     "execution_count": 135,
     "metadata": {},
     "output_type": "execute_result"
    }
   ],
   "source": [
    "(SSE_baseline1 == SSE_model1)\n"
   ]
  },
  {
   "cell_type": "code",
   "execution_count": 143,
   "id": "a9210999",
   "metadata": {},
   "outputs": [
    {
     "name": "stdout",
     "output_type": "stream",
     "text": [
      "  BASELINE PREDICTIONC  Baseline_Error\n",
      "0        SSE_baseline1    1.500996e+16\n",
      "1        MSE_baseline1    5.123377e+11\n",
      "2       RMSE_baseline1    7.157777e+05\n",
      "\n",
      "   MODEL PREDICTIONS   Model_Error\n",
      "0        SSE_model1  9.618047e+15\n",
      "1        MSE_model1  3.282946e+11\n",
      "2       RMSE_model1  5.729700e+05\n"
     ]
    }
   ],
   "source": [
    "# Comprehensive with all the calculations\n",
    "\n",
    "baseline = pd.DataFrame(np.array(['SSE_baseline1', 'MSE_baseline1', 'RMSE_baseline1']), columns=['BASELINE PREDICTIONC'])\n",
    "modeled_prediction = pd.DataFrame(np.array(['SSE_model1', 'MSE_model1', 'RMSE_model1']), columns=['MODEL PREDICTIONS'])\n",
    "\n",
    "baseline['Baseline_Error'] = np.array([SSE_baseline1, MSE_baseline1, RMSE_baseline1])\n",
    "modeled_prediction['Model_Error'] = np.array([SSE_model1, MSE_model1, RMSE_model1])\n",
    "\n",
    "\n",
    "print(f'{baseline}\\n\\n {modeled_prediction}')"
   ]
  },
  {
   "cell_type": "markdown",
   "id": "e50cb5c4",
   "metadata": {},
   "source": [
    "## Variance as Inferred from Model (Model Error - Baseline Error)"
   ]
  },
  {
   "cell_type": "code",
   "execution_count": 144,
   "id": "927f76dc",
   "metadata": {},
   "outputs": [
    {
     "data": {
      "text/html": [
       "<div>\n",
       "<style scoped>\n",
       "    .dataframe tbody tr th:only-of-type {\n",
       "        vertical-align: middle;\n",
       "    }\n",
       "\n",
       "    .dataframe tbody tr th {\n",
       "        vertical-align: top;\n",
       "    }\n",
       "\n",
       "    .dataframe thead th {\n",
       "        text-align: right;\n",
       "    }\n",
       "</style>\n",
       "<table border=\"1\" class=\"dataframe\">\n",
       "  <thead>\n",
       "    <tr style=\"text-align: right;\">\n",
       "      <th></th>\n",
       "      <th>BASELINE PREDICTIONC</th>\n",
       "      <th>Baseline_Error</th>\n",
       "      <th>Error_Difference</th>\n",
       "    </tr>\n",
       "  </thead>\n",
       "  <tbody>\n",
       "    <tr>\n",
       "      <th>0</th>\n",
       "      <td>SSE_baseline1</td>\n",
       "      <td>1.500996e+16</td>\n",
       "      <td>-5.391910e+15</td>\n",
       "    </tr>\n",
       "    <tr>\n",
       "      <th>1</th>\n",
       "      <td>MSE_baseline1</td>\n",
       "      <td>5.123377e+11</td>\n",
       "      <td>-1.840431e+11</td>\n",
       "    </tr>\n",
       "    <tr>\n",
       "      <th>2</th>\n",
       "      <td>RMSE_baseline1</td>\n",
       "      <td>7.157777e+05</td>\n",
       "      <td>-1.428077e+05</td>\n",
       "    </tr>\n",
       "  </tbody>\n",
       "</table>\n",
       "</div>"
      ],
      "text/plain": [
       "  BASELINE PREDICTIONC  Baseline_Error  Error_Difference\n",
       "0        SSE_baseline1    1.500996e+16     -5.391910e+15\n",
       "1        MSE_baseline1    5.123377e+11     -1.840431e+11\n",
       "2       RMSE_baseline1    7.157777e+05     -1.428077e+05"
      ]
     },
     "execution_count": 144,
     "metadata": {},
     "output_type": "execute_result"
    }
   ],
   "source": [
    "baseline['Error_Difference'] = (modeled_prediction.Model_Error - baseline.Baseline_Error)\n",
    "\n",
    "baseline"
   ]
  },
  {
   "cell_type": "markdown",
   "id": "7ecebfdb",
   "metadata": {},
   "source": [
    "## Model Evaluations\n",
    "\n",
    "### Is my model better than my baseline predictions?"
   ]
  },
  {
   "cell_type": "code",
   "execution_count": null,
   "id": "5a89427f",
   "metadata": {},
   "outputs": [],
   "source": []
  },
  {
   "cell_type": "markdown",
   "id": "39188c53",
   "metadata": {},
   "source": [
    "## Model Selection & Testing"
   ]
  },
  {
   "cell_type": "code",
   "execution_count": null,
   "id": "b28e3343",
   "metadata": {},
   "outputs": [],
   "source": []
  },
  {
   "cell_type": "code",
   "execution_count": null,
   "id": "e393d251",
   "metadata": {},
   "outputs": [],
   "source": []
  },
  {
   "cell_type": "markdown",
   "id": "2ad6fe0c",
   "metadata": {},
   "source": [
    "# Conclusions and Delivery: "
   ]
  },
  {
   "cell_type": "code",
   "execution_count": null,
   "id": "d86d70de",
   "metadata": {},
   "outputs": [],
   "source": []
  }
 ],
 "metadata": {
  "kernelspec": {
   "display_name": "Python 3 (ipykernel)",
   "language": "python",
   "name": "python3"
  },
  "language_info": {
   "codemirror_mode": {
    "name": "ipython",
    "version": 3
   },
   "file_extension": ".py",
   "mimetype": "text/x-python",
   "name": "python",
   "nbconvert_exporter": "python",
   "pygments_lexer": "ipython3",
   "version": "3.9.7"
  }
 },
 "nbformat": 4,
 "nbformat_minor": 5
}
