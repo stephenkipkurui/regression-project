{
 "cells": [
  {
   "cell_type": "markdown",
   "id": "ade221f2",
   "metadata": {},
   "source": [
    "# Regression Module Project: Estimating Zillow Home Value"
   ]
  },
  {
   "cell_type": "markdown",
   "id": "7190afe9",
   "metadata": {},
   "source": [
    "### Project Scenario:\n",
    "You are a junior data scientist on the __Zillow data science team__ and recieve the following email in your inbox:\n",
    "\n",
    "__We want to be able to predict the property tax assessed values ('taxvaluedollarcnt') of Single Family Properties that had a transaction during 2017.__\n",
    "\n",
    "We have a model already, but we are hoping your insights can help us improve it. __I need recommendations on a way to make a better model.__ Maybe you will create a new feature out of existing ones that works better, try a non-linear regression algorithm, or try to create a different model for each county. Whatever you find that works (or doesn't work) will be useful. Given you have just joined our team, we are excited to see your outside perspective.\n",
    "\n",
    "(One last thing, Zach lost the email that told us where these properties were located. Ugh, Zach :-/. Because property taxes are assessed at the county level, we would like to know what states and counties these are located in).\n",
    "\n",
    "-- The Zillow Data Science Team\n",
    "\n"
   ]
  },
  {
   "cell_type": "markdown",
   "id": "d12a6c41",
   "metadata": {},
   "source": [
    "## Import Required Libraries"
   ]
  },
  {
   "cell_type": "code",
   "execution_count": 1,
   "id": "fdb1269e",
   "metadata": {},
   "outputs": [],
   "source": [
    "import pandas as pd\n",
    "import numpy as np\n",
    "import matplotlib.pyplot as plt\n",
    "import seaborn as sns\n",
    "\n",
    "from acquire import get_zillow\n",
    "from prepare import prepare_zillow\n",
    "\n"
   ]
  },
  {
   "cell_type": "markdown",
   "id": "39cb9a30",
   "metadata": {},
   "source": [
    "## Acquire prepped and split data\n",
    "\n",
    "#### - Moving forward, train data will be used to prevent data leakage"
   ]
  },
  {
   "cell_type": "code",
   "execution_count": 2,
   "id": "e7798759",
   "metadata": {},
   "outputs": [
    {
     "name": "stdout",
     "output_type": "stream",
     "text": [
      "Status: Acquiring data from cached csv file..\n"
     ]
    }
   ],
   "source": [
    "train, validate, test = prepare_zillow()"
   ]
  },
  {
   "cell_type": "markdown",
   "id": "d057918c",
   "metadata": {},
   "source": [
    "## Initial Data Explolatory Analysis"
   ]
  },
  {
   "cell_type": "code",
   "execution_count": 3,
   "id": "fd4c2cf1",
   "metadata": {},
   "outputs": [
    {
     "data": {
      "text/html": [
       "<div>\n",
       "<style scoped>\n",
       "    .dataframe tbody tr th:only-of-type {\n",
       "        vertical-align: middle;\n",
       "    }\n",
       "\n",
       "    .dataframe tbody tr th {\n",
       "        vertical-align: top;\n",
       "    }\n",
       "\n",
       "    .dataframe thead th {\n",
       "        text-align: right;\n",
       "    }\n",
       "</style>\n",
       "<table border=\"1\" class=\"dataframe\">\n",
       "  <thead>\n",
       "    <tr style=\"text-align: right;\">\n",
       "      <th></th>\n",
       "      <th>bed_count</th>\n",
       "      <th>bath_count</th>\n",
       "      <th>square_feet</th>\n",
       "      <th>assessed_value</th>\n",
       "      <th>year_built</th>\n",
       "      <th>trans_date</th>\n",
       "    </tr>\n",
       "  </thead>\n",
       "  <tbody>\n",
       "    <tr>\n",
       "      <th>16035</th>\n",
       "      <td>3.0</td>\n",
       "      <td>2.0</td>\n",
       "      <td>1522.0</td>\n",
       "      <td>64360.0</td>\n",
       "      <td>1925.0</td>\n",
       "      <td>2017-04-14</td>\n",
       "    </tr>\n",
       "    <tr>\n",
       "      <th>44800</th>\n",
       "      <td>2.0</td>\n",
       "      <td>1.0</td>\n",
       "      <td>900.0</td>\n",
       "      <td>338073.0</td>\n",
       "      <td>1951.0</td>\n",
       "      <td>2017-08-10</td>\n",
       "    </tr>\n",
       "    <tr>\n",
       "      <th>20047</th>\n",
       "      <td>2.0</td>\n",
       "      <td>1.0</td>\n",
       "      <td>807.0</td>\n",
       "      <td>51727.0</td>\n",
       "      <td>1951.0</td>\n",
       "      <td>2017-04-21</td>\n",
       "    </tr>\n",
       "    <tr>\n",
       "      <th>5077</th>\n",
       "      <td>3.0</td>\n",
       "      <td>3.0</td>\n",
       "      <td>2458.0</td>\n",
       "      <td>653996.0</td>\n",
       "      <td>1985.0</td>\n",
       "      <td>2017-02-16</td>\n",
       "    </tr>\n",
       "    <tr>\n",
       "      <th>36597</th>\n",
       "      <td>3.0</td>\n",
       "      <td>2.0</td>\n",
       "      <td>1386.0</td>\n",
       "      <td>242779.0</td>\n",
       "      <td>1962.0</td>\n",
       "      <td>2017-06-30</td>\n",
       "    </tr>\n",
       "  </tbody>\n",
       "</table>\n",
       "</div>"
      ],
      "text/plain": [
       "       bed_count  bath_count  square_feet  assessed_value  year_built  \\\n",
       "16035        3.0         2.0       1522.0         64360.0      1925.0   \n",
       "44800        2.0         1.0        900.0        338073.0      1951.0   \n",
       "20047        2.0         1.0        807.0         51727.0      1951.0   \n",
       "5077         3.0         3.0       2458.0        653996.0      1985.0   \n",
       "36597        3.0         2.0       1386.0        242779.0      1962.0   \n",
       "\n",
       "       trans_date  \n",
       "16035  2017-04-14  \n",
       "44800  2017-08-10  \n",
       "20047  2017-04-21  \n",
       "5077   2017-02-16  \n",
       "36597  2017-06-30  "
      ]
     },
     "execution_count": 3,
     "metadata": {},
     "output_type": "execute_result"
    }
   ],
   "source": [
    "train.head()"
   ]
  },
  {
   "cell_type": "code",
   "execution_count": 4,
   "id": "907730c9",
   "metadata": {},
   "outputs": [
    {
     "data": {
      "text/html": [
       "<div>\n",
       "<style scoped>\n",
       "    .dataframe tbody tr th:only-of-type {\n",
       "        vertical-align: middle;\n",
       "    }\n",
       "\n",
       "    .dataframe tbody tr th {\n",
       "        vertical-align: top;\n",
       "    }\n",
       "\n",
       "    .dataframe thead th {\n",
       "        text-align: right;\n",
       "    }\n",
       "</style>\n",
       "<table border=\"1\" class=\"dataframe\">\n",
       "  <thead>\n",
       "    <tr style=\"text-align: right;\">\n",
       "      <th></th>\n",
       "      <th>bed_count</th>\n",
       "      <th>bath_count</th>\n",
       "      <th>square_feet</th>\n",
       "      <th>assessed_value</th>\n",
       "      <th>year_built</th>\n",
       "    </tr>\n",
       "  </thead>\n",
       "  <tbody>\n",
       "    <tr>\n",
       "      <th>count</th>\n",
       "      <td>29297.000000</td>\n",
       "      <td>29297.000000</td>\n",
       "      <td>29297.000000</td>\n",
       "      <td>2.929700e+04</td>\n",
       "      <td>29297.000000</td>\n",
       "    </tr>\n",
       "    <tr>\n",
       "      <th>mean</th>\n",
       "      <td>3.311773</td>\n",
       "      <td>2.303137</td>\n",
       "      <td>1922.911561</td>\n",
       "      <td>5.258636e+05</td>\n",
       "      <td>1963.286821</td>\n",
       "    </tr>\n",
       "    <tr>\n",
       "      <th>std</th>\n",
       "      <td>0.933666</td>\n",
       "      <td>1.012818</td>\n",
       "      <td>987.408513</td>\n",
       "      <td>7.157899e+05</td>\n",
       "      <td>23.128629</td>\n",
       "    </tr>\n",
       "    <tr>\n",
       "      <th>min</th>\n",
       "      <td>0.000000</td>\n",
       "      <td>0.000000</td>\n",
       "      <td>152.000000</td>\n",
       "      <td>9.242000e+03</td>\n",
       "      <td>1878.000000</td>\n",
       "    </tr>\n",
       "    <tr>\n",
       "      <th>25%</th>\n",
       "      <td>3.000000</td>\n",
       "      <td>2.000000</td>\n",
       "      <td>1270.000000</td>\n",
       "      <td>1.933730e+05</td>\n",
       "      <td>1950.000000</td>\n",
       "    </tr>\n",
       "    <tr>\n",
       "      <th>50%</th>\n",
       "      <td>3.000000</td>\n",
       "      <td>2.000000</td>\n",
       "      <td>1664.000000</td>\n",
       "      <td>3.724420e+05</td>\n",
       "      <td>1961.000000</td>\n",
       "    </tr>\n",
       "    <tr>\n",
       "      <th>75%</th>\n",
       "      <td>4.000000</td>\n",
       "      <td>3.000000</td>\n",
       "      <td>2312.000000</td>\n",
       "      <td>6.190000e+05</td>\n",
       "      <td>1979.000000</td>\n",
       "    </tr>\n",
       "    <tr>\n",
       "      <th>max</th>\n",
       "      <td>12.000000</td>\n",
       "      <td>11.000000</td>\n",
       "      <td>21929.000000</td>\n",
       "      <td>2.434570e+07</td>\n",
       "      <td>2016.000000</td>\n",
       "    </tr>\n",
       "  </tbody>\n",
       "</table>\n",
       "</div>"
      ],
      "text/plain": [
       "          bed_count    bath_count   square_feet  assessed_value    year_built\n",
       "count  29297.000000  29297.000000  29297.000000    2.929700e+04  29297.000000\n",
       "mean       3.311773      2.303137   1922.911561    5.258636e+05   1963.286821\n",
       "std        0.933666      1.012818    987.408513    7.157899e+05     23.128629\n",
       "min        0.000000      0.000000    152.000000    9.242000e+03   1878.000000\n",
       "25%        3.000000      2.000000   1270.000000    1.933730e+05   1950.000000\n",
       "50%        3.000000      2.000000   1664.000000    3.724420e+05   1961.000000\n",
       "75%        4.000000      3.000000   2312.000000    6.190000e+05   1979.000000\n",
       "max       12.000000     11.000000  21929.000000    2.434570e+07   2016.000000"
      ]
     },
     "execution_count": 4,
     "metadata": {},
     "output_type": "execute_result"
    }
   ],
   "source": [
    "# Describe the data\n",
    "\n",
    "train.describe()"
   ]
  },
  {
   "cell_type": "code",
   "execution_count": 5,
   "id": "b1840554",
   "metadata": {},
   "outputs": [
    {
     "name": "stdout",
     "output_type": "stream",
     "text": [
      "<class 'pandas.core.frame.DataFrame'>\n",
      "Int64Index: 29297 entries, 16035 to 39200\n",
      "Data columns (total 6 columns):\n",
      " #   Column          Non-Null Count  Dtype  \n",
      "---  ------          --------------  -----  \n",
      " 0   bed_count       29297 non-null  float64\n",
      " 1   bath_count      29297 non-null  float64\n",
      " 2   square_feet     29297 non-null  float64\n",
      " 3   assessed_value  29297 non-null  float64\n",
      " 4   year_built      29297 non-null  float64\n",
      " 5   trans_date      29297 non-null  object \n",
      "dtypes: float64(5), object(1)\n",
      "memory usage: 1.6+ MB\n"
     ]
    }
   ],
   "source": [
    "# Get data summary information\n",
    "train.info()"
   ]
  },
  {
   "cell_type": "code",
   "execution_count": 6,
   "id": "4f7426e0",
   "metadata": {},
   "outputs": [
    {
     "data": {
      "text/plain": [
       "bed_count         0\n",
       "bath_count        0\n",
       "square_feet       0\n",
       "assessed_value    0\n",
       "year_built        0\n",
       "trans_date        0\n",
       "dtype: int64"
      ]
     },
     "execution_count": 6,
     "metadata": {},
     "output_type": "execute_result"
    }
   ],
   "source": [
    "# Check for null values\n",
    "train.isnull().sum()"
   ]
  },
  {
   "cell_type": "code",
   "execution_count": 7,
   "id": "3d2e870c",
   "metadata": {},
   "outputs": [
    {
     "data": {
      "text/plain": [
       "False"
      ]
     },
     "execution_count": 7,
     "metadata": {},
     "output_type": "execute_result"
    }
   ],
   "source": [
    "# Any null columns?\n",
    "train.columns.isnull().any()"
   ]
  },
  {
   "cell_type": "code",
   "execution_count": 8,
   "id": "60c6c5be",
   "metadata": {},
   "outputs": [
    {
     "data": {
      "text/plain": [
       "bed_count  bath_count  square_feet  assessed_value  year_built  trans_date\n",
       "0.0        0.0         400.0        49627.0         1950.0      2017-05-01    1\n",
       "4.0        2.0         1580.0       221604.0        1977.0      2017-01-06    1\n",
       "                       1578.0       397610.0        1978.0      2017-05-02    1\n",
       "                                    96458.0         1959.0      2017-06-16    1\n",
       "                       1577.0       432902.0        1959.0      2017-07-20    1\n",
       "                                                                             ..\n",
       "3.0        2.0         1336.0       965007.0        1946.0      2017-01-26    1\n",
       "                                    569000.0        1953.0      2017-06-02    1\n",
       "                                    464000.0        1956.0      2017-06-22    1\n",
       "                                    432168.0        1980.0      2017-06-20    1\n",
       "12.0       6.0         8469.0       2485282.0       1909.0      2017-06-09    1\n",
       "Length: 29297, dtype: int64"
      ]
     },
     "execution_count": 8,
     "metadata": {},
     "output_type": "execute_result"
    }
   ],
   "source": [
    "# Value counts\n",
    "train.value_counts()"
   ]
  },
  {
   "cell_type": "code",
   "execution_count": 19,
   "id": "75282450",
   "metadata": {
    "scrolled": false
   },
   "outputs": [
    {
     "data": {
      "image/png": "[encoded data removed]",
      "text/plain": [
       "<Figure size 1152x576 with 1 Axes>"
      ]
     },
     "metadata": {
      "needs_background": "light"
     },
     "output_type": "display_data"
    },
    {
     "data": {
      "image/png": "[encoded data removed]",
      "text/plain": [
       "<Figure size 1152x576 with 1 Axes>"
      ]
     },
     "metadata": {
      "needs_background": "light"
     },
     "output_type": "display_data"
    },
    {
     "data": {
      "image/png": "[encoded data removed]",
      "text/plain": [
       "<Figure size 1152x576 with 1 Axes>"
      ]
     },
     "metadata": {
      "needs_background": "light"
     },
     "output_type": "display_data"
    },
    {
     "data": {
      "image/png": "[encoded data removed]",
      "text/plain": [
       "<Figure size 1152x576 with 1 Axes>"
      ]
     },
     "metadata": {
      "needs_background": "light"
     },
     "output_type": "display_data"
    },
    {
     "data": {
      "image/png": "[encoded data removed]",
      "text/plain": [
       "<Figure size 1152x576 with 1 Axes>"
      ]
     },
     "metadata": {
      "needs_background": "light"
     },
     "output_type": "display_data"
    },
    {
     "data": {
      "image/png": "[encoded data removed]",
      "text/plain": [
       "<Figure size 1152x576 with 1 Axes>"
      ]
     },
     "metadata": {
      "needs_background": "light"
     },
     "output_type": "display_data"
    }
   ],
   "source": [
    "# Initial Visualizations\n",
    "plt.figure(figsize = (16, 8))\n",
    "plt.title('Bedroom Count Distribution ')\n",
    "plt.ylabel('Count #')\n",
    "plt.xlabel('Number of bedrooms')\n",
    "train.bed_count.hist()\n",
    "plt.show()\n",
    "plt.figure(figsize = (16, 8))\n",
    "plt.title('Bathroom Count Distribution ')\n",
    "plt.ylabel('Count #')\n",
    "plt.xlabel('Number of bathrooms')\n",
    "train.bath_count.hist()\n",
    "plt.show()\n",
    "plt.figure(figsize = (16, 8))\n",
    "plt.title('Square Feet Count Distribution ')\n",
    "plt.ylabel('Count #')\n",
    "plt.xlabel('Square feet')\n",
    "train.square_feet.hist()\n",
    "plt.show()\n",
    "plt.figure(figsize = (16, 8))\n",
    "plt.title('Assessed Value Count Distribution')\n",
    "plt.ylabel('Count #')\n",
    "plt.xlabel('Assessed Value')\n",
    "train.assessed_value.hist()\n",
    "plt.show()\n",
    "plt.figure(figsize = (16, 8))\n",
    "plt.title('Year Built Count Distribution ')\n",
    "plt.ylabel('Count #')\n",
    "plt.xlabel('Years')\n",
    "train.year_built.hist()\n",
    "plt.show()\n",
    "plt.figure(figsize = (16, 8))\n",
    "plt.title('Transaction Count Distribution')\n",
    "plt.ylabel('Count #')\n",
    "plt.xlabel('Dates')\n",
    "train.trans_date.hist()\n",
    "plt.show()"
   ]
  },
  {
   "cell_type": "markdown",
   "id": "a69a220f",
   "metadata": {},
   "source": [
    "#### Need to fix** \n",
    "- First 5 columns data end with 0. Some 0 are not really required\n",
    "- All data in this dataframe are from 2017,  the trans_date columns need be split into month and maybe days(preferably months)\n",
    "- Bathroom, bathroom and year built are faily normally distributed\n",
    "- Further cleaning on Transaction date required\n",
    "\n",
    "## Data Scalling "
   ]
  },
  {
   "cell_type": "markdown",
   "id": "5111954b",
   "metadata": {},
   "source": [
    "## <u>Key Findings:</u>\n",
    "\n",
    "#### NOTE: All homes in dataset are zillow homes of 2017\n",
    "\n",
    "- 3 bedroom and 2 baths are the most common household classifications in 2017\n",
    "- Less than 2400 square feet single familly household were the most preferable homes in 2017 \n",
    "- Homes built in late 1940s to early 1960s were the most transactioned homes in 2017. About 9500 homes. Followed by homes built in early 1960s to mid 1970s accounting approximately 5800, then third were homes in late 1970s to 1990s. \n",
    "- Least desired/ (not transactioned) homes were those build in 1900s followed by those built between mid 1900s to about 1918s. \n",
    "- Surprisingly, homes built about 1918s to late 1940s outperformed those built after about 2005\n",
    "- Homes between \n",
    "\n"
   ]
  },
  {
   "cell_type": "markdown",
   "id": "ddfbfed7",
   "metadata": {},
   "source": [
    "# Exploration Phase: \n",
    "\n",
    "## Hypothesis Formulation & Testing"
   ]
  },
  {
   "cell_type": "code",
   "execution_count": null,
   "id": "2a73d55b",
   "metadata": {},
   "outputs": [],
   "source": []
  },
  {
   "cell_type": "code",
   "execution_count": null,
   "id": "e196b3cf",
   "metadata": {},
   "outputs": [],
   "source": []
  },
  {
   "cell_type": "markdown",
   "id": "7e2d3744",
   "metadata": {},
   "source": [
    "##  Exploration Visualizations"
   ]
  },
  {
   "cell_type": "code",
   "execution_count": null,
   "id": "70ecf151",
   "metadata": {},
   "outputs": [],
   "source": []
  },
  {
   "cell_type": "code",
   "execution_count": null,
   "id": "422a8653",
   "metadata": {},
   "outputs": [],
   "source": []
  },
  {
   "cell_type": "code",
   "execution_count": null,
   "id": "9d9a2ac5",
   "metadata": {},
   "outputs": [],
   "source": []
  },
  {
   "cell_type": "code",
   "execution_count": null,
   "id": "4aea1fd3",
   "metadata": {},
   "outputs": [],
   "source": []
  },
  {
   "cell_type": "markdown",
   "id": "17ce4d88",
   "metadata": {},
   "source": [
    "## Exploration Testing"
   ]
  },
  {
   "cell_type": "code",
   "execution_count": null,
   "id": "07e2893b",
   "metadata": {},
   "outputs": [],
   "source": []
  },
  {
   "cell_type": "code",
   "execution_count": null,
   "id": "c9045590",
   "metadata": {},
   "outputs": [],
   "source": []
  },
  {
   "cell_type": "code",
   "execution_count": null,
   "id": "d01185a2",
   "metadata": {},
   "outputs": [],
   "source": []
  },
  {
   "cell_type": "markdown",
   "id": "bae68299",
   "metadata": {},
   "source": [
    "# Modeling Phase: \n",
    "\n",
    "## Feature Engineering"
   ]
  },
  {
   "cell_type": "code",
   "execution_count": null,
   "id": "3119024e",
   "metadata": {},
   "outputs": [],
   "source": []
  },
  {
   "cell_type": "markdown",
   "id": "c1b73e42",
   "metadata": {},
   "source": [
    "## Establish Baseline"
   ]
  },
  {
   "cell_type": "code",
   "execution_count": null,
   "id": "427a7e98",
   "metadata": {},
   "outputs": [],
   "source": []
  },
  {
   "cell_type": "markdown",
   "id": "e0c57f6b",
   "metadata": {},
   "source": [
    "## Build Models"
   ]
  },
  {
   "cell_type": "code",
   "execution_count": null,
   "id": "735f58be",
   "metadata": {},
   "outputs": [],
   "source": []
  },
  {
   "cell_type": "code",
   "execution_count": null,
   "id": "03769cd2",
   "metadata": {},
   "outputs": [],
   "source": []
  },
  {
   "cell_type": "markdown",
   "id": "177653a8",
   "metadata": {},
   "source": [
    "## Model Evaluations"
   ]
  },
  {
   "cell_type": "code",
   "execution_count": null,
   "id": "8f5f65ea",
   "metadata": {},
   "outputs": [],
   "source": []
  },
  {
   "cell_type": "markdown",
   "id": "f7e85719",
   "metadata": {},
   "source": [
    "## Model Selection & Testing"
   ]
  },
  {
   "cell_type": "code",
   "execution_count": null,
   "id": "9faebd6f",
   "metadata": {},
   "outputs": [],
   "source": []
  },
  {
   "cell_type": "code",
   "execution_count": null,
   "id": "a69cda0c",
   "metadata": {},
   "outputs": [],
   "source": []
  },
  {
   "cell_type": "markdown",
   "id": "e843e8f7",
   "metadata": {},
   "source": [
    "# Conclusions and Delivery: "
   ]
  },
  {
   "cell_type": "code",
   "execution_count": null,
   "id": "f66f60d6",
   "metadata": {},
   "outputs": [],
   "source": []
  }
 ],
 "metadata": {
  "kernelspec": {
   "display_name": "Python 3 (ipykernel)",
   "language": "python",
   "name": "python3"
  },
  "language_info": {
   "codemirror_mode": {
    "name": "ipython",
    "version": 3
   },
   "file_extension": ".py",
   "mimetype": "text/x-python",
   "name": "python",
   "nbconvert_exporter": "python",
   "pygments_lexer": "ipython3",
   "version": "3.9.7"
  }
 },
 "nbformat": 4,
 "nbformat_minor": 5
}
