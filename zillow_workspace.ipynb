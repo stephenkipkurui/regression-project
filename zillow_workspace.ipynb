{
 "cells": [
  {
   "cell_type": "markdown",
   "id": "ade221f2",
   "metadata": {},
   "source": [
    "# Regression Module Project: Estimating Zillow Home Value"
   ]
  },
  {
   "cell_type": "markdown",
   "id": "7190afe9",
   "metadata": {},
   "source": [
    "#### Project Scenario:\n",
    "You are a junior data scientist on the Zillow data science team and recieve the following email in your inbox:\n",
    "\n",
    "We want to be able to predict the property tax assessed values ('taxvaluedollarcnt') of Single Family Properties that had a transaction during 2017.\n",
    "\n",
    "We have a model already, but we are hoping your insights can help us improve it. I need recommendations on a way to make a better model. Maybe you will create a new feature out of existing ones that works better, try a non-linear regression algorithm, or try to create a different model for each county. Whatever you find that works (or doesn't work) will be useful. Given you have just joined our team, we are excited to see your outside perspective.\n",
    "\n",
    "One last thing, Zach lost the email that told us where these properties were located. Ugh, Zach :-/. Because property taxes are assessed at the county level, we would like to know what states and counties these are located in.\n",
    "\n",
    "-- The Zillow Data Science Team\n",
    "\n"
   ]
  },
  {
   "cell_type": "markdown",
   "id": "d12a6c41",
   "metadata": {},
   "source": [
    "## Import Required Libraries"
   ]
  },
  {
   "cell_type": "code",
   "execution_count": 6,
   "id": "fdb1269e",
   "metadata": {},
   "outputs": [],
   "source": [
    "import pandas as pd\n",
    "import numpy as np\n",
    "import matplotlib.pyplot as plt\n",
    "import seaborn as sns\n",
    "\n",
    "from acquire import get_zillow\n",
    "from prepare import prepare_zillow\n",
    "\n"
   ]
  },
  {
   "cell_type": "markdown",
   "id": "39cb9a30",
   "metadata": {},
   "source": [
    "## Acquire the data"
   ]
  },
  {
   "cell_type": "code",
   "execution_count": 7,
   "id": "e7798759",
   "metadata": {},
   "outputs": [
    {
     "name": "stdout",
     "output_type": "stream",
     "text": [
      "Status: Acquiring data from cached csv file..\n"
     ]
    }
   ],
   "source": [
    "zillow = prepare_zillow()"
   ]
  },
  {
   "cell_type": "code",
   "execution_count": 11,
   "id": "17f60f23",
   "metadata": {},
   "outputs": [
    {
     "name": "stdout",
     "output_type": "stream",
     "text": [
      "Status: Acquiring data from cached csv file..\n"
     ]
    },
    {
     "data": {
      "text/html": [
       "<div>\n",
       "<style scoped>\n",
       "    .dataframe tbody tr th:only-of-type {\n",
       "        vertical-align: middle;\n",
       "    }\n",
       "\n",
       "    .dataframe tbody tr th {\n",
       "        vertical-align: top;\n",
       "    }\n",
       "\n",
       "    .dataframe thead th {\n",
       "        text-align: right;\n",
       "    }\n",
       "</style>\n",
       "<table border=\"1\" class=\"dataframe\">\n",
       "  <thead>\n",
       "    <tr style=\"text-align: right;\">\n",
       "      <th></th>\n",
       "      <th>bedroomcnt</th>\n",
       "      <th>bathroomcnt</th>\n",
       "      <th>calculatedfinishedsquarefeet</th>\n",
       "      <th>taxvaluedollarcnt</th>\n",
       "      <th>yearbuilt</th>\n",
       "      <th>fips</th>\n",
       "      <th>transactiondate</th>\n",
       "    </tr>\n",
       "  </thead>\n",
       "  <tbody>\n",
       "    <tr>\n",
       "      <th>0</th>\n",
       "      <td>3.0</td>\n",
       "      <td>2.0</td>\n",
       "      <td>1048.0</td>\n",
       "      <td>380118.0</td>\n",
       "      <td>1952.0</td>\n",
       "      <td>6037.0</td>\n",
       "      <td>2017-01-13</td>\n",
       "    </tr>\n",
       "    <tr>\n",
       "      <th>1</th>\n",
       "      <td>3.0</td>\n",
       "      <td>2.0</td>\n",
       "      <td>1324.0</td>\n",
       "      <td>518089.0</td>\n",
       "      <td>1963.0</td>\n",
       "      <td>6037.0</td>\n",
       "      <td>2017-01-13</td>\n",
       "    </tr>\n",
       "    <tr>\n",
       "      <th>2</th>\n",
       "      <td>4.0</td>\n",
       "      <td>3.0</td>\n",
       "      <td>3551.0</td>\n",
       "      <td>1609238.0</td>\n",
       "      <td>1994.0</td>\n",
       "      <td>6037.0</td>\n",
       "      <td>2017-01-13</td>\n",
       "    </tr>\n",
       "    <tr>\n",
       "      <th>3</th>\n",
       "      <td>4.0</td>\n",
       "      <td>3.0</td>\n",
       "      <td>2519.0</td>\n",
       "      <td>106406.0</td>\n",
       "      <td>1965.0</td>\n",
       "      <td>6037.0</td>\n",
       "      <td>2017-01-13</td>\n",
       "    </tr>\n",
       "    <tr>\n",
       "      <th>4</th>\n",
       "      <td>3.0</td>\n",
       "      <td>2.0</td>\n",
       "      <td>1285.0</td>\n",
       "      <td>369853.0</td>\n",
       "      <td>1955.0</td>\n",
       "      <td>6037.0</td>\n",
       "      <td>2017-01-13</td>\n",
       "    </tr>\n",
       "    <tr>\n",
       "      <th>...</th>\n",
       "      <td>...</td>\n",
       "      <td>...</td>\n",
       "      <td>...</td>\n",
       "      <td>...</td>\n",
       "      <td>...</td>\n",
       "      <td>...</td>\n",
       "      <td>...</td>\n",
       "    </tr>\n",
       "    <tr>\n",
       "      <th>52437</th>\n",
       "      <td>4.0</td>\n",
       "      <td>2.0</td>\n",
       "      <td>1248.0</td>\n",
       "      <td>399000.0</td>\n",
       "      <td>1949.0</td>\n",
       "      <td>6037.0</td>\n",
       "      <td>2017-09-13</td>\n",
       "    </tr>\n",
       "    <tr>\n",
       "      <th>52438</th>\n",
       "      <td>6.0</td>\n",
       "      <td>4.0</td>\n",
       "      <td>2989.0</td>\n",
       "      <td>607491.0</td>\n",
       "      <td>1979.0</td>\n",
       "      <td>6037.0</td>\n",
       "      <td>2017-09-13</td>\n",
       "    </tr>\n",
       "    <tr>\n",
       "      <th>52439</th>\n",
       "      <td>2.0</td>\n",
       "      <td>1.0</td>\n",
       "      <td>788.0</td>\n",
       "      <td>263032.0</td>\n",
       "      <td>1951.0</td>\n",
       "      <td>6037.0</td>\n",
       "      <td>2017-09-13</td>\n",
       "    </tr>\n",
       "    <tr>\n",
       "      <th>52440</th>\n",
       "      <td>4.0</td>\n",
       "      <td>3.0</td>\n",
       "      <td>2821.0</td>\n",
       "      <td>866027.0</td>\n",
       "      <td>1994.0</td>\n",
       "      <td>6059.0</td>\n",
       "      <td>2017-09-13</td>\n",
       "    </tr>\n",
       "    <tr>\n",
       "      <th>52441</th>\n",
       "      <td>3.0</td>\n",
       "      <td>3.0</td>\n",
       "      <td>1299.0</td>\n",
       "      <td>428087.0</td>\n",
       "      <td>1986.0</td>\n",
       "      <td>6059.0</td>\n",
       "      <td>2017-09-13</td>\n",
       "    </tr>\n",
       "  </tbody>\n",
       "</table>\n",
       "<p>52442 rows × 7 columns</p>\n",
       "</div>"
      ],
      "text/plain": [
       "       bedroomcnt  bathroomcnt  calculatedfinishedsquarefeet  \\\n",
       "0             3.0          2.0                        1048.0   \n",
       "1             3.0          2.0                        1324.0   \n",
       "2             4.0          3.0                        3551.0   \n",
       "3             4.0          3.0                        2519.0   \n",
       "4             3.0          2.0                        1285.0   \n",
       "...           ...          ...                           ...   \n",
       "52437         4.0          2.0                        1248.0   \n",
       "52438         6.0          4.0                        2989.0   \n",
       "52439         2.0          1.0                         788.0   \n",
       "52440         4.0          3.0                        2821.0   \n",
       "52441         3.0          3.0                        1299.0   \n",
       "\n",
       "       taxvaluedollarcnt  yearbuilt    fips transactiondate  \n",
       "0               380118.0     1952.0  6037.0      2017-01-13  \n",
       "1               518089.0     1963.0  6037.0      2017-01-13  \n",
       "2              1609238.0     1994.0  6037.0      2017-01-13  \n",
       "3               106406.0     1965.0  6037.0      2017-01-13  \n",
       "4               369853.0     1955.0  6037.0      2017-01-13  \n",
       "...                  ...        ...     ...             ...  \n",
       "52437           399000.0     1949.0  6037.0      2017-09-13  \n",
       "52438           607491.0     1979.0  6037.0      2017-09-13  \n",
       "52439           263032.0     1951.0  6037.0      2017-09-13  \n",
       "52440           866027.0     1994.0  6059.0      2017-09-13  \n",
       "52441           428087.0     1986.0  6059.0      2017-09-13  \n",
       "\n",
       "[52442 rows x 7 columns]"
      ]
     },
     "execution_count": 11,
     "metadata": {},
     "output_type": "execute_result"
    }
   ],
   "source": [
    "zil = get_zillow()\n",
    "zil"
   ]
  },
  {
   "cell_type": "markdown",
   "id": "d057918c",
   "metadata": {},
   "source": [
    "## Initial Data Explolatory Analysis"
   ]
  },
  {
   "cell_type": "code",
   "execution_count": null,
   "id": "fd4c2cf1",
   "metadata": {},
   "outputs": [],
   "source": []
  },
  {
   "cell_type": "code",
   "execution_count": null,
   "id": "907730c9",
   "metadata": {},
   "outputs": [],
   "source": []
  }
 ],
 "metadata": {
  "kernelspec": {
   "display_name": "Python 3 (ipykernel)",
   "language": "python",
   "name": "python3"
  },
  "language_info": {
   "codemirror_mode": {
    "name": "ipython",
    "version": 3
   },
   "file_extension": ".py",
   "mimetype": "text/x-python",
   "name": "python",
   "nbconvert_exporter": "python",
   "pygments_lexer": "ipython3",
   "version": "3.9.7"
  }
 },
 "nbformat": 4,
 "nbformat_minor": 5
}
